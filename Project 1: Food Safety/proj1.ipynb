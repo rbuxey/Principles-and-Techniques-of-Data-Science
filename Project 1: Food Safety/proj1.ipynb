{
 "cells": [
  {
   "cell_type": "code",
   "execution_count": 200,
   "metadata": {
    "deletable": false,
    "editable": false
   },
   "outputs": [],
   "source": [
    "# Initialize Otter\n",
    "import otter\n",
    "grader = otter.Notebook()"
   ]
  },
  {
   "cell_type": "markdown",
   "metadata": {
    "nbgrader": {
     "grade": false,
     "grade_id": "intro-hw2",
     "locked": true,
     "schema_version": 2,
     "solution": false
    }
   },
   "source": [
    "# Project 1: Food Safety\n",
    "## Cleaning and Exploring Data with Pandas\n",
    "## Due Date: Thursday 09/24, 11:59 PM\n",
    "## Collaboration Policy\n",
    "\n",
    "Data science is a collaborative activity. While you may talk with others about\n",
    "the project, we ask that you **write your solutions individually**. If you do\n",
    "discuss the assignments with others please **include their names** at the top\n",
    "of your notebook."
   ]
  },
  {
   "cell_type": "markdown",
   "metadata": {},
   "source": [
    "**Collaborators**: *list collaborators here*"
   ]
  },
  {
   "cell_type": "markdown",
   "metadata": {},
   "source": [
    "\n",
    "## This Assignment\n",
    "\n",
    "In this project, we will investigate restaurant food safety scores for restaurants in San Francisco. The scores and violation information have been [made available by the San Francisco Department of Public Health](https://data.sfgov.org/Health-and-Social-Services/Restaurant-Scores-LIVES-Standard/pyih-qa8i). The main goal for this assignment is to walk through the process of Data Cleaning and EDA. \n",
    "\n",
    "\n",
    "As we clean and explore these data, you will gain practice with:\n",
    "* Reading simple csv files and using Pandas\n",
    "* Working with data at different levels of granularity\n",
    "* Identifying the type of data collected, missing values, anomalies, etc.\n",
    "* Exploring characteristics and distributions of individual variables\n",
    "\n",
    "## Score Breakdown \n",
    "Question | Points\n",
    "--- | ---\n",
    "1a | 1\n",
    "1b | 0\n",
    "1c | 0\n",
    "1d | 3\n",
    "1e | 1\n",
    "2a | 1\n",
    "2b | 1\n",
    "2ci | 1\n",
    "2cii | 1\n",
    "2d | 2\n",
    "3a | 1\n",
    "3b | 2\n",
    "3ci | 1\n",
    "3cii | 1\n",
    "3d | 3\n",
    "3e | 2\n",
    "3f | 2\n",
    "4a | 1\n",
    "4bi | 1\n",
    "4bii | 1\n",
    "4biii | 1\n",
    "4ci | 1\n",
    "4cii | 1\n",
    "4ciii | 1\n",
    "4civ | 1\n",
    "4di | 2\n",
    "4dii | 2\n",
    "4e | 2\n",
    "5a | 2\n",
    "5b | 3\n",
    "5c | 2\n",
    "5d | 2\n",
    "6a|1\n",
    "6b|2\n",
    "7a|2\n",
    "7b|1\n",
    "7ci|4\n",
    "7cii|2\n",
    "7d|2\n",
    "7e|1\n",
    "7f|1\n",
    "7g|3\n",
    "8a|4\n",
    "8b|4\n",
    "Total | 73"
   ]
  },
  {
   "cell_type": "markdown",
   "metadata": {},
   "source": [
    "## Before You Start\n",
    "\n",
    "For each question in the assignment, please write down your answer in the answer cell(s) right below the question. \n",
    "\n",
    "We understand that it is helpful to have extra cells breaking down the process towards reaching your final answer. If you happen to create new cells below your answer to run codes, **NEVER** add cells between a question cell and the answer cell below it. It will cause errors when we run the autograder, and it will sometimes cause a failure to generate the PDF file.\n",
    "\n",
    "**Important note: The local autograder tests will not be comprehensive. You can pass the automated tests in your notebook but still fail tests in the autograder.** Please be sure to check your results carefully.\n",
    "\n",
    "Finally, unless we state otherwise, try to avoid using python for loops or list comprehensions.  The majority of this assignment can be done using builtin commands in Pandas and numpy.  \n"
   ]
  },
  {
   "cell_type": "code",
   "execution_count": 201,
   "metadata": {
    "nbgrader": {
     "grade": false,
     "grade_id": "import",
     "locked": true,
     "schema_version": 2,
     "solution": false
    }
   },
   "outputs": [],
   "source": [
    "import numpy as np\n",
    "import pandas as pd\n",
    "\n",
    "import matplotlib\n",
    "import matplotlib.pyplot as plt\n",
    "import seaborn as sns\n",
    "sns.set()\n",
    "plt.style.use('fivethirtyeight')\n",
    "\n",
    "import zipfile\n",
    "import os # Used to interact with the file system"
   ]
  },
  {
   "cell_type": "markdown",
   "metadata": {
    "nbgrader": {
     "grade": false,
     "grade_id": "download",
     "locked": true,
     "schema_version": 2,
     "solution": false
    }
   },
   "source": [
    "## Obtaining the Data\n",
    "\n",
    "### File Systems and I/O\n",
    "\n"
   ]
  },
  {
   "cell_type": "markdown",
   "metadata": {},
   "source": [
    "In general, we will focus on using python commands to investigate files.  However, it can sometimes be easier to use shell commands in your local operating system.  The following cells demonstrate how to do this."
   ]
  },
  {
   "cell_type": "code",
   "execution_count": 202,
   "metadata": {},
   "outputs": [],
   "source": [
    "from pathlib import Path\n",
    "data_dir = Path('.')\n",
    "data_dir.mkdir(exist_ok = True)\n",
    "file_path = data_dir / Path('data.zip')\n",
    "dest_path = file_path"
   ]
  },
  {
   "cell_type": "markdown",
   "metadata": {},
   "source": [
    "After running the cell above, if you list the contents of the directory containing this notebook, you should see `data.zip`.\n",
    "\n",
    "*Note*: The command below starts with an `!`. This tells our Jupyter notebook to pass this command to the operating system. In this case, the command is the `ls` Unix command which lists files in the current directory."
   ]
  },
  {
   "cell_type": "code",
   "execution_count": 203,
   "metadata": {},
   "outputs": [
    {
     "name": "stdout",
     "output_type": "stream",
     "text": [
      "data\t  ds100_utils.py  proj1.ipynb  proj1.zip    tests\r\n",
      "data.zip  pics\t\t  proj1.pdf    __pycache__\r\n"
     ]
    }
   ],
   "source": [
    "!ls "
   ]
  },
  {
   "cell_type": "markdown",
   "metadata": {},
   "source": [
    "## 1: Loading Food Safety Data\n",
    "\n",
    "We have data, but we don't have any specific questions about the data yet. Let's focus on understanding the structure of the data; this involves answering questions such as:\n",
    "\n",
    "* Is the data in a standard format or encoding?\n",
    "* Is the data organized in records?\n",
    "* What are the fields in each record?\n",
    "\n",
    "Let's start by looking at the contents of `data.zip`. It's not a just single file but rather a compressed directory of multiple files. We could inspect it by uncompressing it using a shell command such as `!unzip data.zip`, but in this project we're going to do almost everything in Python for maximum portability."
   ]
  },
  {
   "cell_type": "markdown",
   "metadata": {
    "deletable": false,
    "editable": false
   },
   "source": [
    "## Question 1a: Looking Inside and Extracting the Zip Files\n",
    "\n",
    "Assign `my_zip` to a `zipfile.Zipfile` object representing `data.zip`, and assign `list_names` to a list of all the names of the contents in `data.zip`.\n",
    "\n",
    "Hint: The [Python docs](https://docs.python.org/3/library/zipfile.html) describe how to create a `zipfile.ZipFile` object.\n",
    "\n",
    "<!--\n",
    "BEGIN QUESTION\n",
    "name: q1a\n",
    "points: 1\n",
    "-->"
   ]
  },
  {
   "cell_type": "code",
   "execution_count": 204,
   "metadata": {},
   "outputs": [
    {
     "data": {
      "text/plain": [
       "['data/',\n",
       " 'data/bus.csv',\n",
       " 'data/ins.csv',\n",
       " 'data/ins2vio.csv',\n",
       " 'data/vio.csv',\n",
       " 'data/sf_zipcodes.json',\n",
       " 'data/legend.csv']"
      ]
     },
     "execution_count": 204,
     "metadata": {},
     "output_type": "execute_result"
    }
   ],
   "source": [
    "my_zip = zipfile.ZipFile(dest_path, mode='r')\n",
    "list_names = my_zip.namelist()\n",
    "list_names"
   ]
  },
  {
   "cell_type": "code",
   "execution_count": 205,
   "metadata": {
    "deletable": false,
    "editable": false
   },
   "outputs": [
    {
     "data": {
      "text/html": [
       "\n",
       "    \n",
       "    \n",
       "        <p>All tests passed!</p>\n",
       "    \n",
       "    "
      ],
      "text/plain": [
       "\n",
       "    All tests passed!\n",
       "    "
      ]
     },
     "execution_count": 205,
     "metadata": {},
     "output_type": "execute_result"
    }
   ],
   "source": [
    "grader.check(\"q1a\")"
   ]
  },
  {
   "cell_type": "markdown",
   "metadata": {},
   "source": [
    "In your answer above, if you have written something like `zipfile.ZipFile('data.zip', ...)`, we suggest changing it to read `zipfile.ZipFile(dest_path, ...)`. In general, we **strongly suggest having your filenames hard coded as string literals only once** in a notebook. It is very dangerous to hard code things twice because if you change one but forget to change the other, you can end up with bugs that are very hard to find."
   ]
  },
  {
   "cell_type": "markdown",
   "metadata": {},
   "source": [
    "Now display the files' names and their sizes. Format your solution by printing each file and its size on a new line.\n",
    "\n",
    "If you're not sure how to proceed, read about the attributes of a `ZipFile` object in the Python docs linked above."
   ]
  },
  {
   "cell_type": "code",
   "execution_count": 206,
   "metadata": {},
   "outputs": [
    {
     "data": {
      "text/html": [
       "<div>\n",
       "<style scoped>\n",
       "    .dataframe tbody tr th:only-of-type {\n",
       "        vertical-align: middle;\n",
       "    }\n",
       "\n",
       "    .dataframe tbody tr th {\n",
       "        vertical-align: top;\n",
       "    }\n",
       "\n",
       "    .dataframe thead th {\n",
       "        text-align: right;\n",
       "    }\n",
       "</style>\n",
       "<table border=\"1\" class=\"dataframe\">\n",
       "  <thead>\n",
       "    <tr style=\"text-align: right;\">\n",
       "      <th></th>\n",
       "      <th>files names</th>\n",
       "      <th>sizes</th>\n",
       "    </tr>\n",
       "  </thead>\n",
       "  <tbody>\n",
       "    <tr>\n",
       "      <th>0</th>\n",
       "      <td>data/</td>\n",
       "      <td>0</td>\n",
       "    </tr>\n",
       "    <tr>\n",
       "      <th>1</th>\n",
       "      <td>data/bus.csv</td>\n",
       "      <td>164496</td>\n",
       "    </tr>\n",
       "    <tr>\n",
       "      <th>2</th>\n",
       "      <td>data/ins.csv</td>\n",
       "      <td>200072</td>\n",
       "    </tr>\n",
       "    <tr>\n",
       "      <th>3</th>\n",
       "      <td>data/ins2vio.csv</td>\n",
       "      <td>242650</td>\n",
       "    </tr>\n",
       "    <tr>\n",
       "      <th>4</th>\n",
       "      <td>data/vio.csv</td>\n",
       "      <td>1390</td>\n",
       "    </tr>\n",
       "    <tr>\n",
       "      <th>5</th>\n",
       "      <td>data/sf_zipcodes.json</td>\n",
       "      <td>135</td>\n",
       "    </tr>\n",
       "    <tr>\n",
       "      <th>6</th>\n",
       "      <td>data/legend.csv</td>\n",
       "      <td>104</td>\n",
       "    </tr>\n",
       "  </tbody>\n",
       "</table>\n",
       "</div>"
      ],
      "text/plain": [
       "             files names   sizes\n",
       "0                  data/       0\n",
       "1           data/bus.csv  164496\n",
       "2           data/ins.csv  200072\n",
       "3       data/ins2vio.csv  242650\n",
       "4           data/vio.csv    1390\n",
       "5  data/sf_zipcodes.json     135\n",
       "6        data/legend.csv     104"
      ]
     },
     "execution_count": 206,
     "metadata": {},
     "output_type": "execute_result"
    }
   ],
   "source": [
    "pd.DataFrame({'files names': list_names, 'sizes': [size.compress_size for size in my_zip.infolist()]})"
   ]
  },
  {
   "cell_type": "markdown",
   "metadata": {},
   "source": [
    "Often when working with zipped data, we'll never unzip the actual zipfile. This saves space on our local computer. However, for this project the files are small, so we're just going to unzip everything. This has the added benefit that you can look inside the csv files using a text editor, which might be handy for understanding the structure of the files. The cell below will unzip the csv files into a subdirectory called `data`. Simply run this cell, i.e. don't modify it."
   ]
  },
  {
   "cell_type": "code",
   "execution_count": 207,
   "metadata": {},
   "outputs": [
    {
     "name": "stdout",
     "output_type": "stream",
     "text": [
      "bus.csv  ins2vio.csv  ins.csv  legend.csv  sf_zipcodes.json  vio.csv\r\n"
     ]
    }
   ],
   "source": [
    "data_dir = Path('.')\n",
    "my_zip.extractall(data_dir)\n",
    "!ls {data_dir / Path(\"data\")}"
   ]
  },
  {
   "cell_type": "markdown",
   "metadata": {},
   "source": [
    "The cell above created a folder called `data`, and in it there should be five CSV files. Let's open up `legend.csv` to see its contents. To do this, click on 'Jupyter' in the top left, then navigate to `fa20/proj/proj1/data/` and click on `legend.csv`. The file will open up in another tab. You should see something that looks like:\n",
    "\n",
    "    \"Minimum_Score\",\"Maximum_Score\",\"Description\"\n",
    "    0,70,\"Poor\"\n",
    "    71,85,\"Needs Improvement\"\n",
    "    86,90,\"Adequate\"\n",
    "    91,100,\"Good\""
   ]
  },
  {
   "cell_type": "markdown",
   "metadata": {},
   "source": [
    "## Question 1b\n",
    "\n",
    "The `legend.csv` file does indeed look like a well-formed CSV file. Let's check the other three files. Rather than opening up each file manually, let's use Python to print out the first 5 lines of each. The `ds100_utils` library has a method called `head` that will allow you to retrieve the first N lines of a file as a list. For example `ds100_utils.head('data/legend.csv', 5)` will return the first 5 lines of \"data/legend.csv\". Try using this function to print out the first 5 lines of all six files that we just extracted from the zipfile."
   ]
  },
  {
   "cell_type": "code",
   "execution_count": 208,
   "metadata": {},
   "outputs": [],
   "source": [
    "import ds100_utils\n",
    "\n",
    "csv_list = list_names[1:]\n",
    "\n",
    "for csv in csv_list:\n",
    "    ds100_utils.head(csv, 5)"
   ]
  },
  {
   "cell_type": "markdown",
   "metadata": {},
   "source": [
    "## Question 1c: Reading in the Files\n",
    "\n",
    "Based on the above information, let's attempt to load `bus.csv`, `ins2vio.csv`, `ins.csv`, and `vio.csv` into pandas dataframes with the following names: `bus`, `ins2vio`, `ins`, and `vio` respectively.\n",
    "\n",
    "*Note:* Because of character encoding issues one of the files (`bus`) will require an additional argument `encoding='ISO-8859-1'` when calling `pd.read_csv`. At some point in your future, you should read all about [character encodings](https://diveintopython3.problemsolving.io/strings.html). We won't discuss these in detail in DS100."
   ]
  },
  {
   "cell_type": "code",
   "execution_count": 209,
   "metadata": {},
   "outputs": [],
   "source": [
    "# path to directory containing data\n",
    "dsDir = Path('data')\n",
    "\n",
    "bus = pd.read_csv('data/bus.csv', encoding='ISO-8859-1')\n",
    "ins2vio = pd.read_csv('data/ins2vio.csv')\n",
    "ins = pd.read_csv('data/ins.csv')\n",
    "vio = pd.read_csv('data/vio.csv')\n",
    "\n",
    "\n",
    "#This code is essential for the autograder to function properly. Do not edit\n",
    "ins_test = ins"
   ]
  },
  {
   "cell_type": "markdown",
   "metadata": {},
   "source": [
    "Now that you've read in the files, let's try some `pd.DataFrame` methods ([docs](https://pandas.pydata.org/pandas-docs/version/0.21/generated/pandas.DataFrame.html)).\n",
    "Use the `DataFrame.head` method to show the top few lines of the `bus`, `ins`, and `vio` dataframes. To show multiple return outputs in one single cell, you can use `display()`. "
   ]
  },
  {
   "cell_type": "code",
   "execution_count": 210,
   "metadata": {},
   "outputs": [
    {
     "data": {
      "text/html": [
       "<div>\n",
       "<style scoped>\n",
       "    .dataframe tbody tr th:only-of-type {\n",
       "        vertical-align: middle;\n",
       "    }\n",
       "\n",
       "    .dataframe tbody tr th {\n",
       "        vertical-align: top;\n",
       "    }\n",
       "\n",
       "    .dataframe thead th {\n",
       "        text-align: right;\n",
       "    }\n",
       "</style>\n",
       "<table border=\"1\" class=\"dataframe\">\n",
       "  <thead>\n",
       "    <tr style=\"text-align: right;\">\n",
       "      <th></th>\n",
       "      <th>business id column</th>\n",
       "      <th>name</th>\n",
       "      <th>address</th>\n",
       "      <th>city</th>\n",
       "      <th>state</th>\n",
       "      <th>postal_code</th>\n",
       "      <th>latitude</th>\n",
       "      <th>longitude</th>\n",
       "      <th>phone_number</th>\n",
       "    </tr>\n",
       "  </thead>\n",
       "  <tbody>\n",
       "    <tr>\n",
       "      <th>0</th>\n",
       "      <td>1000</td>\n",
       "      <td>HEUNG YUEN RESTAURANT</td>\n",
       "      <td>3279 22nd St</td>\n",
       "      <td>San Francisco</td>\n",
       "      <td>CA</td>\n",
       "      <td>94110</td>\n",
       "      <td>37.755282</td>\n",
       "      <td>-122.420493</td>\n",
       "      <td>-9999</td>\n",
       "    </tr>\n",
       "    <tr>\n",
       "      <th>1</th>\n",
       "      <td>100010</td>\n",
       "      <td>ILLY CAFFE SF_PIER 39</td>\n",
       "      <td>PIER 39  K-106-B</td>\n",
       "      <td>San Francisco</td>\n",
       "      <td>CA</td>\n",
       "      <td>94133</td>\n",
       "      <td>-9999.000000</td>\n",
       "      <td>-9999.000000</td>\n",
       "      <td>14154827284</td>\n",
       "    </tr>\n",
       "    <tr>\n",
       "      <th>2</th>\n",
       "      <td>100017</td>\n",
       "      <td>AMICI'S EAST COAST PIZZERIA</td>\n",
       "      <td>475 06th St</td>\n",
       "      <td>San Francisco</td>\n",
       "      <td>CA</td>\n",
       "      <td>94103</td>\n",
       "      <td>-9999.000000</td>\n",
       "      <td>-9999.000000</td>\n",
       "      <td>14155279839</td>\n",
       "    </tr>\n",
       "    <tr>\n",
       "      <th>3</th>\n",
       "      <td>100026</td>\n",
       "      <td>LOCAL CATERING</td>\n",
       "      <td>1566 CARROLL AVE</td>\n",
       "      <td>San Francisco</td>\n",
       "      <td>CA</td>\n",
       "      <td>94124</td>\n",
       "      <td>-9999.000000</td>\n",
       "      <td>-9999.000000</td>\n",
       "      <td>14155860315</td>\n",
       "    </tr>\n",
       "    <tr>\n",
       "      <th>4</th>\n",
       "      <td>100030</td>\n",
       "      <td>OUI OUI! MACARON</td>\n",
       "      <td>2200 JERROLD AVE STE C</td>\n",
       "      <td>San Francisco</td>\n",
       "      <td>CA</td>\n",
       "      <td>94124</td>\n",
       "      <td>-9999.000000</td>\n",
       "      <td>-9999.000000</td>\n",
       "      <td>14159702675</td>\n",
       "    </tr>\n",
       "  </tbody>\n",
       "</table>\n",
       "</div>"
      ],
      "text/plain": [
       "   business id column                         name                 address  \\\n",
       "0                1000        HEUNG YUEN RESTAURANT            3279 22nd St   \n",
       "1              100010        ILLY CAFFE SF_PIER 39        PIER 39  K-106-B   \n",
       "2              100017  AMICI'S EAST COAST PIZZERIA             475 06th St   \n",
       "3              100026               LOCAL CATERING        1566 CARROLL AVE   \n",
       "4              100030             OUI OUI! MACARON  2200 JERROLD AVE STE C   \n",
       "\n",
       "            city state postal_code     latitude    longitude  phone_number  \n",
       "0  San Francisco    CA       94110    37.755282  -122.420493         -9999  \n",
       "1  San Francisco    CA       94133 -9999.000000 -9999.000000   14154827284  \n",
       "2  San Francisco    CA       94103 -9999.000000 -9999.000000   14155279839  \n",
       "3  San Francisco    CA       94124 -9999.000000 -9999.000000   14155860315  \n",
       "4  San Francisco    CA       94124 -9999.000000 -9999.000000   14159702675  "
      ]
     },
     "execution_count": 210,
     "metadata": {},
     "output_type": "execute_result"
    }
   ],
   "source": [
    "bus.head()"
   ]
  },
  {
   "cell_type": "code",
   "execution_count": 211,
   "metadata": {},
   "outputs": [
    {
     "data": {
      "text/html": [
       "<div>\n",
       "<style scoped>\n",
       "    .dataframe tbody tr th:only-of-type {\n",
       "        vertical-align: middle;\n",
       "    }\n",
       "\n",
       "    .dataframe tbody tr th {\n",
       "        vertical-align: top;\n",
       "    }\n",
       "\n",
       "    .dataframe thead th {\n",
       "        text-align: right;\n",
       "    }\n",
       "</style>\n",
       "<table border=\"1\" class=\"dataframe\">\n",
       "  <thead>\n",
       "    <tr style=\"text-align: right;\">\n",
       "      <th></th>\n",
       "      <th>iid</th>\n",
       "      <th>vid</th>\n",
       "    </tr>\n",
       "  </thead>\n",
       "  <tbody>\n",
       "    <tr>\n",
       "      <th>0</th>\n",
       "      <td>97975_20190725</td>\n",
       "      <td>103124</td>\n",
       "    </tr>\n",
       "    <tr>\n",
       "      <th>1</th>\n",
       "      <td>85986_20161011</td>\n",
       "      <td>103114</td>\n",
       "    </tr>\n",
       "    <tr>\n",
       "      <th>2</th>\n",
       "      <td>95754_20190327</td>\n",
       "      <td>103124</td>\n",
       "    </tr>\n",
       "    <tr>\n",
       "      <th>3</th>\n",
       "      <td>77005_20170429</td>\n",
       "      <td>103120</td>\n",
       "    </tr>\n",
       "    <tr>\n",
       "      <th>4</th>\n",
       "      <td>4794_20181030</td>\n",
       "      <td>103138</td>\n",
       "    </tr>\n",
       "  </tbody>\n",
       "</table>\n",
       "</div>"
      ],
      "text/plain": [
       "              iid     vid\n",
       "0  97975_20190725  103124\n",
       "1  85986_20161011  103114\n",
       "2  95754_20190327  103124\n",
       "3  77005_20170429  103120\n",
       "4   4794_20181030  103138"
      ]
     },
     "execution_count": 211,
     "metadata": {},
     "output_type": "execute_result"
    }
   ],
   "source": [
    "ins2vio.head()"
   ]
  },
  {
   "cell_type": "code",
   "execution_count": 212,
   "metadata": {},
   "outputs": [
    {
     "data": {
      "text/html": [
       "<div>\n",
       "<style scoped>\n",
       "    .dataframe tbody tr th:only-of-type {\n",
       "        vertical-align: middle;\n",
       "    }\n",
       "\n",
       "    .dataframe tbody tr th {\n",
       "        vertical-align: top;\n",
       "    }\n",
       "\n",
       "    .dataframe thead th {\n",
       "        text-align: right;\n",
       "    }\n",
       "</style>\n",
       "<table border=\"1\" class=\"dataframe\">\n",
       "  <thead>\n",
       "    <tr style=\"text-align: right;\">\n",
       "      <th></th>\n",
       "      <th>iid</th>\n",
       "      <th>date</th>\n",
       "      <th>score</th>\n",
       "      <th>type</th>\n",
       "    </tr>\n",
       "  </thead>\n",
       "  <tbody>\n",
       "    <tr>\n",
       "      <th>0</th>\n",
       "      <td>100010_20190329</td>\n",
       "      <td>03/29/2019 12:00:00 AM</td>\n",
       "      <td>-1</td>\n",
       "      <td>New Construction</td>\n",
       "    </tr>\n",
       "    <tr>\n",
       "      <th>1</th>\n",
       "      <td>100010_20190403</td>\n",
       "      <td>04/03/2019 12:00:00 AM</td>\n",
       "      <td>100</td>\n",
       "      <td>Routine - Unscheduled</td>\n",
       "    </tr>\n",
       "    <tr>\n",
       "      <th>2</th>\n",
       "      <td>100017_20190417</td>\n",
       "      <td>04/17/2019 12:00:00 AM</td>\n",
       "      <td>-1</td>\n",
       "      <td>New Ownership</td>\n",
       "    </tr>\n",
       "    <tr>\n",
       "      <th>3</th>\n",
       "      <td>100017_20190816</td>\n",
       "      <td>08/16/2019 12:00:00 AM</td>\n",
       "      <td>91</td>\n",
       "      <td>Routine - Unscheduled</td>\n",
       "    </tr>\n",
       "    <tr>\n",
       "      <th>4</th>\n",
       "      <td>100017_20190826</td>\n",
       "      <td>08/26/2019 12:00:00 AM</td>\n",
       "      <td>-1</td>\n",
       "      <td>Reinspection/Followup</td>\n",
       "    </tr>\n",
       "  </tbody>\n",
       "</table>\n",
       "</div>"
      ],
      "text/plain": [
       "               iid                    date  score                   type\n",
       "0  100010_20190329  03/29/2019 12:00:00 AM     -1       New Construction\n",
       "1  100010_20190403  04/03/2019 12:00:00 AM    100  Routine - Unscheduled\n",
       "2  100017_20190417  04/17/2019 12:00:00 AM     -1          New Ownership\n",
       "3  100017_20190816  08/16/2019 12:00:00 AM     91  Routine - Unscheduled\n",
       "4  100017_20190826  08/26/2019 12:00:00 AM     -1  Reinspection/Followup"
      ]
     },
     "execution_count": 212,
     "metadata": {},
     "output_type": "execute_result"
    }
   ],
   "source": [
    "ins.head()"
   ]
  },
  {
   "cell_type": "code",
   "execution_count": 213,
   "metadata": {},
   "outputs": [
    {
     "data": {
      "text/html": [
       "<div>\n",
       "<style scoped>\n",
       "    .dataframe tbody tr th:only-of-type {\n",
       "        vertical-align: middle;\n",
       "    }\n",
       "\n",
       "    .dataframe tbody tr th {\n",
       "        vertical-align: top;\n",
       "    }\n",
       "\n",
       "    .dataframe thead th {\n",
       "        text-align: right;\n",
       "    }\n",
       "</style>\n",
       "<table border=\"1\" class=\"dataframe\">\n",
       "  <thead>\n",
       "    <tr style=\"text-align: right;\">\n",
       "      <th></th>\n",
       "      <th>description</th>\n",
       "      <th>risk_category</th>\n",
       "      <th>vid</th>\n",
       "    </tr>\n",
       "  </thead>\n",
       "  <tbody>\n",
       "    <tr>\n",
       "      <th>0</th>\n",
       "      <td>Consumer advisory not provided for raw or unde...</td>\n",
       "      <td>Moderate Risk</td>\n",
       "      <td>103128</td>\n",
       "    </tr>\n",
       "    <tr>\n",
       "      <th>1</th>\n",
       "      <td>Contaminated or adulterated food</td>\n",
       "      <td>High Risk</td>\n",
       "      <td>103108</td>\n",
       "    </tr>\n",
       "    <tr>\n",
       "      <th>2</th>\n",
       "      <td>Discharge from employee nose mouth or eye</td>\n",
       "      <td>Moderate Risk</td>\n",
       "      <td>103117</td>\n",
       "    </tr>\n",
       "    <tr>\n",
       "      <th>3</th>\n",
       "      <td>Employee eating or smoking</td>\n",
       "      <td>Moderate Risk</td>\n",
       "      <td>103118</td>\n",
       "    </tr>\n",
       "    <tr>\n",
       "      <th>4</th>\n",
       "      <td>Food in poor condition</td>\n",
       "      <td>Moderate Risk</td>\n",
       "      <td>103123</td>\n",
       "    </tr>\n",
       "  </tbody>\n",
       "</table>\n",
       "</div>"
      ],
      "text/plain": [
       "                                         description  risk_category     vid\n",
       "0  Consumer advisory not provided for raw or unde...  Moderate Risk  103128\n",
       "1                   Contaminated or adulterated food      High Risk  103108\n",
       "2          Discharge from employee nose mouth or eye  Moderate Risk  103117\n",
       "3                         Employee eating or smoking  Moderate Risk  103118\n",
       "4                             Food in poor condition  Moderate Risk  103123"
      ]
     },
     "execution_count": 213,
     "metadata": {},
     "output_type": "execute_result"
    }
   ],
   "source": [
    "vio.head()"
   ]
  },
  {
   "cell_type": "markdown",
   "metadata": {},
   "source": [
    "The `DataFrame.describe` method can also be handy for computing summaries of numeric columns of our dataframes. Try it out with each of our 4 dataframes."
   ]
  },
  {
   "cell_type": "code",
   "execution_count": 214,
   "metadata": {},
   "outputs": [
    {
     "data": {
      "text/html": [
       "<div>\n",
       "<style scoped>\n",
       "    .dataframe tbody tr th:only-of-type {\n",
       "        vertical-align: middle;\n",
       "    }\n",
       "\n",
       "    .dataframe tbody tr th {\n",
       "        vertical-align: top;\n",
       "    }\n",
       "\n",
       "    .dataframe thead th {\n",
       "        text-align: right;\n",
       "    }\n",
       "</style>\n",
       "<table border=\"1\" class=\"dataframe\">\n",
       "  <thead>\n",
       "    <tr style=\"text-align: right;\">\n",
       "      <th></th>\n",
       "      <th>business id column</th>\n",
       "      <th>latitude</th>\n",
       "      <th>longitude</th>\n",
       "      <th>phone_number</th>\n",
       "    </tr>\n",
       "  </thead>\n",
       "  <tbody>\n",
       "    <tr>\n",
       "      <th>count</th>\n",
       "      <td>6253.000000</td>\n",
       "      <td>6253.000000</td>\n",
       "      <td>6253.000000</td>\n",
       "      <td>6.253000e+03</td>\n",
       "    </tr>\n",
       "    <tr>\n",
       "      <th>mean</th>\n",
       "      <td>60448.948984</td>\n",
       "      <td>-5575.337966</td>\n",
       "      <td>-5645.817699</td>\n",
       "      <td>4.701819e+09</td>\n",
       "    </tr>\n",
       "    <tr>\n",
       "      <th>std</th>\n",
       "      <td>36480.132445</td>\n",
       "      <td>4983.390142</td>\n",
       "      <td>4903.993683</td>\n",
       "      <td>6.667508e+09</td>\n",
       "    </tr>\n",
       "    <tr>\n",
       "      <th>min</th>\n",
       "      <td>19.000000</td>\n",
       "      <td>-9999.000000</td>\n",
       "      <td>-9999.000000</td>\n",
       "      <td>-9.999000e+03</td>\n",
       "    </tr>\n",
       "    <tr>\n",
       "      <th>25%</th>\n",
       "      <td>18399.000000</td>\n",
       "      <td>-9999.000000</td>\n",
       "      <td>-9999.000000</td>\n",
       "      <td>-9.999000e+03</td>\n",
       "    </tr>\n",
       "    <tr>\n",
       "      <th>50%</th>\n",
       "      <td>75685.000000</td>\n",
       "      <td>-9999.000000</td>\n",
       "      <td>-9999.000000</td>\n",
       "      <td>-9.999000e+03</td>\n",
       "    </tr>\n",
       "    <tr>\n",
       "      <th>75%</th>\n",
       "      <td>90886.000000</td>\n",
       "      <td>37.776494</td>\n",
       "      <td>-122.421553</td>\n",
       "      <td>1.415533e+10</td>\n",
       "    </tr>\n",
       "    <tr>\n",
       "      <th>max</th>\n",
       "      <td>102705.000000</td>\n",
       "      <td>37.824494</td>\n",
       "      <td>0.000000</td>\n",
       "      <td>1.415988e+10</td>\n",
       "    </tr>\n",
       "  </tbody>\n",
       "</table>\n",
       "</div>"
      ],
      "text/plain": [
       "       business id column     latitude    longitude  phone_number\n",
       "count         6253.000000  6253.000000  6253.000000  6.253000e+03\n",
       "mean         60448.948984 -5575.337966 -5645.817699  4.701819e+09\n",
       "std          36480.132445  4983.390142  4903.993683  6.667508e+09\n",
       "min             19.000000 -9999.000000 -9999.000000 -9.999000e+03\n",
       "25%          18399.000000 -9999.000000 -9999.000000 -9.999000e+03\n",
       "50%          75685.000000 -9999.000000 -9999.000000 -9.999000e+03\n",
       "75%          90886.000000    37.776494  -122.421553  1.415533e+10\n",
       "max         102705.000000    37.824494     0.000000  1.415988e+10"
      ]
     },
     "execution_count": 214,
     "metadata": {},
     "output_type": "execute_result"
    }
   ],
   "source": [
    "bus.describe()"
   ]
  },
  {
   "cell_type": "code",
   "execution_count": 215,
   "metadata": {},
   "outputs": [
    {
     "data": {
      "text/html": [
       "<div>\n",
       "<style scoped>\n",
       "    .dataframe tbody tr th:only-of-type {\n",
       "        vertical-align: middle;\n",
       "    }\n",
       "\n",
       "    .dataframe tbody tr th {\n",
       "        vertical-align: top;\n",
       "    }\n",
       "\n",
       "    .dataframe thead th {\n",
       "        text-align: right;\n",
       "    }\n",
       "</style>\n",
       "<table border=\"1\" class=\"dataframe\">\n",
       "  <thead>\n",
       "    <tr style=\"text-align: right;\">\n",
       "      <th></th>\n",
       "      <th>vid</th>\n",
       "    </tr>\n",
       "  </thead>\n",
       "  <tbody>\n",
       "    <tr>\n",
       "      <th>count</th>\n",
       "      <td>40210.000000</td>\n",
       "    </tr>\n",
       "    <tr>\n",
       "      <th>mean</th>\n",
       "      <td>103133.603357</td>\n",
       "    </tr>\n",
       "    <tr>\n",
       "      <th>std</th>\n",
       "      <td>16.863080</td>\n",
       "    </tr>\n",
       "    <tr>\n",
       "      <th>min</th>\n",
       "      <td>103102.000000</td>\n",
       "    </tr>\n",
       "    <tr>\n",
       "      <th>25%</th>\n",
       "      <td>103120.000000</td>\n",
       "    </tr>\n",
       "    <tr>\n",
       "      <th>50%</th>\n",
       "      <td>103133.000000</td>\n",
       "    </tr>\n",
       "    <tr>\n",
       "      <th>75%</th>\n",
       "      <td>103149.000000</td>\n",
       "    </tr>\n",
       "    <tr>\n",
       "      <th>max</th>\n",
       "      <td>103177.000000</td>\n",
       "    </tr>\n",
       "  </tbody>\n",
       "</table>\n",
       "</div>"
      ],
      "text/plain": [
       "                 vid\n",
       "count   40210.000000\n",
       "mean   103133.603357\n",
       "std        16.863080\n",
       "min    103102.000000\n",
       "25%    103120.000000\n",
       "50%    103133.000000\n",
       "75%    103149.000000\n",
       "max    103177.000000"
      ]
     },
     "execution_count": 215,
     "metadata": {},
     "output_type": "execute_result"
    }
   ],
   "source": [
    "ins2vio.describe()"
   ]
  },
  {
   "cell_type": "code",
   "execution_count": 216,
   "metadata": {},
   "outputs": [
    {
     "data": {
      "text/html": [
       "<div>\n",
       "<style scoped>\n",
       "    .dataframe tbody tr th:only-of-type {\n",
       "        vertical-align: middle;\n",
       "    }\n",
       "\n",
       "    .dataframe tbody tr th {\n",
       "        vertical-align: top;\n",
       "    }\n",
       "\n",
       "    .dataframe thead th {\n",
       "        text-align: right;\n",
       "    }\n",
       "</style>\n",
       "<table border=\"1\" class=\"dataframe\">\n",
       "  <thead>\n",
       "    <tr style=\"text-align: right;\">\n",
       "      <th></th>\n",
       "      <th>score</th>\n",
       "    </tr>\n",
       "  </thead>\n",
       "  <tbody>\n",
       "    <tr>\n",
       "      <th>count</th>\n",
       "      <td>26663.000000</td>\n",
       "    </tr>\n",
       "    <tr>\n",
       "      <th>mean</th>\n",
       "      <td>47.227694</td>\n",
       "    </tr>\n",
       "    <tr>\n",
       "      <th>std</th>\n",
       "      <td>46.094369</td>\n",
       "    </tr>\n",
       "    <tr>\n",
       "      <th>min</th>\n",
       "      <td>-1.000000</td>\n",
       "    </tr>\n",
       "    <tr>\n",
       "      <th>25%</th>\n",
       "      <td>-1.000000</td>\n",
       "    </tr>\n",
       "    <tr>\n",
       "      <th>50%</th>\n",
       "      <td>76.000000</td>\n",
       "    </tr>\n",
       "    <tr>\n",
       "      <th>75%</th>\n",
       "      <td>92.000000</td>\n",
       "    </tr>\n",
       "    <tr>\n",
       "      <th>max</th>\n",
       "      <td>100.000000</td>\n",
       "    </tr>\n",
       "  </tbody>\n",
       "</table>\n",
       "</div>"
      ],
      "text/plain": [
       "              score\n",
       "count  26663.000000\n",
       "mean      47.227694\n",
       "std       46.094369\n",
       "min       -1.000000\n",
       "25%       -1.000000\n",
       "50%       76.000000\n",
       "75%       92.000000\n",
       "max      100.000000"
      ]
     },
     "execution_count": 216,
     "metadata": {},
     "output_type": "execute_result"
    }
   ],
   "source": [
    "ins.describe()"
   ]
  },
  {
   "cell_type": "code",
   "execution_count": 217,
   "metadata": {},
   "outputs": [
    {
     "data": {
      "text/html": [
       "<div>\n",
       "<style scoped>\n",
       "    .dataframe tbody tr th:only-of-type {\n",
       "        vertical-align: middle;\n",
       "    }\n",
       "\n",
       "    .dataframe tbody tr th {\n",
       "        vertical-align: top;\n",
       "    }\n",
       "\n",
       "    .dataframe thead th {\n",
       "        text-align: right;\n",
       "    }\n",
       "</style>\n",
       "<table border=\"1\" class=\"dataframe\">\n",
       "  <thead>\n",
       "    <tr style=\"text-align: right;\">\n",
       "      <th></th>\n",
       "      <th>vid</th>\n",
       "    </tr>\n",
       "  </thead>\n",
       "  <tbody>\n",
       "    <tr>\n",
       "      <th>count</th>\n",
       "      <td>65.000000</td>\n",
       "    </tr>\n",
       "    <tr>\n",
       "      <th>mean</th>\n",
       "      <td>103136.276923</td>\n",
       "    </tr>\n",
       "    <tr>\n",
       "      <th>std</th>\n",
       "      <td>21.001866</td>\n",
       "    </tr>\n",
       "    <tr>\n",
       "      <th>min</th>\n",
       "      <td>103102.000000</td>\n",
       "    </tr>\n",
       "    <tr>\n",
       "      <th>25%</th>\n",
       "      <td>103119.000000</td>\n",
       "    </tr>\n",
       "    <tr>\n",
       "      <th>50%</th>\n",
       "      <td>103135.000000</td>\n",
       "    </tr>\n",
       "    <tr>\n",
       "      <th>75%</th>\n",
       "      <td>103153.000000</td>\n",
       "    </tr>\n",
       "    <tr>\n",
       "      <th>max</th>\n",
       "      <td>103177.000000</td>\n",
       "    </tr>\n",
       "  </tbody>\n",
       "</table>\n",
       "</div>"
      ],
      "text/plain": [
       "                 vid\n",
       "count      65.000000\n",
       "mean   103136.276923\n",
       "std        21.001866\n",
       "min    103102.000000\n",
       "25%    103119.000000\n",
       "50%    103135.000000\n",
       "75%    103153.000000\n",
       "max    103177.000000"
      ]
     },
     "execution_count": 217,
     "metadata": {},
     "output_type": "execute_result"
    }
   ],
   "source": [
    "vio.describe()"
   ]
  },
  {
   "cell_type": "markdown",
   "metadata": {},
   "source": [
    "Now, we perform some sanity checks for you to verify that you loaded the data with the right structure. Run the following cells to load some basic utilities (you do not need to change these at all):"
   ]
  },
  {
   "cell_type": "markdown",
   "metadata": {},
   "source": [
    "First, we check the basic structure of the data frames you created:"
   ]
  },
  {
   "cell_type": "code",
   "execution_count": 218,
   "metadata": {},
   "outputs": [],
   "source": [
    "assert all(bus.columns == ['business id column', 'name', 'address', 'city', 'state', 'postal_code',\n",
    "                           'latitude', 'longitude', 'phone_number'])\n",
    "assert 6250 <= len(bus) <= 6260\n",
    "\n",
    "assert all(ins.columns == ['iid', 'date', 'score', 'type'])\n",
    "assert 26660 <= len(ins) <= 26670\n",
    "\n",
    "assert all(vio.columns == ['description', 'risk_category', 'vid'])\n",
    "assert 60 <= len(vio) <= 65\n",
    "\n",
    "assert all(ins2vio.columns == ['iid', 'vid'])\n",
    "assert 40210 <= len(ins2vio) <= 40220"
   ]
  },
  {
   "cell_type": "markdown",
   "metadata": {},
   "source": [
    "Next we'll check that the statistics match what we expect. The following are hard-coded statistical summaries of the correct data."
   ]
  },
  {
   "cell_type": "code",
   "execution_count": 219,
   "metadata": {},
   "outputs": [
    {
     "name": "stdout",
     "output_type": "stream",
     "text": [
      "What we expect from your Businesses dataframe:\n"
     ]
    },
    {
     "data": {
      "text/html": [
       "<div>\n",
       "<style scoped>\n",
       "    .dataframe tbody tr th:only-of-type {\n",
       "        vertical-align: middle;\n",
       "    }\n",
       "\n",
       "    .dataframe tbody tr th {\n",
       "        vertical-align: top;\n",
       "    }\n",
       "\n",
       "    .dataframe thead th {\n",
       "        text-align: right;\n",
       "    }\n",
       "</style>\n",
       "<table border=\"1\" class=\"dataframe\">\n",
       "  <thead>\n",
       "    <tr style=\"text-align: right;\">\n",
       "      <th></th>\n",
       "      <th>business id column</th>\n",
       "      <th>latitude</th>\n",
       "      <th>longitude</th>\n",
       "    </tr>\n",
       "  </thead>\n",
       "  <tbody>\n",
       "    <tr>\n",
       "      <th>min</th>\n",
       "      <td>19.0</td>\n",
       "      <td>-9999.000000</td>\n",
       "      <td>-9999.0</td>\n",
       "    </tr>\n",
       "    <tr>\n",
       "      <th>50%</th>\n",
       "      <td>75685.0</td>\n",
       "      <td>-9999.000000</td>\n",
       "      <td>-9999.0</td>\n",
       "    </tr>\n",
       "    <tr>\n",
       "      <th>max</th>\n",
       "      <td>102705.0</td>\n",
       "      <td>37.824494</td>\n",
       "      <td>0.0</td>\n",
       "    </tr>\n",
       "  </tbody>\n",
       "</table>\n",
       "</div>"
      ],
      "text/plain": [
       "     business id column     latitude  longitude\n",
       "min                19.0 -9999.000000    -9999.0\n",
       "50%             75685.0 -9999.000000    -9999.0\n",
       "max            102705.0    37.824494        0.0"
      ]
     },
     "metadata": {},
     "output_type": "display_data"
    },
    {
     "name": "stdout",
     "output_type": "stream",
     "text": [
      "What we expect from your Inspections dataframe:\n"
     ]
    },
    {
     "data": {
      "text/html": [
       "<div>\n",
       "<style scoped>\n",
       "    .dataframe tbody tr th:only-of-type {\n",
       "        vertical-align: middle;\n",
       "    }\n",
       "\n",
       "    .dataframe tbody tr th {\n",
       "        vertical-align: top;\n",
       "    }\n",
       "\n",
       "    .dataframe thead th {\n",
       "        text-align: right;\n",
       "    }\n",
       "</style>\n",
       "<table border=\"1\" class=\"dataframe\">\n",
       "  <thead>\n",
       "    <tr style=\"text-align: right;\">\n",
       "      <th></th>\n",
       "      <th>score</th>\n",
       "    </tr>\n",
       "  </thead>\n",
       "  <tbody>\n",
       "    <tr>\n",
       "      <th>min</th>\n",
       "      <td>-1.0</td>\n",
       "    </tr>\n",
       "    <tr>\n",
       "      <th>50%</th>\n",
       "      <td>76.0</td>\n",
       "    </tr>\n",
       "    <tr>\n",
       "      <th>max</th>\n",
       "      <td>100.0</td>\n",
       "    </tr>\n",
       "  </tbody>\n",
       "</table>\n",
       "</div>"
      ],
      "text/plain": [
       "     score\n",
       "min   -1.0\n",
       "50%   76.0\n",
       "max  100.0"
      ]
     },
     "metadata": {},
     "output_type": "display_data"
    },
    {
     "name": "stdout",
     "output_type": "stream",
     "text": [
      "What we expect from your Violations dataframe:\n"
     ]
    },
    {
     "data": {
      "text/html": [
       "<div>\n",
       "<style scoped>\n",
       "    .dataframe tbody tr th:only-of-type {\n",
       "        vertical-align: middle;\n",
       "    }\n",
       "\n",
       "    .dataframe tbody tr th {\n",
       "        vertical-align: top;\n",
       "    }\n",
       "\n",
       "    .dataframe thead th {\n",
       "        text-align: right;\n",
       "    }\n",
       "</style>\n",
       "<table border=\"1\" class=\"dataframe\">\n",
       "  <thead>\n",
       "    <tr style=\"text-align: right;\">\n",
       "      <th></th>\n",
       "      <th>vid</th>\n",
       "    </tr>\n",
       "  </thead>\n",
       "  <tbody>\n",
       "    <tr>\n",
       "      <th>min</th>\n",
       "      <td>103102.0</td>\n",
       "    </tr>\n",
       "    <tr>\n",
       "      <th>50%</th>\n",
       "      <td>103135.0</td>\n",
       "    </tr>\n",
       "    <tr>\n",
       "      <th>max</th>\n",
       "      <td>103177.0</td>\n",
       "    </tr>\n",
       "  </tbody>\n",
       "</table>\n",
       "</div>"
      ],
      "text/plain": [
       "          vid\n",
       "min  103102.0\n",
       "50%  103135.0\n",
       "max  103177.0"
      ]
     },
     "metadata": {},
     "output_type": "display_data"
    }
   ],
   "source": [
    "bus_summary = pd.DataFrame(**{'columns': ['business id column', 'latitude', 'longitude'],\n",
    " 'data': {'business id column': {'50%': 75685.0, 'max': 102705.0, 'min': 19.0},\n",
    "  'latitude': {'50%': -9999.0, 'max': 37.824494, 'min': -9999.0},\n",
    "  'longitude': {'50%': -9999.0,\n",
    "   'max': 0.0,\n",
    "   'min': -9999.0}},\n",
    " 'index': ['min', '50%', 'max']})\n",
    "\n",
    "ins_summary = pd.DataFrame(**{'columns': ['score'],\n",
    " 'data': {'score': {'50%': 76.0, 'max': 100.0, 'min': -1.0}},\n",
    " 'index': ['min', '50%', 'max']})\n",
    "\n",
    "vio_summary = pd.DataFrame(**{'columns': ['vid'],\n",
    " 'data': {'vid': {'50%': 103135.0, 'max': 103177.0, 'min': 103102.0}},\n",
    " 'index': ['min', '50%', 'max']})\n",
    "\n",
    "from IPython.display import display\n",
    "\n",
    "print('What we expect from your Businesses dataframe:')\n",
    "display(bus_summary)\n",
    "print('What we expect from your Inspections dataframe:')\n",
    "display(ins_summary)\n",
    "print('What we expect from your Violations dataframe:')\n",
    "display(vio_summary)"
   ]
  },
  {
   "cell_type": "markdown",
   "metadata": {},
   "source": [
    "The code below defines a testing function that we'll use to verify that your data has the same statistics as what we expect. Run these cells to define the function. The `df_allclose` function has this name because we are verifying that all of the statistics for your dataframe are close to the expected values. Why not `df_allequal`? It's a bad idea in almost all cases to compare two floating point values like 37.780435, as rounding error can cause spurious failures."
   ]
  },
  {
   "cell_type": "markdown",
   "metadata": {
    "deletable": false,
    "editable": false
   },
   "source": [
    "## Question 1d: Verifying the data\n",
    "\n",
    "Now let's run the automated tests. If your dataframes are correct, then the following cell will seem to do nothing, which is a good thing! However, if your variables don't match the correct answers in the main summary statistics shown above, an exception will be raised.\n",
    "\n",
    "<!--\n",
    "BEGIN QUESTION\n",
    "name: q1d\n",
    "points: 3\n",
    "-->"
   ]
  },
  {
   "cell_type": "code",
   "execution_count": 220,
   "metadata": {},
   "outputs": [],
   "source": [
    "\"\"\"Run this cell to load this utility comparison function that we will use in various\n",
    "tests below (both tests you can see and those we run internally for grading).\n",
    "\n",
    "Do not modify the function in any way.\n",
    "\"\"\"\n",
    "\n",
    "\n",
    "def df_allclose(actual, desired, columns=None, rtol=5e-2):\n",
    "    \"\"\"Compare selected columns of two dataframes on a few summary statistics.\n",
    "    \n",
    "    Compute the min, median and max of the two dataframes on the given columns, and compare\n",
    "    that they match numerically to the given relative tolerance.\n",
    "    \n",
    "    If they don't match, an AssertionError is raised (by `numpy.testing`).\n",
    "    \"\"\"    \n",
    "    # summary statistics to compare on\n",
    "    stats = ['min', '50%', 'max']\n",
    "    \n",
    "    # For the desired values, we can provide a full DF with the same structure as\n",
    "    # the actual data, or pre-computed summary statistics.\n",
    "    # We assume a pre-computed summary was provided if columns is None. In that case, \n",
    "    # `desired` *must* have the same structure as the actual's summary\n",
    "    if columns == None:\n",
    "        des = desired\n",
    "        columns = desired.columns\n",
    "    else:\n",
    "        des = desired[columns].describe().loc[stats]\n",
    "\n",
    "    # Extract summary stats from actual DF\n",
    "    act = actual[columns].describe().loc[stats]\n",
    "\n",
    "    return np.allclose(act, des, rtol)"
   ]
  },
  {
   "cell_type": "code",
   "execution_count": 221,
   "metadata": {
    "deletable": false,
    "editable": false
   },
   "outputs": [
    {
     "data": {
      "text/html": [
       "\n",
       "    \n",
       "    \n",
       "        <p>All tests passed!</p>\n",
       "    \n",
       "    "
      ],
      "text/plain": [
       "\n",
       "    All tests passed!\n",
       "    "
      ]
     },
     "execution_count": 221,
     "metadata": {},
     "output_type": "execute_result"
    }
   ],
   "source": [
    "grader.check(\"q1d\")"
   ]
  },
  {
   "cell_type": "markdown",
   "metadata": {},
   "source": [
    "### Question 1e: Identifying Issues with the Data"
   ]
  },
  {
   "cell_type": "markdown",
   "metadata": {
    "deletable": false,
    "editable": false
   },
   "source": [
    "<!-- BEGIN QUESTION -->\n",
    "\n",
    "Use the `head` command on your three files again. This time, describe at least one potential problem with the data you see. Consider issues with missing values and bad data.\n",
    "\n",
    "<!--\n",
    "BEGIN QUESTION\n",
    "name: q1e\n",
    "manual: True\n",
    "points: 1\n",
    "-->"
   ]
  },
  {
   "cell_type": "markdown",
   "metadata": {},
   "source": [
    "_One potential problem I noticed was that there was some kind of data input that represents no value to a human but can be confusing when programming. For example, instead of NaN, there are -9999 values for latitude and longitude which, to me, indicates that there is no data existing for that point and that -9999 is simply a placeholder, but it makes it harder because a computer cannot automatically understand that._"
   ]
  },
  {
   "cell_type": "markdown",
   "metadata": {},
   "source": [
    "<!-- END QUESTION -->\n",
    "\n",
    "\n",
    "\n",
    "We will explore each file in turn, including determining its granularity and primary keys and exploring many of the variables individually. Let's begin with the businesses file, which has been read into the `bus` dataframe."
   ]
  },
  {
   "cell_type": "markdown",
   "metadata": {
    "nbgrader": {
     "grade": false,
     "grade_id": "business-data",
     "locked": true,
     "schema_version": 2,
     "solution": false
    }
   },
   "source": [
    "<br/><br/><br/>\n",
    "\n",
    "---\n",
    "\n",
    "<br/><br/><br/>\n",
    "\n",
    "# 2: Examining the Business Data File\n",
    "\n",
    "From its name alone, we expect the `bus.csv` file to contain information about the restaurants. Let's investigate the granularity of this dataset."
   ]
  },
  {
   "cell_type": "code",
   "execution_count": 222,
   "metadata": {},
   "outputs": [
    {
     "data": {
      "text/html": [
       "<div>\n",
       "<style scoped>\n",
       "    .dataframe tbody tr th:only-of-type {\n",
       "        vertical-align: middle;\n",
       "    }\n",
       "\n",
       "    .dataframe tbody tr th {\n",
       "        vertical-align: top;\n",
       "    }\n",
       "\n",
       "    .dataframe thead th {\n",
       "        text-align: right;\n",
       "    }\n",
       "</style>\n",
       "<table border=\"1\" class=\"dataframe\">\n",
       "  <thead>\n",
       "    <tr style=\"text-align: right;\">\n",
       "      <th></th>\n",
       "      <th>business id column</th>\n",
       "      <th>name</th>\n",
       "      <th>address</th>\n",
       "      <th>city</th>\n",
       "      <th>state</th>\n",
       "      <th>postal_code</th>\n",
       "      <th>latitude</th>\n",
       "      <th>longitude</th>\n",
       "      <th>phone_number</th>\n",
       "    </tr>\n",
       "  </thead>\n",
       "  <tbody>\n",
       "    <tr>\n",
       "      <th>0</th>\n",
       "      <td>1000</td>\n",
       "      <td>HEUNG YUEN RESTAURANT</td>\n",
       "      <td>3279 22nd St</td>\n",
       "      <td>San Francisco</td>\n",
       "      <td>CA</td>\n",
       "      <td>94110</td>\n",
       "      <td>37.755282</td>\n",
       "      <td>-122.420493</td>\n",
       "      <td>-9999</td>\n",
       "    </tr>\n",
       "    <tr>\n",
       "      <th>1</th>\n",
       "      <td>100010</td>\n",
       "      <td>ILLY CAFFE SF_PIER 39</td>\n",
       "      <td>PIER 39  K-106-B</td>\n",
       "      <td>San Francisco</td>\n",
       "      <td>CA</td>\n",
       "      <td>94133</td>\n",
       "      <td>-9999.000000</td>\n",
       "      <td>-9999.000000</td>\n",
       "      <td>14154827284</td>\n",
       "    </tr>\n",
       "    <tr>\n",
       "      <th>2</th>\n",
       "      <td>100017</td>\n",
       "      <td>AMICI'S EAST COAST PIZZERIA</td>\n",
       "      <td>475 06th St</td>\n",
       "      <td>San Francisco</td>\n",
       "      <td>CA</td>\n",
       "      <td>94103</td>\n",
       "      <td>-9999.000000</td>\n",
       "      <td>-9999.000000</td>\n",
       "      <td>14155279839</td>\n",
       "    </tr>\n",
       "    <tr>\n",
       "      <th>3</th>\n",
       "      <td>100026</td>\n",
       "      <td>LOCAL CATERING</td>\n",
       "      <td>1566 CARROLL AVE</td>\n",
       "      <td>San Francisco</td>\n",
       "      <td>CA</td>\n",
       "      <td>94124</td>\n",
       "      <td>-9999.000000</td>\n",
       "      <td>-9999.000000</td>\n",
       "      <td>14155860315</td>\n",
       "    </tr>\n",
       "    <tr>\n",
       "      <th>4</th>\n",
       "      <td>100030</td>\n",
       "      <td>OUI OUI! MACARON</td>\n",
       "      <td>2200 JERROLD AVE STE C</td>\n",
       "      <td>San Francisco</td>\n",
       "      <td>CA</td>\n",
       "      <td>94124</td>\n",
       "      <td>-9999.000000</td>\n",
       "      <td>-9999.000000</td>\n",
       "      <td>14159702675</td>\n",
       "    </tr>\n",
       "  </tbody>\n",
       "</table>\n",
       "</div>"
      ],
      "text/plain": [
       "   business id column                         name                 address  \\\n",
       "0                1000        HEUNG YUEN RESTAURANT            3279 22nd St   \n",
       "1              100010        ILLY CAFFE SF_PIER 39        PIER 39  K-106-B   \n",
       "2              100017  AMICI'S EAST COAST PIZZERIA             475 06th St   \n",
       "3              100026               LOCAL CATERING        1566 CARROLL AVE   \n",
       "4              100030             OUI OUI! MACARON  2200 JERROLD AVE STE C   \n",
       "\n",
       "            city state postal_code     latitude    longitude  phone_number  \n",
       "0  San Francisco    CA       94110    37.755282  -122.420493         -9999  \n",
       "1  San Francisco    CA       94133 -9999.000000 -9999.000000   14154827284  \n",
       "2  San Francisco    CA       94103 -9999.000000 -9999.000000   14155279839  \n",
       "3  San Francisco    CA       94124 -9999.000000 -9999.000000   14155860315  \n",
       "4  San Francisco    CA       94124 -9999.000000 -9999.000000   14159702675  "
      ]
     },
     "execution_count": 222,
     "metadata": {},
     "output_type": "execute_result"
    }
   ],
   "source": [
    "bus.head()"
   ]
  },
  {
   "cell_type": "markdown",
   "metadata": {
    "deletable": false,
    "editable": false
   },
   "source": [
    "<br/><br/><br/>\n",
    "\n",
    "---\n",
    "\n",
    "## Question 2a\n",
    "\n",
    "The `bus` dataframe contains a column called `business id column` which probably corresponds to a unique business id.  However, let's first rename that column to `bid`.  Modify the `bus` dataframe by renaming that column to `bid`.\n",
    "\n",
    "**Note**: In practice we might want to do this renaming when the table is loaded but for grading purposes we will do it here.\n",
    "\n",
    "<!--\n",
    "BEGIN QUESTION\n",
    "name: q2a\n",
    "points: 1\n",
    "-->"
   ]
  },
  {
   "cell_type": "code",
   "execution_count": 223,
   "metadata": {},
   "outputs": [],
   "source": [
    "bus = bus.rename(columns={'business id column': 'bid'})"
   ]
  },
  {
   "cell_type": "code",
   "execution_count": 224,
   "metadata": {
    "deletable": false,
    "editable": false
   },
   "outputs": [
    {
     "data": {
      "text/html": [
       "\n",
       "    \n",
       "    \n",
       "        <p>All tests passed!</p>\n",
       "    \n",
       "    "
      ],
      "text/plain": [
       "\n",
       "    All tests passed!\n",
       "    "
      ]
     },
     "execution_count": 224,
     "metadata": {},
     "output_type": "execute_result"
    }
   ],
   "source": [
    "grader.check(\"q2a\")"
   ]
  },
  {
   "cell_type": "markdown",
   "metadata": {
    "deletable": false,
    "editable": false,
    "nbgrader": {
     "grade": false,
     "grade_id": "q2a",
     "locked": true,
     "schema_version": 2,
     "solution": false
    }
   },
   "source": [
    "<br/><br/><br/>\n",
    "\n",
    "---\n",
    "\n",
    "## Question 2b\n",
    "\n",
    "Examining the entries in `bus`, is the `bid` unique for each record (i.e. each row of data)? Your code should compute the answer, i.e. don't just hard code `True` or `False`.\n",
    "\n",
    "Hint: use `value_counts()` or `unique()` to determine if the `bid` series has any duplicates.\n",
    "\n",
    "<!--\n",
    "BEGIN QUESTION\n",
    "name: q2b\n",
    "points: 1\n",
    "-->"
   ]
  },
  {
   "cell_type": "code",
   "execution_count": 225,
   "metadata": {
    "ExecuteTime": {
     "end_time": "2018-08-18T01:21:53.936572Z",
     "start_time": "2018-08-18T01:21:53.927344Z"
    },
    "nbgrader": {
     "grade": false,
     "grade_id": "q2a-answer",
     "locked": false,
     "schema_version": 2,
     "solution": true
    },
    "tags": [
     "solution"
    ]
   },
   "outputs": [],
   "source": [
    "if len(bus['bid'].unique() == len(bus['bid'])):\n",
    "    is_bid_unique = True\n",
    "else:\n",
    "    is_bid_unique = False"
   ]
  },
  {
   "cell_type": "code",
   "execution_count": 226,
   "metadata": {
    "deletable": false,
    "editable": false
   },
   "outputs": [
    {
     "data": {
      "text/html": [
       "\n",
       "    \n",
       "    \n",
       "        <p>All tests passed!</p>\n",
       "    \n",
       "    "
      ],
      "text/plain": [
       "\n",
       "    All tests passed!\n",
       "    "
      ]
     },
     "execution_count": 226,
     "metadata": {},
     "output_type": "execute_result"
    }
   ],
   "source": [
    "grader.check(\"q2b\")"
   ]
  },
  {
   "cell_type": "markdown",
   "metadata": {
    "deletable": false,
    "editable": false
   },
   "source": [
    "<br/><br/><br/>\n",
    "\n",
    "---\n",
    "\n",
    "\n",
    "## Question 2c\n",
    "\n",
    "In the two cells below create two **series** \n",
    "\n",
    "1. where the index is the `name` of the business and the value is the number of records with that `name`\n",
    "2. where the index is the `address` of the business and the value is the number of records with that `address`\n",
    "\n",
    "Order both series in descending order by count. You may need to use `groupby()`, `size()`, `sort_values()`, or `value_counts()`. \n",
    "\n",
    "**Step 1**\n",
    "\n",
    "<!--\n",
    "BEGIN QUESTION\n",
    "name: q2ci\n",
    "points: 1\n",
    "-->"
   ]
  },
  {
   "cell_type": "code",
   "execution_count": 227,
   "metadata": {},
   "outputs": [
    {
     "data": {
      "text/plain": [
       "Peet's Coffee & Tea                                       20\n",
       "Starbucks Coffee                                          13\n",
       "Jamba Juice                                               10\n",
       "McDonald's                                                10\n",
       "STARBUCKS                                                  9\n",
       "Proper Food                                                9\n",
       "Mixt Greens/Mixt                                           8\n",
       "Specialty's Cafe & Bakery                                  8\n",
       "Philz Coffee                                               7\n",
       "The Organic Coup                                           7\n",
       "Starbucks                                                  7\n",
       "Whole Foods Market                                         7\n",
       "Blue Bottle Coffee                                         7\n",
       "Lee's Deli                                                 6\n",
       "Bon Appetit @ Twitter                                      6\n",
       "BlueStar Refreshment Services @ Uber Technologies, Inc     6\n",
       "La Boulangerie De San Francisco                            5\n",
       "JW Marriott SF Union Square                                5\n",
       "PEET'S COFFEE & TEA                                        5\n",
       "Bon Appetit Management Co                                  5\n",
       "Name: name, dtype: int64"
      ]
     },
     "execution_count": 227,
     "metadata": {},
     "output_type": "execute_result"
    }
   ],
   "source": [
    "name_counts = pd.value_counts(bus['name'])\n",
    "name_counts.head(20)"
   ]
  },
  {
   "cell_type": "code",
   "execution_count": 228,
   "metadata": {
    "deletable": false,
    "editable": false
   },
   "outputs": [
    {
     "data": {
      "text/html": [
       "\n",
       "    \n",
       "    \n",
       "        <p>All tests passed!</p>\n",
       "    \n",
       "    "
      ],
      "text/plain": [
       "\n",
       "    All tests passed!\n",
       "    "
      ]
     },
     "execution_count": 228,
     "metadata": {},
     "output_type": "execute_result"
    }
   ],
   "source": [
    "grader.check(\"q2ci\")"
   ]
  },
  {
   "cell_type": "markdown",
   "metadata": {
    "deletable": false,
    "editable": false
   },
   "source": [
    "**Step 2**\n",
    "\n",
    "<!--\n",
    "BEGIN QUESTION\n",
    "name: q2cii\n",
    "points: 1\n",
    "-->"
   ]
  },
  {
   "cell_type": "code",
   "execution_count": 229,
   "metadata": {},
   "outputs": [
    {
     "data": {
      "text/plain": [
       "Off The Grid              39\n",
       "428 11th St               34\n",
       "2948 Folsom St            17\n",
       "3251 20th Ave             17\n",
       "Pier 41                   16\n",
       "103 Horne Ave             14\n",
       "24 Willie Mays Plaza      13\n",
       "Off the Grid              11\n",
       "1 United Nations Plaza    10\n",
       "2948 Folsom St.           10\n",
       "Name: address, dtype: int64"
      ]
     },
     "execution_count": 229,
     "metadata": {},
     "output_type": "execute_result"
    }
   ],
   "source": [
    "address_counts = pd.value_counts(bus['address'])\n",
    "address_counts.head(10)"
   ]
  },
  {
   "cell_type": "code",
   "execution_count": 230,
   "metadata": {
    "deletable": false,
    "editable": false
   },
   "outputs": [
    {
     "data": {
      "text/html": [
       "\n",
       "    \n",
       "    \n",
       "        <p>All tests passed!</p>\n",
       "    \n",
       "    "
      ],
      "text/plain": [
       "\n",
       "    All tests passed!\n",
       "    "
      ]
     },
     "execution_count": 230,
     "metadata": {},
     "output_type": "execute_result"
    }
   ],
   "source": [
    "grader.check(\"q2cii\")"
   ]
  },
  {
   "cell_type": "markdown",
   "metadata": {
    "deletable": false,
    "editable": false,
    "nbgrader": {
     "grade": false,
     "grade_id": "q2b",
     "locked": true,
     "schema_version": 2,
     "solution": false
    },
    "tags": [
     "written"
    ]
   },
   "source": [
    "<br/><br/><br/>\n",
    "\n",
    "---\n",
    "\n",
    "\n",
    "## Question 2d\n",
    "\n",
    "Based on the above calculations answer each of the following questions by filling the value in the variable.\n",
    "\n",
    "1. What does each record represent?  \n",
    "1. What is the minimal primary key?\n",
    "\n",
    "<!--\n",
    "BEGIN QUESTION\n",
    "name: q2d\n",
    "points: 2\n",
    "-->"
   ]
  },
  {
   "cell_type": "code",
   "execution_count": 231,
   "metadata": {},
   "outputs": [],
   "source": [
    "# What does each record represent?  Valid answers are:\n",
    "#    \"One location of a restaurant.\"\n",
    "#    \"A chain of restaurants.\"\n",
    "#    \"A city block.\"\n",
    "q2d_part1 = 'One location of a restaurant.'\n",
    "\n",
    "# What is the minimal primary key? Valid answers are:\n",
    "#    \"bid\"\n",
    "#    \"bid, name\"\n",
    "#    \"bid, name, address\"\n",
    "q2d_part2 = 'bid'"
   ]
  },
  {
   "cell_type": "code",
   "execution_count": 232,
   "metadata": {
    "deletable": false,
    "editable": false
   },
   "outputs": [
    {
     "data": {
      "text/html": [
       "\n",
       "    \n",
       "    \n",
       "        <p>All tests passed!</p>\n",
       "    \n",
       "    "
      ],
      "text/plain": [
       "\n",
       "    All tests passed!\n",
       "    "
      ]
     },
     "execution_count": 232,
     "metadata": {},
     "output_type": "execute_result"
    }
   ],
   "source": [
    "grader.check(\"q2d\")"
   ]
  },
  {
   "cell_type": "markdown",
   "metadata": {
    "nbgrader": {
     "grade": false,
     "grade_id": "business-data",
     "locked": true,
     "schema_version": 2,
     "solution": false
    }
   },
   "source": [
    "<br/><br/><br/>\n",
    "\n",
    "---\n",
    "\n",
    "<br/><br/><br/>\n",
    "\n",
    "# 3: Cleaning the Business Data Postal Codes\n",
    "\n",
    "The business data contains postal code information that we can use to aggregate the ratings over regions of the city.  Let's examine and clean the postal code field.  The postal code (sometimes also called a ZIP code) partitions the city into regions:\n",
    "\n",
    "<img src=\"https://www.usmapguide.com/wp-content/uploads/2019/03/printable-san-francisco-zip-code-map.jpg\" alt=\"ZIP Code Map\" style=\"width: 600px\">"
   ]
  },
  {
   "cell_type": "markdown",
   "metadata": {
    "deletable": false,
    "editable": false,
    "nbgrader": {
     "grade": false,
     "grade_id": "cell-a4c4a09f1ecf2f4b",
     "locked": true,
     "schema_version": 2,
     "solution": false
    }
   },
   "source": [
    "<br/><br/><br/>\n",
    "\n",
    "---\n",
    "\n",
    "\n",
    "## Question 3a\n",
    "\n",
    "How many restaurants are in each ZIP code? \n",
    "\n",
    "In the cell below, create a **series** where the index is the postal code and the value is the number of records with that postal code in descending order of count. You may need to use `groupby()`, `size()`, or `value_counts()`. Do you notice any odd/invalid zip codes?\n",
    "\n",
    "<!--\n",
    "BEGIN QUESTION\n",
    "name: q3a\n",
    "points: 1\n",
    "-->"
   ]
  },
  {
   "cell_type": "code",
   "execution_count": 233,
   "metadata": {
    "nbgrader": {
     "grade": false,
     "grade_id": "cell-d2151d673e6c36a1",
     "locked": false,
     "schema_version": 2,
     "solution": true
    }
   },
   "outputs": [
    {
     "name": "stdout",
     "output_type": "stream",
     "text": [
      "94103         562\n",
      "94110         555\n",
      "94102         456\n",
      "94107         408\n",
      "94133         398\n",
      "94109         382\n",
      "94111         259\n",
      "94122         255\n",
      "94105         249\n",
      "94118         231\n",
      "94115         230\n",
      "94108         229\n",
      "94124         218\n",
      "94114         200\n",
      "-9999         194\n",
      "94112         192\n",
      "94117         189\n",
      "94123         177\n",
      "94121         157\n",
      "94104         142\n",
      "94132         132\n",
      "94116          97\n",
      "94158          90\n",
      "94134          82\n",
      "94127          67\n",
      "94131          49\n",
      "94130           8\n",
      "94143           5\n",
      "94013           2\n",
      "CA              2\n",
      "94301           2\n",
      "94188           2\n",
      "94101           2\n",
      "94621           1\n",
      "94117-3504      1\n",
      "00000           1\n",
      "94544           1\n",
      "94102-5917      1\n",
      "94901           1\n",
      "95112           1\n",
      "94105-1420      1\n",
      "941102019       1\n",
      "94123-3106      1\n",
      "94129           1\n",
      "92672           1\n",
      "941033148       1\n",
      "95109           1\n",
      "Ca              1\n",
      "94602           1\n",
      "95122           1\n",
      "94105-2907      1\n",
      "95133           1\n",
      "94080           1\n",
      "64110           1\n",
      "941             1\n",
      "94014           1\n",
      "95105           1\n",
      "94124-1917      1\n",
      "95117           1\n",
      "94122-1909      1\n",
      "94518           1\n",
      "95132           1\n",
      "94120           1\n"
     ]
    }
   ],
   "source": [
    "zip_counts = pd.value_counts(bus['postal_code'])\n",
    "print(zip_counts.to_string())"
   ]
  },
  {
   "cell_type": "code",
   "execution_count": 234,
   "metadata": {
    "deletable": false,
    "editable": false
   },
   "outputs": [
    {
     "data": {
      "text/html": [
       "\n",
       "    \n",
       "    \n",
       "        <p>All tests passed!</p>\n",
       "    \n",
       "    "
      ],
      "text/plain": [
       "\n",
       "    All tests passed!\n",
       "    "
      ]
     },
     "execution_count": 234,
     "metadata": {},
     "output_type": "execute_result"
    }
   ],
   "source": [
    "grader.check(\"q3a\")"
   ]
  },
  {
   "cell_type": "markdown",
   "metadata": {
    "deletable": false,
    "editable": false
   },
   "source": [
    "<br/><br/><br/>\n",
    "\n",
    "--- \n",
    "\n",
    "## Question 3b\n",
    "\n",
    "Answer the following questions about the `postal_code` column in the `bus` dataframe.\n",
    "\n",
    "1. The ZIP code column is which of the following type of data:\n",
    "    1. Quantitative Continuous\n",
    "    1. Quantitative Discrete\n",
    "    1. Qualitative Ordinal\n",
    "    1. Qualitative Nominal    \n",
    "1. What Python data type is used to represent a ZIP code?\n",
    "\n",
    "*Note*: ZIP codes and postal codes are the same thing.\n",
    "\n",
    "Please write your answers in the variables below:\n",
    "\n",
    "<!--\n",
    "BEGIN QUESTION\n",
    "name: q3b\n",
    "points: 2\n",
    "-->"
   ]
  },
  {
   "cell_type": "code",
   "execution_count": 235,
   "metadata": {},
   "outputs": [],
   "source": [
    "# The ZIP code column is which of the following type of data:\n",
    "#   \"Quantitative Continuous\" \n",
    "#   \"Quantitative Discrete\"\n",
    "#   \"Qualitative Ordinal\"\n",
    "#   \"Qualitative Nominal\"\n",
    "q3b_part1 = 'Qualitative Nominal'\n",
    "\n",
    "# What Python data type is used to represent a ZIP code? \n",
    "#    \"str\"\n",
    "#    \"int\"\n",
    "#    \"bool\"\n",
    "#    \"float\"\n",
    "q3b_part2 = 'str'"
   ]
  },
  {
   "cell_type": "code",
   "execution_count": 236,
   "metadata": {
    "deletable": false,
    "editable": false
   },
   "outputs": [
    {
     "data": {
      "text/html": [
       "\n",
       "    \n",
       "    \n",
       "        <p>All tests passed!</p>\n",
       "    \n",
       "    "
      ],
      "text/plain": [
       "\n",
       "    All tests passed!\n",
       "    "
      ]
     },
     "execution_count": 236,
     "metadata": {},
     "output_type": "execute_result"
    }
   ],
   "source": [
    "grader.check(\"q3b\")"
   ]
  },
  {
   "cell_type": "markdown",
   "metadata": {},
   "source": [
    "<br/><br/><br/>\n",
    "\n",
    "--- \n",
    "\n",
    "## Question 3c\n",
    "\n",
    "In question 3a we noticed a large number of potentially invalid ZIP codes (e.g., \"Ca\").  These are likely due to data entry errors.  To get a better understanding of the potential errors in the zip codes we will:\n",
    "\n",
    "1. Import a list of valid San Francisco ZIP codes by using `pd.read_json` to load the file `data/sf_zipcodes.json` and extract a **series** of type `str` containing the valid ZIP codes.  *Hint: set `dtype` when invoking `read_json`.*\n",
    "1. Construct a `DataFrame` containing only the businesses which DO NOT have valid ZIP codes.  You will probably want to use the `Series.isin` function. \n"
   ]
  },
  {
   "cell_type": "markdown",
   "metadata": {
    "deletable": false,
    "editable": false
   },
   "source": [
    "**Step 1**\n",
    "\n",
    "<!--\n",
    "BEGIN QUESTION\n",
    "name: q3ci\n",
    "points: 1\n",
    "-->"
   ]
  },
  {
   "cell_type": "code",
   "execution_count": 237,
   "metadata": {},
   "outputs": [
    {
     "data": {
      "text/plain": [
       "0    94102\n",
       "1    94103\n",
       "2    94104\n",
       "3    94105\n",
       "4    94107\n",
       "Name: zip_codes, dtype: object"
      ]
     },
     "execution_count": 237,
     "metadata": {},
     "output_type": "execute_result"
    }
   ],
   "source": [
    "valid_zips = pd.read_json('data/sf_zipcodes.json', dtype=str)['zip_codes']\n",
    "valid_zips.head()"
   ]
  },
  {
   "cell_type": "code",
   "execution_count": 238,
   "metadata": {
    "deletable": false,
    "editable": false
   },
   "outputs": [
    {
     "data": {
      "text/html": [
       "\n",
       "    \n",
       "    \n",
       "        <p>All tests passed!</p>\n",
       "    \n",
       "    "
      ],
      "text/plain": [
       "\n",
       "    All tests passed!\n",
       "    "
      ]
     },
     "execution_count": 238,
     "metadata": {},
     "output_type": "execute_result"
    }
   ],
   "source": [
    "grader.check(\"q3ci\")"
   ]
  },
  {
   "cell_type": "markdown",
   "metadata": {
    "deletable": false,
    "editable": false
   },
   "source": [
    "**Step 2**\n",
    "\n",
    "<!--\n",
    "BEGIN QUESTION\n",
    "name: q3cii\n",
    "points: 1\n",
    "-->"
   ]
  },
  {
   "cell_type": "code",
   "execution_count": 239,
   "metadata": {},
   "outputs": [
    {
     "data": {
      "text/html": [
       "<div>\n",
       "<style scoped>\n",
       "    .dataframe tbody tr th:only-of-type {\n",
       "        vertical-align: middle;\n",
       "    }\n",
       "\n",
       "    .dataframe tbody tr th {\n",
       "        vertical-align: top;\n",
       "    }\n",
       "\n",
       "    .dataframe thead th {\n",
       "        text-align: right;\n",
       "    }\n",
       "</style>\n",
       "<table border=\"1\" class=\"dataframe\">\n",
       "  <thead>\n",
       "    <tr style=\"text-align: right;\">\n",
       "      <th></th>\n",
       "      <th>bid</th>\n",
       "      <th>name</th>\n",
       "      <th>address</th>\n",
       "      <th>city</th>\n",
       "      <th>state</th>\n",
       "      <th>postal_code</th>\n",
       "      <th>latitude</th>\n",
       "      <th>longitude</th>\n",
       "      <th>phone_number</th>\n",
       "    </tr>\n",
       "  </thead>\n",
       "  <tbody>\n",
       "    <tr>\n",
       "      <th>22</th>\n",
       "      <td>100126</td>\n",
       "      <td>Lamas Peruvian Food Truck</td>\n",
       "      <td>Private Location</td>\n",
       "      <td>San Francisco</td>\n",
       "      <td>CA</td>\n",
       "      <td>-9999</td>\n",
       "      <td>-9999.000000</td>\n",
       "      <td>-9999.000000</td>\n",
       "      <td>-9999</td>\n",
       "    </tr>\n",
       "    <tr>\n",
       "      <th>68</th>\n",
       "      <td>100417</td>\n",
       "      <td>COMPASS ONE, LLC</td>\n",
       "      <td>1 MARKET ST. FL</td>\n",
       "      <td>San Francisco</td>\n",
       "      <td>CA</td>\n",
       "      <td>94105-1420</td>\n",
       "      <td>-9999.000000</td>\n",
       "      <td>-9999.000000</td>\n",
       "      <td>14154324000</td>\n",
       "    </tr>\n",
       "    <tr>\n",
       "      <th>96</th>\n",
       "      <td>100660</td>\n",
       "      <td>TEAPENTER</td>\n",
       "      <td>1518 IRVING ST</td>\n",
       "      <td>San Francisco</td>\n",
       "      <td>CA</td>\n",
       "      <td>94122-1909</td>\n",
       "      <td>-9999.000000</td>\n",
       "      <td>-9999.000000</td>\n",
       "      <td>14155868318</td>\n",
       "    </tr>\n",
       "    <tr>\n",
       "      <th>109</th>\n",
       "      <td>100781</td>\n",
       "      <td>LE CAFE DU SOLEIL</td>\n",
       "      <td>200 FILLMORE ST</td>\n",
       "      <td>San Francisco</td>\n",
       "      <td>CA</td>\n",
       "      <td>94117-3504</td>\n",
       "      <td>-9999.000000</td>\n",
       "      <td>-9999.000000</td>\n",
       "      <td>14155614215</td>\n",
       "    </tr>\n",
       "    <tr>\n",
       "      <th>144</th>\n",
       "      <td>101084</td>\n",
       "      <td>Deli North 200</td>\n",
       "      <td>1 Warriors Way Level 300 North East</td>\n",
       "      <td>San Francisco</td>\n",
       "      <td>CA</td>\n",
       "      <td>94518</td>\n",
       "      <td>-9999.000000</td>\n",
       "      <td>-9999.000000</td>\n",
       "      <td>-9999</td>\n",
       "    </tr>\n",
       "    <tr>\n",
       "      <th>156</th>\n",
       "      <td>101129</td>\n",
       "      <td>Vendor Room 200</td>\n",
       "      <td>1 Warriors Way Level 300 South West</td>\n",
       "      <td>San Francisco</td>\n",
       "      <td>CA</td>\n",
       "      <td>-9999</td>\n",
       "      <td>-9999.000000</td>\n",
       "      <td>-9999.000000</td>\n",
       "      <td>-9999</td>\n",
       "    </tr>\n",
       "    <tr>\n",
       "      <th>177</th>\n",
       "      <td>101192</td>\n",
       "      <td>Cochinita #2</td>\n",
       "      <td>2 Marina Blvd Fort Mason</td>\n",
       "      <td>San Francisco</td>\n",
       "      <td>CA</td>\n",
       "      <td>-9999</td>\n",
       "      <td>-9999.000000</td>\n",
       "      <td>-9999.000000</td>\n",
       "      <td>14150429222</td>\n",
       "    </tr>\n",
       "    <tr>\n",
       "      <th>276</th>\n",
       "      <td>102014</td>\n",
       "      <td>DROPBOX (Section 3, Floor 7)</td>\n",
       "      <td>1800 Owens St</td>\n",
       "      <td>San Francisco</td>\n",
       "      <td>CA</td>\n",
       "      <td>-9999</td>\n",
       "      <td>-9999.000000</td>\n",
       "      <td>-9999.000000</td>\n",
       "      <td>-9999</td>\n",
       "    </tr>\n",
       "    <tr>\n",
       "      <th>295</th>\n",
       "      <td>102245</td>\n",
       "      <td>Vessell CA Operations (#4)</td>\n",
       "      <td>2351 Mission St</td>\n",
       "      <td>San Francisco</td>\n",
       "      <td>CA</td>\n",
       "      <td>-9999</td>\n",
       "      <td>-9999.000000</td>\n",
       "      <td>-9999.000000</td>\n",
       "      <td>-9999</td>\n",
       "    </tr>\n",
       "    <tr>\n",
       "      <th>298</th>\n",
       "      <td>10227</td>\n",
       "      <td>The Napper Tandy</td>\n",
       "      <td>3200 24th St</td>\n",
       "      <td>San Francisco</td>\n",
       "      <td>CA</td>\n",
       "      <td>-9999</td>\n",
       "      <td>37.752581</td>\n",
       "      <td>-122.416482</td>\n",
       "      <td>-9999</td>\n",
       "    </tr>\n",
       "    <tr>\n",
       "      <th>320</th>\n",
       "      <td>10372</td>\n",
       "      <td>BERNAL HEIGHTS NEIGBORHOOD CENTER</td>\n",
       "      <td>515 CORTLAND AVE</td>\n",
       "      <td>San Francisco</td>\n",
       "      <td>CA</td>\n",
       "      <td>-9999</td>\n",
       "      <td>37.739110</td>\n",
       "      <td>-122.416404</td>\n",
       "      <td>14155202142</td>\n",
       "    </tr>\n",
       "    <tr>\n",
       "      <th>321</th>\n",
       "      <td>10373</td>\n",
       "      <td>El Tonayense #1</td>\n",
       "      <td>1717 Harrison St</td>\n",
       "      <td>San Francisco</td>\n",
       "      <td>CA</td>\n",
       "      <td>-9999</td>\n",
       "      <td>37.769426</td>\n",
       "      <td>-122.413446</td>\n",
       "      <td>14155556127</td>\n",
       "    </tr>\n",
       "    <tr>\n",
       "      <th>322</th>\n",
       "      <td>10376</td>\n",
       "      <td>Good Frikin Chicken</td>\n",
       "      <td>10 29th St</td>\n",
       "      <td>San Francisco</td>\n",
       "      <td>CA</td>\n",
       "      <td>-9999</td>\n",
       "      <td>37.744369</td>\n",
       "      <td>-122.420967</td>\n",
       "      <td>-9999</td>\n",
       "    </tr>\n",
       "    <tr>\n",
       "      <th>324</th>\n",
       "      <td>10406</td>\n",
       "      <td>Sunset Youth Services</td>\n",
       "      <td>3918 Judah St</td>\n",
       "      <td>San Francisco</td>\n",
       "      <td>CA</td>\n",
       "      <td>-9999</td>\n",
       "      <td>37.760560</td>\n",
       "      <td>-122.504027</td>\n",
       "      <td>-9999</td>\n",
       "    </tr>\n",
       "    <tr>\n",
       "      <th>357</th>\n",
       "      <td>11416</td>\n",
       "      <td>El Beach Burrito</td>\n",
       "      <td>3914 Judah St</td>\n",
       "      <td>San Francisco</td>\n",
       "      <td>CA</td>\n",
       "      <td>-9999</td>\n",
       "      <td>37.760851</td>\n",
       "      <td>-122.503998</td>\n",
       "      <td>-9999</td>\n",
       "    </tr>\n",
       "    <tr>\n",
       "      <th>381</th>\n",
       "      <td>12199</td>\n",
       "      <td>El Gallo Giro</td>\n",
       "      <td>3055 23rd St</td>\n",
       "      <td>San Francisco</td>\n",
       "      <td>CA</td>\n",
       "      <td>-9999</td>\n",
       "      <td>37.754218</td>\n",
       "      <td>-122.413285</td>\n",
       "      <td>14155553048</td>\n",
       "    </tr>\n",
       "    <tr>\n",
       "      <th>384</th>\n",
       "      <td>12344</td>\n",
       "      <td>The Village Market &amp; Pizza</td>\n",
       "      <td>750 Font Blvd</td>\n",
       "      <td>San Francisco</td>\n",
       "      <td>CA</td>\n",
       "      <td>-9999</td>\n",
       "      <td>37.723462</td>\n",
       "      <td>-122.483012</td>\n",
       "      <td>14155374525</td>\n",
       "    </tr>\n",
       "    <tr>\n",
       "      <th>406</th>\n",
       "      <td>13062</td>\n",
       "      <td>Everett Middle School</td>\n",
       "      <td>450 Church St</td>\n",
       "      <td>San Francisco</td>\n",
       "      <td>CA</td>\n",
       "      <td>-9999</td>\n",
       "      <td>37.763794</td>\n",
       "      <td>-122.428617</td>\n",
       "      <td>-9999</td>\n",
       "    </tr>\n",
       "    <tr>\n",
       "      <th>434</th>\n",
       "      <td>13753</td>\n",
       "      <td>Taboun</td>\n",
       "      <td>203 Parnassus Ave</td>\n",
       "      <td>San Francisco</td>\n",
       "      <td>CA</td>\n",
       "      <td>-9999</td>\n",
       "      <td>37.764574</td>\n",
       "      <td>-122.452950</td>\n",
       "      <td>-9999</td>\n",
       "    </tr>\n",
       "    <tr>\n",
       "      <th>548</th>\n",
       "      <td>17423</td>\n",
       "      <td>Project Open Hand</td>\n",
       "      <td>100 Diamond St</td>\n",
       "      <td>San Francisco</td>\n",
       "      <td>CA</td>\n",
       "      <td>-9999</td>\n",
       "      <td>37.760689</td>\n",
       "      <td>-122.437252</td>\n",
       "      <td>-9999</td>\n",
       "    </tr>\n",
       "  </tbody>\n",
       "</table>\n",
       "</div>"
      ],
      "text/plain": [
       "        bid                               name  \\\n",
       "22   100126          Lamas Peruvian Food Truck   \n",
       "68   100417                   COMPASS ONE, LLC   \n",
       "96   100660                          TEAPENTER   \n",
       "109  100781                  LE CAFE DU SOLEIL   \n",
       "144  101084                     Deli North 200   \n",
       "156  101129                    Vendor Room 200   \n",
       "177  101192                       Cochinita #2   \n",
       "276  102014       DROPBOX (Section 3, Floor 7)   \n",
       "295  102245         Vessell CA Operations (#4)   \n",
       "298   10227                   The Napper Tandy   \n",
       "320   10372  BERNAL HEIGHTS NEIGBORHOOD CENTER   \n",
       "321   10373                    El Tonayense #1   \n",
       "322   10376                Good Frikin Chicken   \n",
       "324   10406              Sunset Youth Services   \n",
       "357   11416                   El Beach Burrito   \n",
       "381   12199                      El Gallo Giro   \n",
       "384   12344         The Village Market & Pizza   \n",
       "406   13062              Everett Middle School   \n",
       "434   13753                             Taboun   \n",
       "548   17423                  Project Open Hand   \n",
       "\n",
       "                                 address           city state postal_code  \\\n",
       "22                      Private Location  San Francisco    CA       -9999   \n",
       "68                       1 MARKET ST. FL  San Francisco    CA  94105-1420   \n",
       "96                        1518 IRVING ST  San Francisco    CA  94122-1909   \n",
       "109                      200 FILLMORE ST  San Francisco    CA  94117-3504   \n",
       "144  1 Warriors Way Level 300 North East  San Francisco    CA       94518   \n",
       "156  1 Warriors Way Level 300 South West  San Francisco    CA       -9999   \n",
       "177             2 Marina Blvd Fort Mason  San Francisco    CA       -9999   \n",
       "276                        1800 Owens St  San Francisco    CA       -9999   \n",
       "295                      2351 Mission St  San Francisco    CA       -9999   \n",
       "298                         3200 24th St  San Francisco    CA       -9999   \n",
       "320                     515 CORTLAND AVE  San Francisco    CA       -9999   \n",
       "321                     1717 Harrison St  San Francisco    CA       -9999   \n",
       "322                           10 29th St  San Francisco    CA       -9999   \n",
       "324                        3918 Judah St  San Francisco    CA       -9999   \n",
       "357                        3914 Judah St  San Francisco    CA       -9999   \n",
       "381                         3055 23rd St  San Francisco    CA       -9999   \n",
       "384                        750 Font Blvd  San Francisco    CA       -9999   \n",
       "406                        450 Church St  San Francisco    CA       -9999   \n",
       "434                    203 Parnassus Ave  San Francisco    CA       -9999   \n",
       "548                       100 Diamond St  San Francisco    CA       -9999   \n",
       "\n",
       "        latitude    longitude  phone_number  \n",
       "22  -9999.000000 -9999.000000         -9999  \n",
       "68  -9999.000000 -9999.000000   14154324000  \n",
       "96  -9999.000000 -9999.000000   14155868318  \n",
       "109 -9999.000000 -9999.000000   14155614215  \n",
       "144 -9999.000000 -9999.000000         -9999  \n",
       "156 -9999.000000 -9999.000000         -9999  \n",
       "177 -9999.000000 -9999.000000   14150429222  \n",
       "276 -9999.000000 -9999.000000         -9999  \n",
       "295 -9999.000000 -9999.000000         -9999  \n",
       "298    37.752581  -122.416482         -9999  \n",
       "320    37.739110  -122.416404   14155202142  \n",
       "321    37.769426  -122.413446   14155556127  \n",
       "322    37.744369  -122.420967         -9999  \n",
       "324    37.760560  -122.504027         -9999  \n",
       "357    37.760851  -122.503998         -9999  \n",
       "381    37.754218  -122.413285   14155553048  \n",
       "384    37.723462  -122.483012   14155374525  \n",
       "406    37.763794  -122.428617         -9999  \n",
       "434    37.764574  -122.452950         -9999  \n",
       "548    37.760689  -122.437252         -9999  "
      ]
     },
     "execution_count": 239,
     "metadata": {},
     "output_type": "execute_result"
    }
   ],
   "source": [
    "valid_df = pd.DataFrame(valid_zips)\n",
    "invalid_zip_bus = bus.loc[-bus['postal_code'].isin(valid_df['zip_codes'])]\n",
    "invalid_zip_bus.head(20)"
   ]
  },
  {
   "cell_type": "code",
   "execution_count": 240,
   "metadata": {
    "deletable": false,
    "editable": false
   },
   "outputs": [
    {
     "data": {
      "text/html": [
       "\n",
       "    \n",
       "    \n",
       "        <p>All tests passed!</p>\n",
       "    \n",
       "    "
      ],
      "text/plain": [
       "\n",
       "    All tests passed!\n",
       "    "
      ]
     },
     "execution_count": 240,
     "metadata": {},
     "output_type": "execute_result"
    }
   ],
   "source": [
    "grader.check(\"q3cii\")"
   ]
  },
  {
   "cell_type": "markdown",
   "metadata": {
    "deletable": false,
    "editable": false
   },
   "source": [
    "<br/><br/><br/>\n",
    "\n",
    "--- \n",
    "\n",
    "## Question 3d\n",
    "\n",
    "In the previous question, many of the businesses had a common invalid postal code that was likely used to encode a MISSING postal code.  Do they all share a potentially \"interesting address\"?\n",
    "\n",
    "In the following cell, construct a **series** that counts the number of businesses at each `address` that have this single likely MISSING postal code value.  Order the series in descending order by count. \n",
    "\n",
    "After examining the output.  Answer the following question by filling in the appropriate variable. If we were to drop businesses with MISSING postal code values would a particular class of business be affected?  If you are unsure try to search the web for the most common addresses.\n",
    "\n",
    "\n",
    "<!--\n",
    "BEGIN QUESTION\n",
    "name: q3d\n",
    "points: 3\n",
    "-->"
   ]
  },
  {
   "cell_type": "code",
   "execution_count": 241,
   "metadata": {},
   "outputs": [
    {
     "data": {
      "text/plain": [
       "Off The Grid                  39\n",
       "Off the Grid                  10\n",
       "OTG                            4\n",
       "Approved Locations             3\n",
       "Approved Private Locations     3\n",
       "Name: address, dtype: int64"
      ]
     },
     "execution_count": 241,
     "metadata": {},
     "output_type": "execute_result"
    }
   ],
   "source": [
    "invalid_zips = bus[bus['postal_code'] == '-9999']\n",
    "\n",
    "missing_zip_address_count = invalid_zips['address'].value_counts()\n",
    "missing_zip_address_count.head()"
   ]
  },
  {
   "cell_type": "code",
   "execution_count": 242,
   "metadata": {
    "deletable": false,
    "editable": false
   },
   "outputs": [
    {
     "data": {
      "text/html": [
       "\n",
       "    \n",
       "    \n",
       "        <p>All tests passed!</p>\n",
       "    \n",
       "    "
      ],
      "text/plain": [
       "\n",
       "    All tests passed!\n",
       "    "
      ]
     },
     "execution_count": 242,
     "metadata": {},
     "output_type": "execute_result"
    }
   ],
   "source": [
    "grader.check(\"q3d\")"
   ]
  },
  {
   "cell_type": "markdown",
   "metadata": {
    "deletable": false,
    "editable": false
   },
   "source": [
    "<br/><br/><br/>\n",
    "\n",
    "--- \n",
    "\n",
    "## Question 3e\n",
    "\n",
    "**True or False**:  *If we were to drop businesses with MISSING postal code values, a particular class of business will be affected.*\n",
    "\n",
    "<!--\n",
    "BEGIN QUESTION\n",
    "name: q3e\n",
    "points: 2\n",
    "-->"
   ]
  },
  {
   "cell_type": "code",
   "execution_count": 243,
   "metadata": {},
   "outputs": [],
   "source": [
    "# True or False: \n",
    "#  If we were to drop businesses with MISSING postal code values \n",
    "#   a particular class of business be affected.\n",
    "q3d_true_or_false = True"
   ]
  },
  {
   "cell_type": "code",
   "execution_count": 244,
   "metadata": {
    "deletable": false,
    "editable": false
   },
   "outputs": [
    {
     "data": {
      "text/html": [
       "\n",
       "    \n",
       "    \n",
       "        <p>All tests passed!</p>\n",
       "    \n",
       "    "
      ],
      "text/plain": [
       "\n",
       "    All tests passed!\n",
       "    "
      ]
     },
     "execution_count": 244,
     "metadata": {},
     "output_type": "execute_result"
    }
   ],
   "source": [
    "grader.check(\"q3e\")"
   ]
  },
  {
   "cell_type": "markdown",
   "metadata": {
    "deletable": false,
    "editable": false
   },
   "source": [
    "<br/><br/><br/>\n",
    "\n",
    "--- \n",
    "\n",
    "## Question 3f\n",
    "\n",
    "Examine the `invalid_zip_bus` dataframe we computed above and look at the businesses that DO NOT have the special MISSING ZIP code value.  Some of the invalid postal codes are just the full 9 digit code rather than the first 5 digits.  Create a new column named `postal5` in the original `bus` dataframe which contains only the first 5 digits of the `postal_code` column.   Finally, for any of the `postal5` ZIP code entries that were not a valid San Fransisco ZIP Code (according to `valid_zips`) set the entry to `None`.  \n",
    "\n",
    "\n",
    "<!--\n",
    "BEGIN QUESTION\n",
    "name: q3f\n",
    "points: 2\n",
    "-->"
   ]
  },
  {
   "cell_type": "code",
   "execution_count": 245,
   "metadata": {},
   "outputs": [
    {
     "data": {
      "text/html": [
       "<div>\n",
       "<style scoped>\n",
       "    .dataframe tbody tr th:only-of-type {\n",
       "        vertical-align: middle;\n",
       "    }\n",
       "\n",
       "    .dataframe tbody tr th {\n",
       "        vertical-align: top;\n",
       "    }\n",
       "\n",
       "    .dataframe thead th {\n",
       "        text-align: right;\n",
       "    }\n",
       "</style>\n",
       "<table border=\"1\" class=\"dataframe\">\n",
       "  <thead>\n",
       "    <tr style=\"text-align: right;\">\n",
       "      <th></th>\n",
       "      <th>bid</th>\n",
       "      <th>name</th>\n",
       "      <th>postal_code</th>\n",
       "      <th>postal5</th>\n",
       "    </tr>\n",
       "  </thead>\n",
       "  <tbody>\n",
       "    <tr>\n",
       "      <th>22</th>\n",
       "      <td>100126</td>\n",
       "      <td>Lamas Peruvian Food Truck</td>\n",
       "      <td>-9999</td>\n",
       "      <td>None</td>\n",
       "    </tr>\n",
       "    <tr>\n",
       "      <th>68</th>\n",
       "      <td>100417</td>\n",
       "      <td>COMPASS ONE, LLC</td>\n",
       "      <td>94105-1420</td>\n",
       "      <td>94105</td>\n",
       "    </tr>\n",
       "    <tr>\n",
       "      <th>96</th>\n",
       "      <td>100660</td>\n",
       "      <td>TEAPENTER</td>\n",
       "      <td>94122-1909</td>\n",
       "      <td>94122</td>\n",
       "    </tr>\n",
       "    <tr>\n",
       "      <th>109</th>\n",
       "      <td>100781</td>\n",
       "      <td>LE CAFE DU SOLEIL</td>\n",
       "      <td>94117-3504</td>\n",
       "      <td>94117</td>\n",
       "    </tr>\n",
       "    <tr>\n",
       "      <th>144</th>\n",
       "      <td>101084</td>\n",
       "      <td>Deli North 200</td>\n",
       "      <td>94518</td>\n",
       "      <td>None</td>\n",
       "    </tr>\n",
       "    <tr>\n",
       "      <th>...</th>\n",
       "      <td>...</td>\n",
       "      <td>...</td>\n",
       "      <td>...</td>\n",
       "      <td>...</td>\n",
       "    </tr>\n",
       "    <tr>\n",
       "      <th>6173</th>\n",
       "      <td>99369</td>\n",
       "      <td>HOTEL BIRON</td>\n",
       "      <td>94102-5917</td>\n",
       "      <td>94102</td>\n",
       "    </tr>\n",
       "    <tr>\n",
       "      <th>6174</th>\n",
       "      <td>99376</td>\n",
       "      <td>Mashallah Halal Food truck Ind</td>\n",
       "      <td>-9999</td>\n",
       "      <td>None</td>\n",
       "    </tr>\n",
       "    <tr>\n",
       "      <th>6199</th>\n",
       "      <td>99536</td>\n",
       "      <td>FAITH SANDWICH #2</td>\n",
       "      <td>94105-2907</td>\n",
       "      <td>94105</td>\n",
       "    </tr>\n",
       "    <tr>\n",
       "      <th>6204</th>\n",
       "      <td>99681</td>\n",
       "      <td>Twister</td>\n",
       "      <td>95112</td>\n",
       "      <td>None</td>\n",
       "    </tr>\n",
       "    <tr>\n",
       "      <th>6241</th>\n",
       "      <td>99819</td>\n",
       "      <td>CHESTNUT DINER</td>\n",
       "      <td>94123-3106</td>\n",
       "      <td>94123</td>\n",
       "    </tr>\n",
       "  </tbody>\n",
       "</table>\n",
       "<p>230 rows × 4 columns</p>\n",
       "</div>"
      ],
      "text/plain": [
       "         bid                            name postal_code postal5\n",
       "22    100126       Lamas Peruvian Food Truck       -9999    None\n",
       "68    100417                COMPASS ONE, LLC  94105-1420   94105\n",
       "96    100660                       TEAPENTER  94122-1909   94122\n",
       "109   100781               LE CAFE DU SOLEIL  94117-3504   94117\n",
       "144   101084                  Deli North 200       94518    None\n",
       "...      ...                             ...         ...     ...\n",
       "6173   99369                     HOTEL BIRON  94102-5917   94102\n",
       "6174   99376  Mashallah Halal Food truck Ind       -9999    None\n",
       "6199   99536               FAITH SANDWICH #2  94105-2907   94105\n",
       "6204   99681                         Twister       95112    None\n",
       "6241   99819                  CHESTNUT DINER  94123-3106   94123\n",
       "\n",
       "[230 rows x 4 columns]"
      ]
     },
     "execution_count": 245,
     "metadata": {},
     "output_type": "execute_result"
    }
   ],
   "source": [
    "bus['postal5'] = None\n",
    "\n",
    "bus['postal5'] = bus['postal_code'].str[:5]\n",
    "bus.loc[~bus['postal5'].isin(valid_zips), 'postal5'] = None\n",
    "\n",
    "# Checking the corrected postal5 column\n",
    "bus.loc[invalid_zip_bus.index, ['bid', 'name', 'postal_code', 'postal5']]"
   ]
  },
  {
   "cell_type": "code",
   "execution_count": 246,
   "metadata": {
    "deletable": false,
    "editable": false
   },
   "outputs": [
    {
     "data": {
      "text/html": [
       "\n",
       "    \n",
       "    \n",
       "        <p>All tests passed!</p>\n",
       "    \n",
       "    "
      ],
      "text/plain": [
       "\n",
       "    All tests passed!\n",
       "    "
      ]
     },
     "execution_count": 246,
     "metadata": {},
     "output_type": "execute_result"
    }
   ],
   "source": [
    "grader.check(\"q3f\")"
   ]
  },
  {
   "cell_type": "markdown",
   "metadata": {
    "nbgrader": {
     "grade": false,
     "grade_id": "business-data",
     "locked": true,
     "schema_version": 2,
     "solution": false
    }
   },
   "source": [
    "<br/><br/><br/>\n",
    "\n",
    "---\n",
    "\n",
    "<br/><br/><br/>\n",
    "\n",
    "# 4: Investigate the Inspection Data\n",
    "\n",
    "Let's now turn to the inspection DataFrame. Earlier, we found that `ins` has 4 columns named \n",
    "`iid`, `score`, `date` and `type`.  In this section, we determine the granularity of `ins` and investigate the kinds of information provided for the inspections. "
   ]
  },
  {
   "cell_type": "markdown",
   "metadata": {
    "nbgrader": {
     "grade": false,
     "grade_id": "cell-174ed23c543ad9da",
     "locked": true,
     "schema_version": 2,
     "solution": false
    }
   },
   "source": [
    "Let's start by looking again at the first 5 rows of `ins` to see what we're working with."
   ]
  },
  {
   "cell_type": "code",
   "execution_count": 247,
   "metadata": {
    "nbgrader": {
     "grade": false,
     "grade_id": "cell-f0fbe724a2783e33",
     "locked": true,
     "schema_version": 2,
     "solution": false
    }
   },
   "outputs": [
    {
     "data": {
      "text/html": [
       "<div>\n",
       "<style scoped>\n",
       "    .dataframe tbody tr th:only-of-type {\n",
       "        vertical-align: middle;\n",
       "    }\n",
       "\n",
       "    .dataframe tbody tr th {\n",
       "        vertical-align: top;\n",
       "    }\n",
       "\n",
       "    .dataframe thead th {\n",
       "        text-align: right;\n",
       "    }\n",
       "</style>\n",
       "<table border=\"1\" class=\"dataframe\">\n",
       "  <thead>\n",
       "    <tr style=\"text-align: right;\">\n",
       "      <th></th>\n",
       "      <th>iid</th>\n",
       "      <th>date</th>\n",
       "      <th>score</th>\n",
       "      <th>type</th>\n",
       "    </tr>\n",
       "  </thead>\n",
       "  <tbody>\n",
       "    <tr>\n",
       "      <th>0</th>\n",
       "      <td>100010_20190329</td>\n",
       "      <td>03/29/2019 12:00:00 AM</td>\n",
       "      <td>-1</td>\n",
       "      <td>New Construction</td>\n",
       "    </tr>\n",
       "    <tr>\n",
       "      <th>1</th>\n",
       "      <td>100010_20190403</td>\n",
       "      <td>04/03/2019 12:00:00 AM</td>\n",
       "      <td>100</td>\n",
       "      <td>Routine - Unscheduled</td>\n",
       "    </tr>\n",
       "    <tr>\n",
       "      <th>2</th>\n",
       "      <td>100017_20190417</td>\n",
       "      <td>04/17/2019 12:00:00 AM</td>\n",
       "      <td>-1</td>\n",
       "      <td>New Ownership</td>\n",
       "    </tr>\n",
       "    <tr>\n",
       "      <th>3</th>\n",
       "      <td>100017_20190816</td>\n",
       "      <td>08/16/2019 12:00:00 AM</td>\n",
       "      <td>91</td>\n",
       "      <td>Routine - Unscheduled</td>\n",
       "    </tr>\n",
       "    <tr>\n",
       "      <th>4</th>\n",
       "      <td>100017_20190826</td>\n",
       "      <td>08/26/2019 12:00:00 AM</td>\n",
       "      <td>-1</td>\n",
       "      <td>Reinspection/Followup</td>\n",
       "    </tr>\n",
       "  </tbody>\n",
       "</table>\n",
       "</div>"
      ],
      "text/plain": [
       "               iid                    date  score                   type\n",
       "0  100010_20190329  03/29/2019 12:00:00 AM     -1       New Construction\n",
       "1  100010_20190403  04/03/2019 12:00:00 AM    100  Routine - Unscheduled\n",
       "2  100017_20190417  04/17/2019 12:00:00 AM     -1          New Ownership\n",
       "3  100017_20190816  08/16/2019 12:00:00 AM     91  Routine - Unscheduled\n",
       "4  100017_20190826  08/26/2019 12:00:00 AM     -1  Reinspection/Followup"
      ]
     },
     "execution_count": 247,
     "metadata": {},
     "output_type": "execute_result"
    }
   ],
   "source": [
    "ins.head(5)"
   ]
  },
  {
   "cell_type": "markdown",
   "metadata": {
    "deletable": false,
    "editable": false
   },
   "source": [
    "<br/><br/><br/>\n",
    "\n",
    "---\n",
    "\n",
    "## Question 4a\n",
    "\n",
    "The column `iid` probably corresponds to an inspection id.  Is it a primary key?  Write an expression (line of code) that evaluates to 'True' or 'False' based on whether all the values are unique.\n",
    "\n",
    "\n",
    "<!--\n",
    "BEGIN QUESTION\n",
    "name: q4a\n",
    "points: 1\n",
    "-->"
   ]
  },
  {
   "cell_type": "code",
   "execution_count": 248,
   "metadata": {},
   "outputs": [],
   "source": [
    "is_ins_iid_a_primary_key = ins['iid'].is_unique"
   ]
  },
  {
   "cell_type": "code",
   "execution_count": 249,
   "metadata": {
    "deletable": false,
    "editable": false
   },
   "outputs": [
    {
     "data": {
      "text/html": [
       "\n",
       "    \n",
       "    \n",
       "        <p>All tests passed!</p>\n",
       "    \n",
       "    "
      ],
      "text/plain": [
       "\n",
       "    All tests passed!\n",
       "    "
      ]
     },
     "execution_count": 249,
     "metadata": {},
     "output_type": "execute_result"
    }
   ],
   "source": [
    "grader.check(\"q4a\")"
   ]
  },
  {
   "cell_type": "markdown",
   "metadata": {},
   "source": [
    "<br/><br/><br/>\n",
    "\n",
    "---\n",
    "\n",
    "## Question 4b\n",
    "\n",
    "The column `iid` appears to be the composition of two numbers and the first number looks like a business id.  \n",
    "\n",
    "**Part 1.**: Create a new column called `bid` in the `ins` dataframe containing just the business id.  You will want to use `ins['iid'].str` operations to do this.  Also be sure to convert the type of this column to `int`\n",
    "\n",
    "**Part 2.**: Then compute how many values in this new column are invalid business ids (i.e. do not appear in the `bus['bid']` column). This is verifying a foreign key relationship. Consider using the `pd.Series.isin` function.\n",
    "\n",
    "**Part 3.**: Answer True or False, `ins['bid']` is a foreign key reference to `bus['bid']`.\n",
    "\n",
    "\n",
    "**No python `for` loops or list comprehensions required!**"
   ]
  },
  {
   "cell_type": "markdown",
   "metadata": {
    "deletable": false,
    "editable": false
   },
   "source": [
    "**Part 1**\n",
    "\n",
    "<!--\n",
    "BEGIN QUESTION\n",
    "name: q4bi\n",
    "points: 1\n",
    "-->"
   ]
  },
  {
   "cell_type": "code",
   "execution_count": 250,
   "metadata": {},
   "outputs": [],
   "source": [
    "ins['bid'] = ins['iid'].str.split(pat='_', expand=True).astype(int)[0]"
   ]
  },
  {
   "cell_type": "code",
   "execution_count": 251,
   "metadata": {
    "deletable": false,
    "editable": false
   },
   "outputs": [
    {
     "data": {
      "text/html": [
       "\n",
       "    \n",
       "    \n",
       "        <p>All tests passed!</p>\n",
       "    \n",
       "    "
      ],
      "text/plain": [
       "\n",
       "    All tests passed!\n",
       "    "
      ]
     },
     "execution_count": 251,
     "metadata": {},
     "output_type": "execute_result"
    }
   ],
   "source": [
    "grader.check(\"q4bi\")"
   ]
  },
  {
   "cell_type": "markdown",
   "metadata": {
    "deletable": false,
    "editable": false
   },
   "source": [
    "**Part 2**\n",
    "\n",
    "<!--\n",
    "BEGIN QUESTION\n",
    "name: q4bii\n",
    "points: 1\n",
    "-->"
   ]
  },
  {
   "cell_type": "code",
   "execution_count": 252,
   "metadata": {},
   "outputs": [
    {
     "data": {
      "text/plain": [
       "0"
      ]
     },
     "execution_count": 252,
     "metadata": {},
     "output_type": "execute_result"
    }
   ],
   "source": [
    "invalids_bool = ~ins['bid'].isin(bus['bid'])\n",
    "invalid_bid_count = len(bus.loc[invalids_bool])\n",
    "invalid_bid_count"
   ]
  },
  {
   "cell_type": "code",
   "execution_count": 253,
   "metadata": {
    "deletable": false,
    "editable": false
   },
   "outputs": [
    {
     "data": {
      "text/html": [
       "\n",
       "    \n",
       "    \n",
       "        <p>All tests passed!</p>\n",
       "    \n",
       "    "
      ],
      "text/plain": [
       "\n",
       "    All tests passed!\n",
       "    "
      ]
     },
     "execution_count": 253,
     "metadata": {},
     "output_type": "execute_result"
    }
   ],
   "source": [
    "grader.check(\"q4bii\")"
   ]
  },
  {
   "cell_type": "markdown",
   "metadata": {
    "deletable": false,
    "editable": false
   },
   "source": [
    "**Part 3**\n",
    "\n",
    "<!--\n",
    "BEGIN QUESTION\n",
    "name: q4biii\n",
    "points: 1\n",
    "-->"
   ]
  },
  {
   "cell_type": "code",
   "execution_count": 254,
   "metadata": {},
   "outputs": [],
   "source": [
    "# True or False: The column ins['bid'] is a foreign key \n",
    "#   referencing the bus['bid'] primary key.\n",
    "\n",
    "q4b_is_foreign_key = True"
   ]
  },
  {
   "cell_type": "code",
   "execution_count": 255,
   "metadata": {
    "deletable": false,
    "editable": false
   },
   "outputs": [
    {
     "data": {
      "text/html": [
       "\n",
       "    \n",
       "    \n",
       "        <p>All tests passed!</p>\n",
       "    \n",
       "    "
      ],
      "text/plain": [
       "\n",
       "    All tests passed!\n",
       "    "
      ]
     },
     "execution_count": 255,
     "metadata": {},
     "output_type": "execute_result"
    }
   ],
   "source": [
    "grader.check(\"q4biii\")"
   ]
  },
  {
   "cell_type": "markdown",
   "metadata": {},
   "source": [
    "<br/><br/><br/>\n",
    "\n",
    "---\n",
    "\n",
    "## Question 4c\n",
    "\n",
    "What if we are interested in a time component of the inspection data?  We need to examine the date column of each inspection. \n",
    "\n",
    "**Part 1:** What is the type of the individual `ins['date']` entries. You may want to grab the very first entry and use the `type` function in python. \n",
    "\n",
    "**Part 2:** Use `pd.to_datetime` to create a new `ins['timestamp']` column containing of `pd.Timestamp` objects.  These will allow us to do more date manipulation.\n",
    "\n",
    "**Part 3:** What are the earliest and latest dates in our inspection data?  *Hint: you can use `min` and `max` on dates of the correct type.*\n",
    "\n",
    "**Part 4:** We probably want to examine the inspections by year. Create an additional `ins['year']` column containing just the year of the inspection.  Consider using `pd.Series.dt.year` to do this.\n",
    "\n",
    "**No python `for` loops or list comprehensions required!**"
   ]
  },
  {
   "cell_type": "markdown",
   "metadata": {
    "deletable": false,
    "editable": false
   },
   "source": [
    "**Part 1**\n",
    "\n",
    "<!--\n",
    "BEGIN QUESTION\n",
    "name: q4ci\n",
    "points: 1\n",
    "-->"
   ]
  },
  {
   "cell_type": "code",
   "execution_count": 256,
   "metadata": {},
   "outputs": [
    {
     "data": {
      "text/plain": [
       "str"
      ]
     },
     "execution_count": 256,
     "metadata": {},
     "output_type": "execute_result"
    }
   ],
   "source": [
    "ins_date_type = type(ins['date'][0])\n",
    "ins_date_type"
   ]
  },
  {
   "cell_type": "code",
   "execution_count": 257,
   "metadata": {
    "deletable": false,
    "editable": false
   },
   "outputs": [
    {
     "data": {
      "text/html": [
       "\n",
       "    \n",
       "    \n",
       "        <p>All tests passed!</p>\n",
       "    \n",
       "    "
      ],
      "text/plain": [
       "\n",
       "    All tests passed!\n",
       "    "
      ]
     },
     "execution_count": 257,
     "metadata": {},
     "output_type": "execute_result"
    }
   ],
   "source": [
    "grader.check(\"q4ci\")"
   ]
  },
  {
   "cell_type": "markdown",
   "metadata": {
    "deletable": false,
    "editable": false
   },
   "source": [
    "**Part 2**\n",
    "\n",
    "<!--\n",
    "BEGIN QUESTION\n",
    "name: q4cii\n",
    "points: 1\n",
    "-->"
   ]
  },
  {
   "cell_type": "code",
   "execution_count": 258,
   "metadata": {},
   "outputs": [],
   "source": [
    "ins['timestamp'] = pd.to_datetime(ins['date'])"
   ]
  },
  {
   "cell_type": "code",
   "execution_count": 259,
   "metadata": {
    "deletable": false,
    "editable": false
   },
   "outputs": [
    {
     "data": {
      "text/html": [
       "\n",
       "    \n",
       "    \n",
       "        <p>All tests passed!</p>\n",
       "    \n",
       "    "
      ],
      "text/plain": [
       "\n",
       "    All tests passed!\n",
       "    "
      ]
     },
     "execution_count": 259,
     "metadata": {},
     "output_type": "execute_result"
    }
   ],
   "source": [
    "grader.check(\"q4cii\")"
   ]
  },
  {
   "cell_type": "markdown",
   "metadata": {
    "deletable": false,
    "editable": false
   },
   "source": [
    "**Part 3**\n",
    "\n",
    "<!--\n",
    "BEGIN QUESTION\n",
    "name: q4ciii\n",
    "points: 1\n",
    "-->"
   ]
  },
  {
   "cell_type": "code",
   "execution_count": 260,
   "metadata": {},
   "outputs": [
    {
     "name": "stdout",
     "output_type": "stream",
     "text": [
      "Earliest Date: 2016-10-04 00:00:00\n",
      "Latest Date: 2019-11-28 00:00:00\n"
     ]
    }
   ],
   "source": [
    "earliest_date = min(ins['timestamp'])\n",
    "latest_date = max(ins['timestamp'])\n",
    "\n",
    "print(\"Earliest Date:\", earliest_date)\n",
    "print(\"Latest Date:\", latest_date)"
   ]
  },
  {
   "cell_type": "code",
   "execution_count": 261,
   "metadata": {
    "deletable": false,
    "editable": false
   },
   "outputs": [
    {
     "data": {
      "text/html": [
       "\n",
       "    \n",
       "    \n",
       "        <p>All tests passed!</p>\n",
       "    \n",
       "    "
      ],
      "text/plain": [
       "\n",
       "    All tests passed!\n",
       "    "
      ]
     },
     "execution_count": 261,
     "metadata": {},
     "output_type": "execute_result"
    }
   ],
   "source": [
    "grader.check(\"q4ciii\")"
   ]
  },
  {
   "cell_type": "markdown",
   "metadata": {
    "deletable": false,
    "editable": false
   },
   "source": [
    "**Part 4**\n",
    "\n",
    "<!--\n",
    "BEGIN QUESTION\n",
    "name: q4civ\n",
    "points: 1\n",
    "-->"
   ]
  },
  {
   "cell_type": "code",
   "execution_count": 262,
   "metadata": {},
   "outputs": [],
   "source": [
    "ins['year'] = ins['timestamp'].dt.year"
   ]
  },
  {
   "cell_type": "code",
   "execution_count": 263,
   "metadata": {
    "deletable": false,
    "editable": false
   },
   "outputs": [
    {
     "data": {
      "text/html": [
       "\n",
       "    \n",
       "    \n",
       "        <p>All tests passed!</p>\n",
       "    \n",
       "    "
      ],
      "text/plain": [
       "\n",
       "    All tests passed!\n",
       "    "
      ]
     },
     "execution_count": 263,
     "metadata": {},
     "output_type": "execute_result"
    }
   ],
   "source": [
    "grader.check(\"q4civ\")"
   ]
  },
  {
   "cell_type": "code",
   "execution_count": 264,
   "metadata": {},
   "outputs": [
    {
     "data": {
      "text/html": [
       "<div>\n",
       "<style scoped>\n",
       "    .dataframe tbody tr th:only-of-type {\n",
       "        vertical-align: middle;\n",
       "    }\n",
       "\n",
       "    .dataframe tbody tr th {\n",
       "        vertical-align: top;\n",
       "    }\n",
       "\n",
       "    .dataframe thead th {\n",
       "        text-align: right;\n",
       "    }\n",
       "</style>\n",
       "<table border=\"1\" class=\"dataframe\">\n",
       "  <thead>\n",
       "    <tr style=\"text-align: right;\">\n",
       "      <th></th>\n",
       "      <th>iid</th>\n",
       "      <th>date</th>\n",
       "      <th>score</th>\n",
       "      <th>type</th>\n",
       "      <th>bid</th>\n",
       "      <th>timestamp</th>\n",
       "      <th>year</th>\n",
       "    </tr>\n",
       "  </thead>\n",
       "  <tbody>\n",
       "    <tr>\n",
       "      <th>0</th>\n",
       "      <td>100010_20190329</td>\n",
       "      <td>03/29/2019 12:00:00 AM</td>\n",
       "      <td>-1</td>\n",
       "      <td>New Construction</td>\n",
       "      <td>100010</td>\n",
       "      <td>2019-03-29</td>\n",
       "      <td>2019</td>\n",
       "    </tr>\n",
       "    <tr>\n",
       "      <th>1</th>\n",
       "      <td>100010_20190403</td>\n",
       "      <td>04/03/2019 12:00:00 AM</td>\n",
       "      <td>100</td>\n",
       "      <td>Routine - Unscheduled</td>\n",
       "      <td>100010</td>\n",
       "      <td>2019-04-03</td>\n",
       "      <td>2019</td>\n",
       "    </tr>\n",
       "    <tr>\n",
       "      <th>2</th>\n",
       "      <td>100017_20190417</td>\n",
       "      <td>04/17/2019 12:00:00 AM</td>\n",
       "      <td>-1</td>\n",
       "      <td>New Ownership</td>\n",
       "      <td>100017</td>\n",
       "      <td>2019-04-17</td>\n",
       "      <td>2019</td>\n",
       "    </tr>\n",
       "    <tr>\n",
       "      <th>3</th>\n",
       "      <td>100017_20190816</td>\n",
       "      <td>08/16/2019 12:00:00 AM</td>\n",
       "      <td>91</td>\n",
       "      <td>Routine - Unscheduled</td>\n",
       "      <td>100017</td>\n",
       "      <td>2019-08-16</td>\n",
       "      <td>2019</td>\n",
       "    </tr>\n",
       "    <tr>\n",
       "      <th>4</th>\n",
       "      <td>100017_20190826</td>\n",
       "      <td>08/26/2019 12:00:00 AM</td>\n",
       "      <td>-1</td>\n",
       "      <td>Reinspection/Followup</td>\n",
       "      <td>100017</td>\n",
       "      <td>2019-08-26</td>\n",
       "      <td>2019</td>\n",
       "    </tr>\n",
       "  </tbody>\n",
       "</table>\n",
       "</div>"
      ],
      "text/plain": [
       "               iid                    date  score                   type  \\\n",
       "0  100010_20190329  03/29/2019 12:00:00 AM     -1       New Construction   \n",
       "1  100010_20190403  04/03/2019 12:00:00 AM    100  Routine - Unscheduled   \n",
       "2  100017_20190417  04/17/2019 12:00:00 AM     -1          New Ownership   \n",
       "3  100017_20190816  08/16/2019 12:00:00 AM     91  Routine - Unscheduled   \n",
       "4  100017_20190826  08/26/2019 12:00:00 AM     -1  Reinspection/Followup   \n",
       "\n",
       "      bid  timestamp  year  \n",
       "0  100010 2019-03-29  2019  \n",
       "1  100010 2019-04-03  2019  \n",
       "2  100017 2019-04-17  2019  \n",
       "3  100017 2019-08-16  2019  \n",
       "4  100017 2019-08-26  2019  "
      ]
     },
     "execution_count": 264,
     "metadata": {},
     "output_type": "execute_result"
    }
   ],
   "source": [
    "ins.head()"
   ]
  },
  {
   "cell_type": "markdown",
   "metadata": {},
   "source": [
    "<br/><br/><br/>\n",
    "\n",
    "---\n",
    "\n",
    "## Question 4d\n",
    "\n",
    "What is the relationship between the type of inspection over the 2016 to 2019 timeframe? \n",
    "\n",
    "**Part 1**\n",
    "\n",
    "Construct the following table by\n",
    "1. Using the `pivot_table` containing the number (`size`) of inspections for the given `type` and `year`.\n",
    "1. Adding an extra `Total` column to the result using `sum`\n",
    "1. Sort the results in descending order by the `Total`.\n",
    "\n",
    "<table border=\"1\" class=\"dataframe\">  <thead>    <tr style=\"text-align: right;\">      <th>year</th>      <th>2016</th>      <th>2017</th>      <th>2018</th>      <th>2019</th>      <th>Total</th>    </tr>    <tr>      <th>type</th>      <th></th>      <th></th>      <th></th>      <th></th>      <th></th>    </tr>  </thead>  <tbody>    <tr>      <th>Routine - Unscheduled</th>      <td>966</td>      <td>4057</td>      <td>4373</td>      <td>4681</td>      <td>14077</td>    </tr>    <tr>      <th>Reinspection/Followup</th>      <td>445</td>      <td>1767</td>      <td>1935</td>      <td>2292</td>      <td>6439</td>    </tr>    <tr>      <th>New Ownership</th>      <td>99</td>      <td>506</td>      <td>528</td>      <td>459</td>      <td>1592</td>    </tr>    <tr>      <th>Complaint</th>      <td>91</td>      <td>418</td>      <td>512</td>      <td>437</td>      <td>1458</td>    </tr>    <tr>      <th>New Construction</th>      <td>102</td>      <td>485</td>      <td>218</td>      <td>189</td>      <td>994</td>    </tr>    <tr>      <th>Non-inspection site visit</th>      <td>51</td>      <td>276</td>      <td>253</td>      <td>231</td>      <td>811</td>    </tr>    <tr>      <th>New Ownership - Followup</th>      <td>0</td>      <td>45</td>      <td>219</td>      <td>235</td>      <td>499</td>    </tr>    <tr>      <th>Structural Inspection</th>      <td>1</td>      <td>153</td>      <td>50</td>      <td>190</td>      <td>394</td>    </tr>    <tr>      <th>Complaint Reinspection/Followup</th>      <td>19</td>      <td>68</td>      <td>70</td>      <td>70</td>      <td>227</td>    </tr>    <tr>      <th>Foodborne Illness Investigation</th>      <td>1</td>      <td>29</td>      <td>50</td>      <td>35</td>      <td>115</td>    </tr>    <tr>      <th>Routine - Scheduled</th>      <td>0</td>      <td>9</td>      <td>8</td>      <td>29</td>      <td>46</td>    </tr>    <tr>      <th>Administrative or Document Review</th>      <td>2</td>      <td>1</td>      <td>1</td>      <td>0</td>      <td>4</td>    </tr>    <tr>      <th>Multi-agency Investigation</th>      <td>0</td>      <td>0</td>      <td>1</td>      <td>2</td>      <td>3</td>    </tr>    <tr>      <th>Special Event</th>      <td>0</td>      <td>3</td>      <td>0</td>      <td>0</td>      <td>3</td>    </tr>    <tr>      <th>Community Health Assessment</th>      <td>1</td>      <td>0</td>      <td>0</td>      <td>0</td>      <td>1</td>    </tr>  </tbody></table>\n",
    "\n",
    "**No python `for` loops or list comprehensions required!**"
   ]
  },
  {
   "cell_type": "code",
   "execution_count": 265,
   "metadata": {},
   "outputs": [
    {
     "data": {
      "text/html": [
       "<div>\n",
       "<style scoped>\n",
       "    .dataframe tbody tr th:only-of-type {\n",
       "        vertical-align: middle;\n",
       "    }\n",
       "\n",
       "    .dataframe tbody tr th {\n",
       "        vertical-align: top;\n",
       "    }\n",
       "\n",
       "    .dataframe thead th {\n",
       "        text-align: right;\n",
       "    }\n",
       "</style>\n",
       "<table border=\"1\" class=\"dataframe\">\n",
       "  <thead>\n",
       "    <tr style=\"text-align: right;\">\n",
       "      <th>year</th>\n",
       "      <th>2016</th>\n",
       "      <th>2017</th>\n",
       "      <th>2018</th>\n",
       "      <th>2019</th>\n",
       "      <th>Total</th>\n",
       "    </tr>\n",
       "    <tr>\n",
       "      <th>type</th>\n",
       "      <th></th>\n",
       "      <th></th>\n",
       "      <th></th>\n",
       "      <th></th>\n",
       "      <th></th>\n",
       "    </tr>\n",
       "  </thead>\n",
       "  <tbody>\n",
       "    <tr>\n",
       "      <th>Routine - Unscheduled</th>\n",
       "      <td>966</td>\n",
       "      <td>4057</td>\n",
       "      <td>4373</td>\n",
       "      <td>4681</td>\n",
       "      <td>14077</td>\n",
       "    </tr>\n",
       "    <tr>\n",
       "      <th>Reinspection/Followup</th>\n",
       "      <td>445</td>\n",
       "      <td>1767</td>\n",
       "      <td>1935</td>\n",
       "      <td>2292</td>\n",
       "      <td>6439</td>\n",
       "    </tr>\n",
       "    <tr>\n",
       "      <th>New Ownership</th>\n",
       "      <td>99</td>\n",
       "      <td>506</td>\n",
       "      <td>528</td>\n",
       "      <td>459</td>\n",
       "      <td>1592</td>\n",
       "    </tr>\n",
       "    <tr>\n",
       "      <th>Complaint</th>\n",
       "      <td>91</td>\n",
       "      <td>418</td>\n",
       "      <td>512</td>\n",
       "      <td>437</td>\n",
       "      <td>1458</td>\n",
       "    </tr>\n",
       "    <tr>\n",
       "      <th>New Construction</th>\n",
       "      <td>102</td>\n",
       "      <td>485</td>\n",
       "      <td>218</td>\n",
       "      <td>189</td>\n",
       "      <td>994</td>\n",
       "    </tr>\n",
       "    <tr>\n",
       "      <th>Non-inspection site visit</th>\n",
       "      <td>51</td>\n",
       "      <td>276</td>\n",
       "      <td>253</td>\n",
       "      <td>231</td>\n",
       "      <td>811</td>\n",
       "    </tr>\n",
       "    <tr>\n",
       "      <th>New Ownership - Followup</th>\n",
       "      <td>0</td>\n",
       "      <td>45</td>\n",
       "      <td>219</td>\n",
       "      <td>235</td>\n",
       "      <td>499</td>\n",
       "    </tr>\n",
       "    <tr>\n",
       "      <th>Structural Inspection</th>\n",
       "      <td>1</td>\n",
       "      <td>153</td>\n",
       "      <td>50</td>\n",
       "      <td>190</td>\n",
       "      <td>394</td>\n",
       "    </tr>\n",
       "    <tr>\n",
       "      <th>Complaint Reinspection/Followup</th>\n",
       "      <td>19</td>\n",
       "      <td>68</td>\n",
       "      <td>70</td>\n",
       "      <td>70</td>\n",
       "      <td>227</td>\n",
       "    </tr>\n",
       "    <tr>\n",
       "      <th>Foodborne Illness Investigation</th>\n",
       "      <td>1</td>\n",
       "      <td>29</td>\n",
       "      <td>50</td>\n",
       "      <td>35</td>\n",
       "      <td>115</td>\n",
       "    </tr>\n",
       "    <tr>\n",
       "      <th>Routine - Scheduled</th>\n",
       "      <td>0</td>\n",
       "      <td>9</td>\n",
       "      <td>8</td>\n",
       "      <td>29</td>\n",
       "      <td>46</td>\n",
       "    </tr>\n",
       "    <tr>\n",
       "      <th>Administrative or Document Review</th>\n",
       "      <td>2</td>\n",
       "      <td>1</td>\n",
       "      <td>1</td>\n",
       "      <td>0</td>\n",
       "      <td>4</td>\n",
       "    </tr>\n",
       "    <tr>\n",
       "      <th>Multi-agency Investigation</th>\n",
       "      <td>0</td>\n",
       "      <td>0</td>\n",
       "      <td>1</td>\n",
       "      <td>2</td>\n",
       "      <td>3</td>\n",
       "    </tr>\n",
       "    <tr>\n",
       "      <th>Special Event</th>\n",
       "      <td>0</td>\n",
       "      <td>3</td>\n",
       "      <td>0</td>\n",
       "      <td>0</td>\n",
       "      <td>3</td>\n",
       "    </tr>\n",
       "    <tr>\n",
       "      <th>Community Health Assessment</th>\n",
       "      <td>1</td>\n",
       "      <td>0</td>\n",
       "      <td>0</td>\n",
       "      <td>0</td>\n",
       "      <td>1</td>\n",
       "    </tr>\n",
       "  </tbody>\n",
       "</table>\n",
       "</div>"
      ],
      "text/plain": [
       "year                               2016  2017  2018  2019  Total\n",
       "type                                                            \n",
       "Routine - Unscheduled               966  4057  4373  4681  14077\n",
       "Reinspection/Followup               445  1767  1935  2292   6439\n",
       "New Ownership                        99   506   528   459   1592\n",
       "Complaint                            91   418   512   437   1458\n",
       "New Construction                    102   485   218   189    994\n",
       "Non-inspection site visit            51   276   253   231    811\n",
       "New Ownership - Followup              0    45   219   235    499\n",
       "Structural Inspection                 1   153    50   190    394\n",
       "Complaint Reinspection/Followup      19    68    70    70    227\n",
       "Foodborne Illness Investigation       1    29    50    35    115\n",
       "Routine - Scheduled                   0     9     8    29     46\n",
       "Administrative or Document Review     2     1     1     0      4\n",
       "Multi-agency Investigation            0     0     1     2      3\n",
       "Special Event                         0     3     0     0      3\n",
       "Community Health Assessment           1     0     0     0      1"
      ]
     },
     "execution_count": 265,
     "metadata": {},
     "output_type": "execute_result"
    }
   ],
   "source": [
    "ins_pivot = pd.pivot_table(ins, index='type', columns='year', aggfunc='count', fill_value=0, margins=True, margins_name = 'Total')['date']\n",
    "ins_pivot = ins_pivot.sort_values(by='Total', ascending=False)\n",
    "\n",
    "ins_pivot_sorted = ins_pivot.drop('Total', axis=0)\n",
    "ins_pivot_sorted"
   ]
  },
  {
   "cell_type": "code",
   "execution_count": 266,
   "metadata": {
    "deletable": false,
    "editable": false
   },
   "outputs": [
    {
     "data": {
      "text/html": [
       "\n",
       "    \n",
       "    \n",
       "        <p>All tests passed!</p>\n",
       "    \n",
       "    "
      ],
      "text/plain": [
       "\n",
       "    All tests passed!\n",
       "    "
      ]
     },
     "execution_count": 266,
     "metadata": {},
     "output_type": "execute_result"
    }
   ],
   "source": [
    "grader.check(\"q4di\")"
   ]
  },
  {
   "cell_type": "markdown",
   "metadata": {
    "deletable": false,
    "editable": false
   },
   "source": [
    "**Part 2**\n",
    "\n",
    "Based on the above analysis, which year appears to have had a lot of businesses in newly constructed buildings?\n",
    "<!--\n",
    "BEGIN QUESTION\n",
    "name: q4dii\n",
    "points: 2\n",
    "-->"
   ]
  },
  {
   "cell_type": "code",
   "execution_count": 267,
   "metadata": {},
   "outputs": [],
   "source": [
    "year_of_new_construction = 2017"
   ]
  },
  {
   "cell_type": "code",
   "execution_count": 268,
   "metadata": {
    "deletable": false,
    "editable": false
   },
   "outputs": [
    {
     "data": {
      "text/html": [
       "\n",
       "    \n",
       "    \n",
       "        <p>All tests passed!</p>\n",
       "    \n",
       "    "
      ],
      "text/plain": [
       "\n",
       "    All tests passed!\n",
       "    "
      ]
     },
     "execution_count": 268,
     "metadata": {},
     "output_type": "execute_result"
    }
   ],
   "source": [
    "grader.check(\"q4dii\")"
   ]
  },
  {
   "cell_type": "markdown",
   "metadata": {},
   "source": [
    "<br/><br/><br/>\n",
    "\n",
    "---\n",
    "\n",
    "## Question 4e\n",
    "\n",
    "Let's examine the inspection scores `ins['score']`\n",
    "\n"
   ]
  },
  {
   "cell_type": "code",
   "execution_count": 269,
   "metadata": {},
   "outputs": [
    {
     "data": {
      "text/plain": [
       "-1      12632\n",
       " 100     1993\n",
       " 96      1681\n",
       " 92      1260\n",
       " 94      1250\n",
       "Name: score, dtype: int64"
      ]
     },
     "execution_count": 269,
     "metadata": {},
     "output_type": "execute_result"
    }
   ],
   "source": [
    "ins['score'].value_counts().head()"
   ]
  },
  {
   "cell_type": "markdown",
   "metadata": {},
   "source": [
    "There are a large number of inspections with the `'score'` of `-1`.   These are probably missing values.  Let's see what type of inspections have scores and which do not. Create the following dataframe using steps similar to the previous question, and assign it to to the variable `ins_missing_score_pivot`.\n",
    "\n",
    "You should observe that inspection scores appear only to be assigned to `Routine - Unscheduled` inspections.\n",
    "\n",
    "\n",
    "<table border=\"1\" class=\"dataframe\">  <thead>    <tr style=\"text-align: right;\">      <th>Missing Score</th>      <th>False</th>      <th>True</th>      <th>Total</th>    </tr>    <tr>      <th>type</th>      <th></th>      <th></th>      <th></th>    </tr>  </thead>  <tbody>    <tr>      <th>Routine - Unscheduled</th>      <td>14031</td>      <td>46</td>      <td>14077</td>    </tr>    <tr>      <th>Reinspection/Followup</th>      <td>0</td>      <td>6439</td>      <td>6439</td>    </tr>    <tr>      <th>New Ownership</th>      <td>0</td>      <td>1592</td>      <td>1592</td>    </tr>    <tr>      <th>Complaint</th>      <td>0</td>      <td>1458</td>      <td>1458</td>    </tr>    <tr>      <th>New Construction</th>      <td>0</td>      <td>994</td>      <td>994</td>    </tr>    <tr>      <th>Non-inspection site visit</th>      <td>0</td>      <td>811</td>      <td>811</td>    </tr>    <tr>      <th>New Ownership - Followup</th>      <td>0</td>      <td>499</td>      <td>499</td>    </tr>    <tr>      <th>Structural Inspection</th>      <td>0</td>      <td>394</td>      <td>394</td>    </tr>    <tr>      <th>Complaint Reinspection/Followup</th>      <td>0</td>      <td>227</td>      <td>227</td>    </tr>    <tr>      <th>Foodborne Illness Investigation</th>      <td>0</td>      <td>115</td>      <td>115</td>    </tr>    <tr>      <th>Routine - Scheduled</th>      <td>0</td>      <td>46</td>      <td>46</td>    </tr>    <tr>      <th>Administrative or Document Review</th>      <td>0</td>      <td>4</td>      <td>4</td>    </tr>    <tr>      <th>Multi-agency Investigation</th>      <td>0</td>      <td>3</td>      <td>3</td>    </tr>    <tr>      <th>Special Event</th>      <td>0</td>      <td>3</td>      <td>3</td>    </tr>    <tr>      <th>Community Health Assessment</th>      <td>0</td>      <td>1</td>      <td>1</td>    </tr>  </tbody></table>\n",
    "\n"
   ]
  },
  {
   "cell_type": "code",
   "execution_count": 270,
   "metadata": {},
   "outputs": [
    {
     "data": {
      "text/html": [
       "<div>\n",
       "<style scoped>\n",
       "    .dataframe tbody tr th:only-of-type {\n",
       "        vertical-align: middle;\n",
       "    }\n",
       "\n",
       "    .dataframe tbody tr th {\n",
       "        vertical-align: top;\n",
       "    }\n",
       "\n",
       "    .dataframe thead th {\n",
       "        text-align: right;\n",
       "    }\n",
       "</style>\n",
       "<table border=\"1\" class=\"dataframe\">\n",
       "  <thead>\n",
       "    <tr style=\"text-align: right;\">\n",
       "      <th>Missing Score</th>\n",
       "      <th>False</th>\n",
       "      <th>True</th>\n",
       "      <th>Total</th>\n",
       "    </tr>\n",
       "    <tr>\n",
       "      <th>type</th>\n",
       "      <th></th>\n",
       "      <th></th>\n",
       "      <th></th>\n",
       "    </tr>\n",
       "  </thead>\n",
       "  <tbody>\n",
       "    <tr>\n",
       "      <th>Routine - Unscheduled</th>\n",
       "      <td>14031</td>\n",
       "      <td>46</td>\n",
       "      <td>14077</td>\n",
       "    </tr>\n",
       "    <tr>\n",
       "      <th>Reinspection/Followup</th>\n",
       "      <td>0</td>\n",
       "      <td>6439</td>\n",
       "      <td>6439</td>\n",
       "    </tr>\n",
       "    <tr>\n",
       "      <th>New Ownership</th>\n",
       "      <td>0</td>\n",
       "      <td>1592</td>\n",
       "      <td>1592</td>\n",
       "    </tr>\n",
       "    <tr>\n",
       "      <th>Complaint</th>\n",
       "      <td>0</td>\n",
       "      <td>1458</td>\n",
       "      <td>1458</td>\n",
       "    </tr>\n",
       "    <tr>\n",
       "      <th>New Construction</th>\n",
       "      <td>0</td>\n",
       "      <td>994</td>\n",
       "      <td>994</td>\n",
       "    </tr>\n",
       "    <tr>\n",
       "      <th>Non-inspection site visit</th>\n",
       "      <td>0</td>\n",
       "      <td>811</td>\n",
       "      <td>811</td>\n",
       "    </tr>\n",
       "    <tr>\n",
       "      <th>New Ownership - Followup</th>\n",
       "      <td>0</td>\n",
       "      <td>499</td>\n",
       "      <td>499</td>\n",
       "    </tr>\n",
       "    <tr>\n",
       "      <th>Structural Inspection</th>\n",
       "      <td>0</td>\n",
       "      <td>394</td>\n",
       "      <td>394</td>\n",
       "    </tr>\n",
       "    <tr>\n",
       "      <th>Complaint Reinspection/Followup</th>\n",
       "      <td>0</td>\n",
       "      <td>227</td>\n",
       "      <td>227</td>\n",
       "    </tr>\n",
       "    <tr>\n",
       "      <th>Foodborne Illness Investigation</th>\n",
       "      <td>0</td>\n",
       "      <td>115</td>\n",
       "      <td>115</td>\n",
       "    </tr>\n",
       "    <tr>\n",
       "      <th>Routine - Scheduled</th>\n",
       "      <td>0</td>\n",
       "      <td>46</td>\n",
       "      <td>46</td>\n",
       "    </tr>\n",
       "    <tr>\n",
       "      <th>Administrative or Document Review</th>\n",
       "      <td>0</td>\n",
       "      <td>4</td>\n",
       "      <td>4</td>\n",
       "    </tr>\n",
       "    <tr>\n",
       "      <th>Multi-agency Investigation</th>\n",
       "      <td>0</td>\n",
       "      <td>3</td>\n",
       "      <td>3</td>\n",
       "    </tr>\n",
       "    <tr>\n",
       "      <th>Special Event</th>\n",
       "      <td>0</td>\n",
       "      <td>3</td>\n",
       "      <td>3</td>\n",
       "    </tr>\n",
       "    <tr>\n",
       "      <th>Community Health Assessment</th>\n",
       "      <td>0</td>\n",
       "      <td>1</td>\n",
       "      <td>1</td>\n",
       "    </tr>\n",
       "  </tbody>\n",
       "</table>\n",
       "</div>"
      ],
      "text/plain": [
       "Missing Score                      False  True  Total\n",
       "type                                                 \n",
       "Routine - Unscheduled              14031    46  14077\n",
       "Reinspection/Followup                  0  6439   6439\n",
       "New Ownership                          0  1592   1592\n",
       "Complaint                              0  1458   1458\n",
       "New Construction                       0   994    994\n",
       "Non-inspection site visit              0   811    811\n",
       "New Ownership - Followup               0   499    499\n",
       "Structural Inspection                  0   394    394\n",
       "Complaint Reinspection/Followup        0   227    227\n",
       "Foodborne Illness Investigation        0   115    115\n",
       "Routine - Scheduled                    0    46     46\n",
       "Administrative or Document Review      0     4      4\n",
       "Multi-agency Investigation             0     3      3\n",
       "Special Event                          0     3      3\n",
       "Community Health Assessment            0     1      1"
      ]
     },
     "execution_count": 270,
     "metadata": {},
     "output_type": "execute_result"
    }
   ],
   "source": [
    "ins['Missing Score'] = ins['score'] == -1\n",
    "\n",
    "missing_pivot = pd.pivot_table(ins, values='iid', index='type', columns='Missing Score', aggfunc='count', fill_value=0, margins=True, margins_name='Total')\n",
    "missing_pivot = missing_pivot.sort_values(by='Total', ascending=False)\n",
    "\n",
    "ins_missing_score_pivot = missing_pivot.drop('Total', axis=0)\n",
    "ins_missing_score_pivot"
   ]
  },
  {
   "cell_type": "code",
   "execution_count": 271,
   "metadata": {
    "deletable": false,
    "editable": false
   },
   "outputs": [
    {
     "data": {
      "text/html": [
       "\n",
       "    \n",
       "    \n",
       "        <p>All tests passed!</p>\n",
       "    \n",
       "    "
      ],
      "text/plain": [
       "\n",
       "    All tests passed!\n",
       "    "
      ]
     },
     "execution_count": 271,
     "metadata": {},
     "output_type": "execute_result"
    }
   ],
   "source": [
    "grader.check(\"q4e\")"
   ]
  },
  {
   "cell_type": "markdown",
   "metadata": {},
   "source": [
    "Notice that inspection scores appear only to be assigned to `Routine - Unscheduled` inspections. It is reasonable that for inspection types such as `New Ownership` and `Complaint` to have no associated inspection scores, but we might be curious why there are no inspection scores for the `Reinspection/Followup` inspection type."
   ]
  },
  {
   "cell_type": "markdown",
   "metadata": {
    "nbgrader": {
     "grade": false,
     "grade_id": "business-data",
     "locked": true,
     "schema_version": 2,
     "solution": false
    }
   },
   "source": [
    "<br/><br/><br/>\n",
    "\n",
    "---\n",
    "\n",
    "<br/><br/><br/>\n",
    "\n",
    "# 5: Joining Data Across Tables\n",
    "\n",
    "In this question we will start to connect data across mulitple tables.  We will be using the `merge` function. "
   ]
  },
  {
   "cell_type": "markdown",
   "metadata": {},
   "source": [
    "<br/><br/><br/>\n",
    "\n",
    "--- \n",
    "\n",
    "## Question 5a\n",
    "\n",
    "Let's figure out which restaurants had the lowest scores. Before we proceed, let's filter out missing scores from `ins` so that negative scores don't influence our results."
   ]
  },
  {
   "cell_type": "code",
   "execution_count": 272,
   "metadata": {},
   "outputs": [],
   "source": [
    "ins = ins[ins[\"score\"] > 0]"
   ]
  },
  {
   "cell_type": "markdown",
   "metadata": {
    "deletable": false,
    "editable": false
   },
   "source": [
    "We'll start by creating a new dataframe called `ins_named`. It should be exactly the same as `ins`, except that it should have the name and address of every business, as determined by the `bus` dataframe. If a `business_id` in `ins` does not exist in `bus`, the name and address should be given as `NaN`. \n",
    "\n",
    "*Hint*: Use the merge method to join the `ins` dataframe with the appropriate portion of the `bus` dataframe. See the official [documentation](https://pandas.pydata.org/pandas-docs/stable/user_guide/merging.html) on how to use `merge`.\n",
    "\n",
    "*Note*: For quick reference, a pandas 'left' join keeps the keys from the left frame, so if `ins` is the left frame, all the keys from `ins` are kept and if a set of these keys don't have matches in the other frame, the columns from the other frame for these \"unmatched\" key rows contains NaNs.\n",
    "\n",
    "<!--\n",
    "BEGIN QUESTION\n",
    "name: q5a\n",
    "points: 2\n",
    "-->"
   ]
  },
  {
   "cell_type": "code",
   "execution_count": 273,
   "metadata": {},
   "outputs": [
    {
     "data": {
      "text/html": [
       "<div>\n",
       "<style scoped>\n",
       "    .dataframe tbody tr th:only-of-type {\n",
       "        vertical-align: middle;\n",
       "    }\n",
       "\n",
       "    .dataframe tbody tr th {\n",
       "        vertical-align: top;\n",
       "    }\n",
       "\n",
       "    .dataframe thead th {\n",
       "        text-align: right;\n",
       "    }\n",
       "</style>\n",
       "<table border=\"1\" class=\"dataframe\">\n",
       "  <thead>\n",
       "    <tr style=\"text-align: right;\">\n",
       "      <th></th>\n",
       "      <th>iid</th>\n",
       "      <th>date</th>\n",
       "      <th>score</th>\n",
       "      <th>type</th>\n",
       "      <th>bid</th>\n",
       "      <th>timestamp</th>\n",
       "      <th>year</th>\n",
       "      <th>Missing Score</th>\n",
       "      <th>name</th>\n",
       "      <th>address</th>\n",
       "    </tr>\n",
       "  </thead>\n",
       "  <tbody>\n",
       "    <tr>\n",
       "      <th>0</th>\n",
       "      <td>100010_20190403</td>\n",
       "      <td>04/03/2019 12:00:00 AM</td>\n",
       "      <td>100</td>\n",
       "      <td>Routine - Unscheduled</td>\n",
       "      <td>100010</td>\n",
       "      <td>2019-04-03</td>\n",
       "      <td>2019</td>\n",
       "      <td>False</td>\n",
       "      <td>ILLY CAFFE SF_PIER 39</td>\n",
       "      <td>PIER 39  K-106-B</td>\n",
       "    </tr>\n",
       "    <tr>\n",
       "      <th>1</th>\n",
       "      <td>100017_20190816</td>\n",
       "      <td>08/16/2019 12:00:00 AM</td>\n",
       "      <td>91</td>\n",
       "      <td>Routine - Unscheduled</td>\n",
       "      <td>100017</td>\n",
       "      <td>2019-08-16</td>\n",
       "      <td>2019</td>\n",
       "      <td>False</td>\n",
       "      <td>AMICI'S EAST COAST PIZZERIA</td>\n",
       "      <td>475 06th St</td>\n",
       "    </tr>\n",
       "    <tr>\n",
       "      <th>2</th>\n",
       "      <td>100041_20190520</td>\n",
       "      <td>05/20/2019 12:00:00 AM</td>\n",
       "      <td>83</td>\n",
       "      <td>Routine - Unscheduled</td>\n",
       "      <td>100041</td>\n",
       "      <td>2019-05-20</td>\n",
       "      <td>2019</td>\n",
       "      <td>False</td>\n",
       "      <td>UNCLE LEE CAFE</td>\n",
       "      <td>3608 BALBOA ST</td>\n",
       "    </tr>\n",
       "    <tr>\n",
       "      <th>3</th>\n",
       "      <td>100055_20190425</td>\n",
       "      <td>04/25/2019 12:00:00 AM</td>\n",
       "      <td>98</td>\n",
       "      <td>Routine - Unscheduled</td>\n",
       "      <td>100055</td>\n",
       "      <td>2019-04-25</td>\n",
       "      <td>2019</td>\n",
       "      <td>False</td>\n",
       "      <td>Twirl and Dip</td>\n",
       "      <td>335 Martin Luther King Jr. Dr</td>\n",
       "    </tr>\n",
       "    <tr>\n",
       "      <th>4</th>\n",
       "      <td>100055_20190912</td>\n",
       "      <td>09/12/2019 12:00:00 AM</td>\n",
       "      <td>82</td>\n",
       "      <td>Routine - Unscheduled</td>\n",
       "      <td>100055</td>\n",
       "      <td>2019-09-12</td>\n",
       "      <td>2019</td>\n",
       "      <td>False</td>\n",
       "      <td>Twirl and Dip</td>\n",
       "      <td>335 Martin Luther King Jr. Dr</td>\n",
       "    </tr>\n",
       "  </tbody>\n",
       "</table>\n",
       "</div>"
      ],
      "text/plain": [
       "               iid                    date  score                   type  \\\n",
       "0  100010_20190403  04/03/2019 12:00:00 AM    100  Routine - Unscheduled   \n",
       "1  100017_20190816  08/16/2019 12:00:00 AM     91  Routine - Unscheduled   \n",
       "2  100041_20190520  05/20/2019 12:00:00 AM     83  Routine - Unscheduled   \n",
       "3  100055_20190425  04/25/2019 12:00:00 AM     98  Routine - Unscheduled   \n",
       "4  100055_20190912  09/12/2019 12:00:00 AM     82  Routine - Unscheduled   \n",
       "\n",
       "      bid  timestamp  year  Missing Score                         name  \\\n",
       "0  100010 2019-04-03  2019          False        ILLY CAFFE SF_PIER 39   \n",
       "1  100017 2019-08-16  2019          False  AMICI'S EAST COAST PIZZERIA   \n",
       "2  100041 2019-05-20  2019          False               UNCLE LEE CAFE   \n",
       "3  100055 2019-04-25  2019          False                Twirl and Dip   \n",
       "4  100055 2019-09-12  2019          False                Twirl and Dip   \n",
       "\n",
       "                         address  \n",
       "0               PIER 39  K-106-B  \n",
       "1                    475 06th St  \n",
       "2                 3608 BALBOA ST  \n",
       "3  335 Martin Luther King Jr. Dr  \n",
       "4  335 Martin Luther King Jr. Dr  "
      ]
     },
     "execution_count": 273,
     "metadata": {},
     "output_type": "execute_result"
    }
   ],
   "source": [
    "bus_ins = ins.merge(bus, how='left', on='bid')\n",
    "ins_named = bus_ins.drop('city', axis=1).drop('state', axis=1).drop('postal_code',axis=1).drop(\n",
    "'latitude', axis=1).drop('longitude', axis=1).drop('phone_number', axis=1).drop('postal5', axis=1)\n",
    "ins_named.head()"
   ]
  },
  {
   "cell_type": "code",
   "execution_count": 274,
   "metadata": {
    "deletable": false,
    "editable": false
   },
   "outputs": [
    {
     "data": {
      "text/html": [
       "\n",
       "    \n",
       "    \n",
       "        <p>All tests passed!</p>\n",
       "    \n",
       "    "
      ],
      "text/plain": [
       "\n",
       "    All tests passed!\n",
       "    "
      ]
     },
     "execution_count": 274,
     "metadata": {},
     "output_type": "execute_result"
    }
   ],
   "source": [
    "grader.check(\"q5a\")"
   ]
  },
  {
   "cell_type": "markdown",
   "metadata": {
    "deletable": false,
    "editable": false
   },
   "source": [
    "<br/><br/><br/>\n",
    "\n",
    "--- \n",
    "\n",
    "## Question 5b\n",
    "\n",
    "Let's look at the 20 businesses with the lowest **median** score.  Order your results by the median score followed by the business id to break ties. The resulting table should look like:\n",
    "\n",
    "\n",
    "*Hint: You may find the `as_index` argument important*\n",
    "\n",
    "<table border=\"1\" class=\"dataframe\">  <thead>    <tr style=\"text-align: right;\">      <th></th>      <th>bid</th>      <th>name</th>      <th>median score</th>    </tr>  </thead>  <tbody>    <tr>      <th>3876</th>      <td>84590</td>      <td>Chaat Corner</td>      <td>54.0</td>    </tr>    <tr>      <th>4564</th>      <td>90622</td>      <td>Taqueria Lolita</td>      <td>57.0</td>    </tr>    <tr>      <th>4990</th>      <td>94351</td>      <td>VBowls LLC</td>      <td>58.0</td>    </tr>    <tr>      <th>2719</th>      <td>69282</td>      <td>New Jumbo Seafood Restaurant</td>      <td>60.5</td>    </tr>    <tr>      <th>222</th>      <td>1154</td>      <td>SUNFLOWER RESTAURANT</td>      <td>63.5</td>    </tr>    <tr>      <th>1991</th>      <td>39776</td>      <td>Duc Loi Supermarket</td>      <td>64.0</td>    </tr>    <tr>      <th>2734</th>      <td>69397</td>      <td>Minna SF Group LLC</td>      <td>64.0</td>    </tr>    <tr>      <th>3291</th>      <td>78328</td>      <td>Golden Wok</td>      <td>64.0</td>    </tr>    <tr>      <th>4870</th>      <td>93150</td>      <td>Chez Beesen</td>      <td>64.0</td>    </tr>    <tr>      <th>4911</th>      <td>93502</td>      <td>Smoky Man</td>      <td>64.0</td>    </tr>    <tr>      <th>5510</th>      <td>98995</td>      <td>Vallarta's Taco Bar</td>      <td>64.0</td>    </tr>    <tr>      <th>1457</th>      <td>10877</td>      <td>CHINA FIRST INC.</td>      <td>64.5</td>    </tr>    <tr>      <th>2890</th>      <td>71310</td>      <td>Golden King Vietnamese Restaurant</td>      <td>64.5</td>    </tr>    <tr>      <th>4352</th>      <td>89070</td>      <td>Lafayette Coffee Shop</td>      <td>64.5</td>    </tr>    <tr>      <th>505</th>      <td>2542</td>      <td>PETER D'S RESTAURANT</td>      <td>65.0</td>    </tr>    <tr>      <th>2874</th>      <td>71008</td>      <td>House of Pancakes</td>      <td>65.0</td>    </tr>    <tr>      <th>818</th>      <td>3862</td>      <td>IMPERIAL GARDEN SEAFOOD RESTAURANT</td>      <td>66.0</td>    </tr>    <tr>      <th>2141</th>      <td>61427</td>      <td>Nick's Foods</td>      <td>66.0</td>    </tr>    <tr>      <th>2954</th>      <td>72176</td>      <td>Wolfes Lunch</td>      <td>66.0</td>    </tr>    <tr>      <th>4367</th>      <td>89141</td>      <td>Cha Cha Cha on Mission</td>      <td>66.5</td>    </tr>  </tbody></table>\n",
    "\n",
    "\n",
    "<!--\n",
    "BEGIN QUESTION\n",
    "name: q5b\n",
    "points: 3\n",
    "-->"
   ]
  },
  {
   "cell_type": "code",
   "execution_count": 275,
   "metadata": {},
   "outputs": [
    {
     "data": {
      "text/html": [
       "<div>\n",
       "<style scoped>\n",
       "    .dataframe tbody tr th:only-of-type {\n",
       "        vertical-align: middle;\n",
       "    }\n",
       "\n",
       "    .dataframe tbody tr th {\n",
       "        vertical-align: top;\n",
       "    }\n",
       "\n",
       "    .dataframe thead th {\n",
       "        text-align: right;\n",
       "    }\n",
       "</style>\n",
       "<table border=\"1\" class=\"dataframe\">\n",
       "  <thead>\n",
       "    <tr style=\"text-align: right;\">\n",
       "      <th></th>\n",
       "      <th>bid</th>\n",
       "      <th>name</th>\n",
       "      <th>median score</th>\n",
       "    </tr>\n",
       "  </thead>\n",
       "  <tbody>\n",
       "    <tr>\n",
       "      <th>3876</th>\n",
       "      <td>84590</td>\n",
       "      <td>Chaat Corner</td>\n",
       "      <td>54.0</td>\n",
       "    </tr>\n",
       "    <tr>\n",
       "      <th>4564</th>\n",
       "      <td>90622</td>\n",
       "      <td>Taqueria Lolita</td>\n",
       "      <td>57.0</td>\n",
       "    </tr>\n",
       "    <tr>\n",
       "      <th>4990</th>\n",
       "      <td>94351</td>\n",
       "      <td>VBowls LLC</td>\n",
       "      <td>58.0</td>\n",
       "    </tr>\n",
       "    <tr>\n",
       "      <th>2719</th>\n",
       "      <td>69282</td>\n",
       "      <td>New Jumbo Seafood Restaurant</td>\n",
       "      <td>60.5</td>\n",
       "    </tr>\n",
       "    <tr>\n",
       "      <th>222</th>\n",
       "      <td>1154</td>\n",
       "      <td>SUNFLOWER RESTAURANT</td>\n",
       "      <td>63.5</td>\n",
       "    </tr>\n",
       "    <tr>\n",
       "      <th>1991</th>\n",
       "      <td>39776</td>\n",
       "      <td>Duc Loi Supermarket</td>\n",
       "      <td>64.0</td>\n",
       "    </tr>\n",
       "    <tr>\n",
       "      <th>2734</th>\n",
       "      <td>69397</td>\n",
       "      <td>Minna SF Group LLC</td>\n",
       "      <td>64.0</td>\n",
       "    </tr>\n",
       "    <tr>\n",
       "      <th>3291</th>\n",
       "      <td>78328</td>\n",
       "      <td>Golden Wok</td>\n",
       "      <td>64.0</td>\n",
       "    </tr>\n",
       "    <tr>\n",
       "      <th>4870</th>\n",
       "      <td>93150</td>\n",
       "      <td>Chez Beesen</td>\n",
       "      <td>64.0</td>\n",
       "    </tr>\n",
       "    <tr>\n",
       "      <th>4911</th>\n",
       "      <td>93502</td>\n",
       "      <td>Smoky Man</td>\n",
       "      <td>64.0</td>\n",
       "    </tr>\n",
       "    <tr>\n",
       "      <th>5510</th>\n",
       "      <td>98995</td>\n",
       "      <td>Vallarta's Taco Bar</td>\n",
       "      <td>64.0</td>\n",
       "    </tr>\n",
       "    <tr>\n",
       "      <th>1457</th>\n",
       "      <td>10877</td>\n",
       "      <td>CHINA FIRST INC.</td>\n",
       "      <td>64.5</td>\n",
       "    </tr>\n",
       "    <tr>\n",
       "      <th>2890</th>\n",
       "      <td>71310</td>\n",
       "      <td>Golden King Vietnamese Restaurant</td>\n",
       "      <td>64.5</td>\n",
       "    </tr>\n",
       "    <tr>\n",
       "      <th>4352</th>\n",
       "      <td>89070</td>\n",
       "      <td>Lafayette Coffee Shop</td>\n",
       "      <td>64.5</td>\n",
       "    </tr>\n",
       "    <tr>\n",
       "      <th>505</th>\n",
       "      <td>2542</td>\n",
       "      <td>PETER D'S RESTAURANT</td>\n",
       "      <td>65.0</td>\n",
       "    </tr>\n",
       "    <tr>\n",
       "      <th>2874</th>\n",
       "      <td>71008</td>\n",
       "      <td>House of Pancakes</td>\n",
       "      <td>65.0</td>\n",
       "    </tr>\n",
       "    <tr>\n",
       "      <th>818</th>\n",
       "      <td>3862</td>\n",
       "      <td>IMPERIAL GARDEN SEAFOOD RESTAURANT</td>\n",
       "      <td>66.0</td>\n",
       "    </tr>\n",
       "    <tr>\n",
       "      <th>2141</th>\n",
       "      <td>61427</td>\n",
       "      <td>Nick's Foods</td>\n",
       "      <td>66.0</td>\n",
       "    </tr>\n",
       "    <tr>\n",
       "      <th>2954</th>\n",
       "      <td>72176</td>\n",
       "      <td>Wolfes Lunch</td>\n",
       "      <td>66.0</td>\n",
       "    </tr>\n",
       "    <tr>\n",
       "      <th>4367</th>\n",
       "      <td>89141</td>\n",
       "      <td>Cha Cha Cha on Mission</td>\n",
       "      <td>66.5</td>\n",
       "    </tr>\n",
       "  </tbody>\n",
       "</table>\n",
       "</div>"
      ],
      "text/plain": [
       "        bid                                name  median score\n",
       "3876  84590                        Chaat Corner          54.0\n",
       "4564  90622                     Taqueria Lolita          57.0\n",
       "4990  94351                          VBowls LLC          58.0\n",
       "2719  69282        New Jumbo Seafood Restaurant          60.5\n",
       "222    1154                SUNFLOWER RESTAURANT          63.5\n",
       "1991  39776                 Duc Loi Supermarket          64.0\n",
       "2734  69397                  Minna SF Group LLC          64.0\n",
       "3291  78328                          Golden Wok          64.0\n",
       "4870  93150                         Chez Beesen          64.0\n",
       "4911  93502                           Smoky Man          64.0\n",
       "5510  98995                 Vallarta's Taco Bar          64.0\n",
       "1457  10877                    CHINA FIRST INC.          64.5\n",
       "2890  71310   Golden King Vietnamese Restaurant          64.5\n",
       "4352  89070               Lafayette Coffee Shop          64.5\n",
       "505    2542                PETER D'S RESTAURANT          65.0\n",
       "2874  71008                   House of Pancakes          65.0\n",
       "818    3862  IMPERIAL GARDEN SEAFOOD RESTAURANT          66.0\n",
       "2141  61427                        Nick's Foods          66.0\n",
       "2954  72176                        Wolfes Lunch          66.0\n",
       "4367  89141              Cha Cha Cha on Mission          66.5"
      ]
     },
     "execution_count": 275,
     "metadata": {},
     "output_type": "execute_result"
    }
   ],
   "source": [
    "ordered = ins_named.sort_values('score')\n",
    "grouped = ordered.groupby(['bid', 'name'], as_index=False).median().sort_values(['score', 'bid'])\n",
    "\n",
    "\n",
    "twenty_lowest_scoring = grouped.drop('year', axis=1).drop('Missing Score', axis=1).rename(columns = {'score': 'median score'}).head(20)\n",
    "twenty_lowest_scoring"
   ]
  },
  {
   "cell_type": "code",
   "execution_count": 276,
   "metadata": {
    "deletable": false,
    "editable": false
   },
   "outputs": [
    {
     "data": {
      "text/html": [
       "\n",
       "    \n",
       "    \n",
       "        <p>All tests passed!</p>\n",
       "    \n",
       "    "
      ],
      "text/plain": [
       "\n",
       "    All tests passed!\n",
       "    "
      ]
     },
     "execution_count": 276,
     "metadata": {},
     "output_type": "execute_result"
    }
   ],
   "source": [
    "grader.check(\"q5b\")"
   ]
  },
  {
   "cell_type": "markdown",
   "metadata": {
    "deletable": false,
    "editable": false
   },
   "source": [
    "<br/><br/><br/>\n",
    "\n",
    "--- \n",
    "\n",
    "## Question 5c\n",
    "\n",
    "Let's now examine the descriptions of violations for inspections with `score > 0` and `score < 65`.  Construct a **Series** indexed by the `description` of the violation from the `vio` table with the value being the number of times that violation occured for inspections with the above score range.  Sort the results in descending order of the count.\n",
    "\n",
    "The first few entries should look like:\n",
    "\n",
    "```\n",
    "Unclean or unsanitary food contact surfaces                                  43\n",
    "High risk food holding temperature                                           42\n",
    "Unclean or degraded floors walls or ceilings                                 40\n",
    "Unapproved or unmaintained equipment or utensils                             39\n",
    "```\n",
    "You will need to use `merge` twice.\n",
    "\n",
    "<!--\n",
    "BEGIN QUESTION\n",
    "name: q5c\n",
    "points: 2\n",
    "-->"
   ]
  },
  {
   "cell_type": "code",
   "execution_count": 277,
   "metadata": {},
   "outputs": [
    {
     "data": {
      "text/plain": [
       "Unclean or unsanitary food contact surfaces                                  43\n",
       "High risk food holding temperature                                           42\n",
       "Unclean or degraded floors walls or ceilings                                 40\n",
       "Unapproved or unmaintained equipment or utensils                             39\n",
       "High risk vermin infestation                                                 37\n",
       "Foods not protected from contamination                                       37\n",
       "Inadequate food safety knowledge or lack of certified food safety manager    35\n",
       "Inadequate and inaccessible handwashing facilities                           35\n",
       "Improper thawing methods                                                     30\n",
       "Unclean hands or improper use of gloves                                      27\n",
       "Improper cooling methods                                                     25\n",
       "Unclean nonfood contact surfaces                                             21\n",
       "Inadequately cleaned or sanitized food contact surfaces                      20\n",
       "Improper food storage                                                        20\n",
       "Contaminated or adulterated food                                             18\n",
       "Moderate risk vermin infestation                                             15\n",
       "Permit license or inspection report not posted                               13\n",
       "Moderate risk food holding temperature                                       13\n",
       "Food safety certificate or food handler card not available                   12\n",
       "Improper storage use or identification of toxic substances                   10\n",
       "Name: description, dtype: int64"
      ]
     },
     "execution_count": 277,
     "metadata": {},
     "output_type": "execute_result"
    }
   ],
   "source": [
    "vio_ins2vio = vio.merge(ins2vio, how='left', on = 'vid')\n",
    "vio_ins2vio_ins = vio_ins2vio.merge(ins, how='left', on = 'iid')\n",
    "\n",
    "\n",
    "positive_scores = vio_ins2vio_ins[vio_ins2vio_ins['score'] > 0]\n",
    "scores = positive_scores[positive_scores['score'] < 65]\n",
    "\n",
    "low_score_violations = scores['description'].value_counts()\n",
    "\n",
    "low_score_violations.head(20)"
   ]
  },
  {
   "cell_type": "code",
   "execution_count": 278,
   "metadata": {
    "deletable": false,
    "editable": false
   },
   "outputs": [
    {
     "data": {
      "text/html": [
       "\n",
       "    \n",
       "    \n",
       "        <p>All tests passed!</p>\n",
       "    \n",
       "    "
      ],
      "text/plain": [
       "\n",
       "    All tests passed!\n",
       "    "
      ]
     },
     "execution_count": 278,
     "metadata": {},
     "output_type": "execute_result"
    }
   ],
   "source": [
    "grader.check(\"q5c\")"
   ]
  },
  {
   "cell_type": "markdown",
   "metadata": {},
   "source": [
    "### Question 5d\n",
    "Let's figure out which restaurant had the worst scores ever (single lowest score). "
   ]
  },
  {
   "cell_type": "code",
   "execution_count": 279,
   "metadata": {},
   "outputs": [
    {
     "data": {
      "text/plain": [
       "'Lollipot'"
      ]
     },
     "execution_count": 279,
     "metadata": {},
     "output_type": "execute_result"
    }
   ],
   "source": [
    "sort = ins_named.sort_values(by='score')\n",
    "\n",
    "\n",
    "worst_restaurant = sort['name'].iloc[0]\n",
    "worst_restaurant"
   ]
  },
  {
   "cell_type": "markdown",
   "metadata": {
    "deletable": false,
    "editable": false
   },
   "source": [
    "<!-- BEGIN QUESTION -->\n",
    "\n",
    "**In the cell below, write the name of the restaurant** with the lowest inspection scores ever. You can also head to yelp.com and look up the reviews page for this restaurant. Feel free to add anything interesting you want to share.\n",
    "\n",
    "<!--\n",
    "BEGIN QUESTION\n",
    "name: q5d\n",
    "points: 2\n",
    "manual: True\n",
    "-->"
   ]
  },
  {
   "cell_type": "markdown",
   "metadata": {},
   "source": [
    "_Lollipot has the lowest inspection score at 45. According to YELP, Lollipot is officially closed, but had 3.5 stars, which, all things considering, is quite impressive. There were also a lot of positive reviews, which indicates people really don't look at health inspection grades when choosing a place to dine at. Or maybe hotpot is just too tempting._"
   ]
  },
  {
   "cell_type": "markdown",
   "metadata": {},
   "source": [
    "<!-- END QUESTION -->\n",
    "\n",
    "\n",
    "\n",
    "<br/><br/><br/><br/>\n",
    "\n",
    "---\n",
    "\n",
    "<br/><br/>\n",
    "\n",
    "## 6: Explore Inspection Scores\n",
    "\n",
    "In this part we explore some of the basic inspection score values visually."
   ]
  },
  {
   "cell_type": "markdown",
   "metadata": {
    "collapsed": true,
    "deletable": false,
    "editable": false,
    "jupyter": {
     "outputs_hidden": true
    }
   },
   "source": [
    "<!-- BEGIN QUESTION -->\n",
    "\n",
    "<br/><br/><br/>\n",
    "\n",
    "---\n",
    "\n",
    "\n",
    "## Question 6a\n",
    "Let's look at the distribution of inspection scores. As we saw before when we called head on this data frame, inspection scores appear to be integer values. The discreteness of this variable means that we can use a barplot to visualize the distribution of the inspection score. Make a bar plot of the counts of the number of inspections receiving each score.\n",
    "\n",
    "It should look like the image below. It does not need to look exactly the same (e.g., no grid), but make sure that all labels and axes are correct.\n",
    "\n",
    "![](pics/6a.png)\n",
    "\n",
    "You might find this [matplotlib.pyplot tutorial](https://matplotlib.org/tutorials/introductory/pyplot.html) useful. Key syntax that you'll need:\n",
    "\n",
    "```\n",
    "plt.bar\n",
    "plt.xlabel\n",
    "plt.ylabel\n",
    "plt.title\n",
    "```\n",
    "\n",
    "*Note*: If you want to use another plotting library for your plots (e.g. plotly, sns) you are welcome to use that library instead so long as it works on DataHub. If you use seaborn sns.countplot(), you may need to manually set what to display on xticks.\n",
    "\n",
    "\n",
    "<!--\n",
    "BEGIN QUESTION\n",
    "name: q6a\n",
    "points: 1\n",
    "manual: True\n",
    "-->"
   ]
  },
  {
   "cell_type": "code",
   "execution_count": 280,
   "metadata": {
    "scrolled": false
   },
   "outputs": [
    {
     "data": {
      "text/plain": [
       "Text(0.5, 1.0, 'Distribution of Inspection Scores')"
      ]
     },
     "execution_count": 280,
     "metadata": {},
     "output_type": "execute_result"
    },
    {
     "data": {
      "image/png": "[encoded data removed]",
      "text/plain": [
       "<Figure size 432x288 with 1 Axes>"
      ]
     },
     "metadata": {},
     "output_type": "display_data"
    }
   ],
   "source": [
    "counted = ins[ins['score'] > 0].groupby('score').count()\n",
    "\n",
    "x = counted.index\n",
    "y = counted['iid']\n",
    "\n",
    "plt.bar(x, y)\n",
    "plt.xlabel('Score')\n",
    "plt.ylabel('Count')\n",
    "plt.title('Distribution of Inspection Scores')"
   ]
  },
  {
   "cell_type": "markdown",
   "metadata": {
    "deletable": false,
    "editable": false
   },
   "source": [
    "<!-- END QUESTION -->"
   ]
  },
  {
   "cell_type": "code",
   "execution_count": 281,
   "metadata": {},
   "outputs": [],
   "source": [
    "#score_counts"
   ]
  },
  {
   "cell_type": "markdown",
   "metadata": {
    "deletable": false,
    "editable": false
   },
   "source": [
    "<!-- BEGIN QUESTION -->\n",
    "\n",
    "<br/><br/><br/>\n",
    "\n",
    "---\n",
    "\n",
    "### Question 6b\n",
    "Describe the qualities of the distribution of the inspections scores based on your bar plot. Consider the mode(s), symmetry, tails, gaps, and anomalous values. Are there any unusual features of this distribution? What do your observations imply about the scores?\n",
    "\n",
    "<!--\n",
    "BEGIN QUESTION\n",
    "name: q6b\n",
    "points: 2\n",
    "manual: True\n",
    "-->"
   ]
  },
  {
   "cell_type": "markdown",
   "metadata": {},
   "source": [
    "_The immediate thing I notice is the general upward slope of the graph, indicating that more restaurants recieve higher scores than not. There is also a higher concentration between the scores of 70 and 90, after which it becomes more spread out. This indicates that, the higher the score, the more restaurants receive these scores BUT these higher scores aren't represented as often. This could be for a number of reasons, perhaps a nuance in the grading criteria that doesn't allow for partial points as scores get higher._\n",
    "\n",
    "_I also noticed the left tail, where scores are lower. I do think it's unexpected that this doesn't resemble a normal distribution, so that the  highest concentration would be between 70 and 85. But I suppose for restauranteers, this is a positive signal as they can trust most restaurants they visit in Berkeley, at least._"
   ]
  },
  {
   "cell_type": "markdown",
   "metadata": {},
   "source": [
    "<!-- END QUESTION -->\n",
    "\n",
    "\n",
    "\n",
    "<br/><br/><br/><br/>\n",
    "\n",
    "---\n",
    "\n",
    "<br/><br/>\n",
    "\n",
    "## 7: Restaurant Ratings Over Time\n",
    "\n",
    "Let's consider various scenarios involving restaurants with multiple ratings over time.\n",
    "\n"
   ]
  },
  {
   "cell_type": "markdown",
   "metadata": {},
   "source": [
    "<br/><br/><br/>\n",
    "\n",
    "---\n",
    "\n",
    "### Question 7a\n",
    "\n",
    "Let's see which restaurant has had the most extreme improvement in its rating, aka scores. Let the \"swing\" of a restaurant be defined as the difference between its highest-ever and lowest-ever rating. **Only consider restaurants with at least 3 ratings, aka rated for at least 3 times (3 scores)!** Using whatever technique you want to use, assign `max_swing` to the name of restaurant that has the maximum swing.\n",
    "\n",
    "*Note*: The \"swing\" is of a specific business. There might be some restaurants with multiple locations; each location has its own \"swing\"."
   ]
  },
  {
   "cell_type": "markdown",
   "metadata": {
    "deletable": false,
    "editable": false
   },
   "source": [
    "The city would like to know if the state of food safety has been getting better, worse, or about average. This is a pretty vague and broad question, which you should expect as part of your future job as a data scientist! However for the ease of grading for this assignment, we are going to guide you through it and offer some specific directions to consider.\n",
    "\n",
    "<!--\n",
    "BEGIN QUESTION\n",
    "name: q7a\n",
    "points: 2\n",
    "-->"
   ]
  },
  {
   "cell_type": "code",
   "execution_count": 282,
   "metadata": {},
   "outputs": [
    {
     "data": {
      "text/plain": [
       "'Lollipot'"
      ]
     },
     "execution_count": 282,
     "metadata": {},
     "output_type": "execute_result"
    }
   ],
   "source": [
    "def helper(series):\n",
    "    if len(series) >= 3:\n",
    "        return max(series) - min(series)\n",
    "    else:\n",
    "        return -1\n",
    "\n",
    "at_least_3 = ins_named.groupby('bid').agg(helper)\n",
    "positive = at_least_3['score'] > 0\n",
    "new = at_least_3[positive]\n",
    "merged = new.merge(bus, how='left', on='bid').sort_values('score', ascending=False)\n",
    "\n",
    "max_swing = (merged['name'].values)[0]\n",
    "max_swing"
   ]
  },
  {
   "cell_type": "code",
   "execution_count": 283,
   "metadata": {
    "deletable": false,
    "editable": false
   },
   "outputs": [
    {
     "data": {
      "text/html": [
       "\n",
       "    \n",
       "    \n",
       "        <p>All tests passed!</p>\n",
       "    \n",
       "    "
      ],
      "text/plain": [
       "\n",
       "    All tests passed!\n",
       "    "
      ]
     },
     "execution_count": 283,
     "metadata": {},
     "output_type": "execute_result"
    }
   ],
   "source": [
    "grader.check(\"q7a\")"
   ]
  },
  {
   "cell_type": "markdown",
   "metadata": {
    "deletable": false,
    "editable": false
   },
   "source": [
    "<br/><br/><br/>\n",
    "\n",
    "---\n",
    "\n",
    "### Question 7b\n",
    "\n",
    "To get a sense of the number of times each restaurant has been inspected, create a multi-indexed dataframe called `inspections_by_id_and_year` where each row corresponds to data about a given business in a single year, and there is a single data column named count that represents the number of inspections for that business in that year. The first index in the MultiIndex should be on `bid`, and the second should be on year.\n",
    "\n",
    "For example, a sample row in this dataframe will tell you that for `bid` 573, in `year` 2017, the total number of inspections was 4.\n",
    "\n",
    "Hint: Use `groupby` to group based on both the `bid` and the `year`.\n",
    "\n",
    "Hint: Use `rename` to change the name of the column to count.\n",
    "\n",
    "<!--\n",
    "BEGIN QUESTION\n",
    "name: q7b\n",
    "points: 1\n",
    "-->"
   ]
  },
  {
   "cell_type": "code",
   "execution_count": 284,
   "metadata": {},
   "outputs": [
    {
     "data": {
      "text/html": [
       "<div>\n",
       "<style scoped>\n",
       "    .dataframe tbody tr th:only-of-type {\n",
       "        vertical-align: middle;\n",
       "    }\n",
       "\n",
       "    .dataframe tbody tr th {\n",
       "        vertical-align: top;\n",
       "    }\n",
       "\n",
       "    .dataframe thead th {\n",
       "        text-align: right;\n",
       "    }\n",
       "</style>\n",
       "<table border=\"1\" class=\"dataframe\">\n",
       "  <thead>\n",
       "    <tr style=\"text-align: right;\">\n",
       "      <th></th>\n",
       "      <th></th>\n",
       "      <th>count</th>\n",
       "    </tr>\n",
       "    <tr>\n",
       "      <th>bid</th>\n",
       "      <th>year</th>\n",
       "      <th></th>\n",
       "    </tr>\n",
       "  </thead>\n",
       "  <tbody>\n",
       "    <tr>\n",
       "      <th rowspan=\"2\" valign=\"top\">19</th>\n",
       "      <th>2017</th>\n",
       "      <td>1</td>\n",
       "    </tr>\n",
       "    <tr>\n",
       "      <th>2018</th>\n",
       "      <td>1</td>\n",
       "    </tr>\n",
       "    <tr>\n",
       "      <th rowspan=\"3\" valign=\"top\">24</th>\n",
       "      <th>2016</th>\n",
       "      <td>1</td>\n",
       "    </tr>\n",
       "    <tr>\n",
       "      <th>2017</th>\n",
       "      <td>1</td>\n",
       "    </tr>\n",
       "    <tr>\n",
       "      <th>2019</th>\n",
       "      <td>1</td>\n",
       "    </tr>\n",
       "  </tbody>\n",
       "</table>\n",
       "</div>"
      ],
      "text/plain": [
       "          count\n",
       "bid year       \n",
       "19  2017      1\n",
       "    2018      1\n",
       "24  2016      1\n",
       "    2017      1\n",
       "    2019      1"
      ]
     },
     "execution_count": 284,
     "metadata": {},
     "output_type": "execute_result"
    }
   ],
   "source": [
    "indexed = ins.groupby(['bid', 'year']).count()\n",
    "num_inspections = indexed.rename(columns={'iid': 'count'})\n",
    "\n",
    "inspections_by_id_and_year = num_inspections.drop(\"date\", axis=1).drop(\"score\", axis=1).drop(\n",
    "    \"type\", axis=1).drop(\"timestamp\", axis=1).drop(\"Missing Score\", axis=1)\n",
    "inspections_by_id_and_year.head()"
   ]
  },
  {
   "cell_type": "code",
   "execution_count": 285,
   "metadata": {
    "deletable": false,
    "editable": false
   },
   "outputs": [
    {
     "data": {
      "text/html": [
       "\n",
       "    \n",
       "    \n",
       "        <p>All tests passed!</p>\n",
       "    \n",
       "    "
      ],
      "text/plain": [
       "\n",
       "    All tests passed!\n",
       "    "
      ]
     },
     "execution_count": 285,
     "metadata": {},
     "output_type": "execute_result"
    }
   ],
   "source": [
    "grader.check(\"q7b\")"
   ]
  },
  {
   "cell_type": "markdown",
   "metadata": {},
   "source": [
    "You should see that some businesses are inspected many times in a single year. Let's get a sense of the distribution of the counts of the number of inspections by calling `value_counts`. There are quite a lot of businesses with 2 inspections in the same year, so it seems like it might be interesting to see what we can learn from such businesses."
   ]
  },
  {
   "cell_type": "code",
   "execution_count": 286,
   "metadata": {},
   "outputs": [
    {
     "data": {
      "text/plain": [
       "1    10580\n",
       "2     1688\n",
       "3       25\n",
       "Name: count, dtype: int64"
      ]
     },
     "execution_count": 286,
     "metadata": {},
     "output_type": "execute_result"
    }
   ],
   "source": [
    "inspections_by_id_and_year['count'].value_counts()"
   ]
  },
  {
   "cell_type": "markdown",
   "metadata": {
    "deletable": false,
    "editable": false
   },
   "source": [
    "<br/><br/><br/>\n",
    "\n",
    "---\n",
    "\n",
    "\n",
    "### Question 7c\n",
    "\n",
    "What's the relationship between the first and second scores for the businesses with 2 inspections in a year? Do they typically improve? For simplicity, let's focus on only 2018 for this problem, using `ins2018` data frame that will be created for you below.\n",
    "\n",
    "First, make a dataframe called `scores_pairs_by_business` indexed by `business_id` (containing only businesses with exactly 2 inspections in 2018). This dataframe contains the field score_pair consisting of the score pairs ordered chronologically [first_score, second_score].\n",
    "\n",
    "Plot these scores. That is, make a scatter plot to display these pairs of scores. Include on the plot a reference line with slope 1.\n",
    "\n",
    "You may find the functions `sort_values`, `groupby`, `filter` and `agg` helpful, though not all necessary.\n",
    "\n",
    "The first few rows of the resulting table should look something like:\n",
    "\n",
    "|  **bid**   | **score_pair** |\n",
    "|-----|------------|\n",
    "| 48  | [94, 87]   |\n",
    "| 66  | [98, 98]   |\n",
    "| 146  | [81, 90]   |\n",
    "| 184  | [90, 96]  |\n",
    "| 273  | [83, 84]   |\n",
    "\n",
    "In the cell below, create `scores_pairs_by_business` as described above.\n",
    "\n",
    "Note: Each score pair must be a list type; numpy arrays will not pass the autograder.\n",
    "\n",
    "Hint: Use the filter method from lecture 5 to create a new dataframe that only contains restaurants that received exactly 2 inspections.\n",
    "\n",
    "Hint: Our code that creates the needed DataFrame is a single line of code that uses `sort_values`, `groupby`, `filter`, `groupby`, `agg`, and `rename` in that order. Your answer does not need to use these exact methods.\n",
    "\n",
    "<!--\n",
    "BEGIN QUESTION\n",
    "name: q7ci\n",
    "points: 4\n",
    "-->"
   ]
  },
  {
   "cell_type": "code",
   "execution_count": 287,
   "metadata": {},
   "outputs": [
    {
     "data": {
      "text/html": [
       "<div>\n",
       "<style scoped>\n",
       "    .dataframe tbody tr th:only-of-type {\n",
       "        vertical-align: middle;\n",
       "    }\n",
       "\n",
       "    .dataframe tbody tr th {\n",
       "        vertical-align: top;\n",
       "    }\n",
       "\n",
       "    .dataframe thead th {\n",
       "        text-align: right;\n",
       "    }\n",
       "</style>\n",
       "<table border=\"1\" class=\"dataframe\">\n",
       "  <thead>\n",
       "    <tr style=\"text-align: right;\">\n",
       "      <th></th>\n",
       "      <th>score_pair</th>\n",
       "    </tr>\n",
       "    <tr>\n",
       "      <th>bid</th>\n",
       "      <th></th>\n",
       "    </tr>\n",
       "  </thead>\n",
       "  <tbody>\n",
       "    <tr>\n",
       "      <th>48</th>\n",
       "      <td>[94, 87]</td>\n",
       "    </tr>\n",
       "    <tr>\n",
       "      <th>66</th>\n",
       "      <td>[98, 98]</td>\n",
       "    </tr>\n",
       "    <tr>\n",
       "      <th>146</th>\n",
       "      <td>[81, 90]</td>\n",
       "    </tr>\n",
       "    <tr>\n",
       "      <th>184</th>\n",
       "      <td>[90, 96]</td>\n",
       "    </tr>\n",
       "    <tr>\n",
       "      <th>273</th>\n",
       "      <td>[83, 84]</td>\n",
       "    </tr>\n",
       "    <tr>\n",
       "      <th>...</th>\n",
       "      <td>...</td>\n",
       "    </tr>\n",
       "    <tr>\n",
       "      <th>95621</th>\n",
       "      <td>[100, 100]</td>\n",
       "    </tr>\n",
       "    <tr>\n",
       "      <th>95628</th>\n",
       "      <td>[75, 75]</td>\n",
       "    </tr>\n",
       "    <tr>\n",
       "      <th>95674</th>\n",
       "      <td>[100, 96]</td>\n",
       "    </tr>\n",
       "    <tr>\n",
       "      <th>95761</th>\n",
       "      <td>[91, 87]</td>\n",
       "    </tr>\n",
       "    <tr>\n",
       "      <th>95764</th>\n",
       "      <td>[100, 92]</td>\n",
       "    </tr>\n",
       "  </tbody>\n",
       "</table>\n",
       "<p>535 rows × 1 columns</p>\n",
       "</div>"
      ],
      "text/plain": [
       "       score_pair\n",
       "bid              \n",
       "48       [94, 87]\n",
       "66       [98, 98]\n",
       "146      [81, 90]\n",
       "184      [90, 96]\n",
       "273      [83, 84]\n",
       "...           ...\n",
       "95621  [100, 100]\n",
       "95628    [75, 75]\n",
       "95674   [100, 96]\n",
       "95761    [91, 87]\n",
       "95764   [100, 92]\n",
       "\n",
       "[535 rows x 1 columns]"
      ]
     },
     "execution_count": 287,
     "metadata": {},
     "output_type": "execute_result"
    }
   ],
   "source": [
    "ins2018 = ins[ins['year'] == 2018]\n",
    "# Create the dataframe here\n",
    "sort = ins2018[ins2018['score'] > 0].sort_values(['bid', 'date'])\n",
    "sort['num scores'] = sort.groupby('bid')['bid'].transform('count')\n",
    "\n",
    "\n",
    "bid_score = sort[sort['num scores'] == 2][['bid', 'score']]\n",
    "\n",
    "def helper(x):\n",
    "    return list(x)\n",
    "\n",
    "scores_pairs_by_business = bid_score.groupby('bid').agg(helper).rename(columns = {'score': 'score_pair'})\n",
    "scores_pairs_by_business"
   ]
  },
  {
   "cell_type": "code",
   "execution_count": 288,
   "metadata": {
    "deletable": false,
    "editable": false
   },
   "outputs": [
    {
     "data": {
      "text/html": [
       "\n",
       "    \n",
       "    \n",
       "        <p>All tests passed!</p>\n",
       "    \n",
       "    "
      ],
      "text/plain": [
       "\n",
       "    All tests passed!\n",
       "    "
      ]
     },
     "execution_count": 288,
     "metadata": {},
     "output_type": "execute_result"
    }
   ],
   "source": [
    "grader.check(\"q7ci\")"
   ]
  },
  {
   "cell_type": "markdown",
   "metadata": {
    "deletable": false,
    "editable": false
   },
   "source": [
    "<!-- BEGIN QUESTION -->\n",
    "\n",
    "Now, create your scatter plot in the cell below. It does not need to look exactly the same (e.g., no grid) as the sample below, but make sure that all labels, axes and data itself are correct.\n",
    "\n",
    "![](pics/7c.png)\n",
    "\n",
    "Key pieces of syntax you'll need:\n",
    "\n",
    "`plt.scatter` plots a set of points. Use `facecolors='none'` and `edgecolors=b` to make circle markers with blue borders. \n",
    "\n",
    "`plt.plot` for the reference line.\n",
    "\n",
    "`plt.xlabel`, `plt.ylabel`, `plt.axis`, and `plt.title`.\n",
    "\n",
    "Hint: You may find it convenient to use the `zip()` function to unzip scores in the list.\n",
    "\n",
    "<!--\n",
    "BEGIN QUESTION\n",
    "name: q7cii\n",
    "points: 2\n",
    "manual: True\n",
    "-->"
   ]
  },
  {
   "cell_type": "code",
   "execution_count": 289,
   "metadata": {},
   "outputs": [
    {
     "data": {
      "text/plain": [
       "Text(0.5, 1.0, 'First Inspection Score vs. Second Inspection Score')"
      ]
     },
     "execution_count": 289,
     "metadata": {},
     "output_type": "execute_result"
    },
    {
     "data": {
      "image/png": "[encoded data removed]",
      "text/plain": [
       "<Figure size 432x288 with 1 Axes>"
      ]
     },
     "metadata": {},
     "output_type": "display_data"
    }
   ],
   "source": [
    "x = scores_pairs_by_business['score_pair'].map(lambda x: x[0])\n",
    "y = scores_pairs_by_business['score_pair'].map(lambda x: x[1])\n",
    "\n",
    "\n",
    "plt.plot(np.arange(55, 100), np.arange(55, 100), color = 'red')\n",
    "plt.axis([55, 100, 55, 100])\n",
    "plt.scatter(x, y, facecolors = 'none', edgecolors = 'blue')\n",
    "\n",
    "plt.xlabel('First Score', fontsize = 12)\n",
    "plt.ylabel('Second Score', fontsize = 12)\n",
    "plt.title('First Inspection Score vs. Second Inspection Score', fontsize = 14)"
   ]
  },
  {
   "cell_type": "markdown",
   "metadata": {
    "deletable": false,
    "editable": false
   },
   "source": [
    "<!-- END QUESTION -->\n",
    "\n",
    "<!-- BEGIN QUESTION -->\n",
    "\n",
    "<br/><br/><br/>\n",
    "\n",
    "\n",
    "---\n",
    "\n",
    "\n",
    "### Question 7d\n",
    "\n",
    "Another way to compare the scores from the two inspections is to examine the difference in scores. Subtract the first score from the second in `scores_pairs_by_business`. Make a histogram of these differences in the scores. We might expect these differences to be positive, indicating an improvement from the first to the second inspection.\n",
    "\n",
    "The histogram should look like this:\n",
    "\n",
    "![](pics/7d.png)\n",
    "\n",
    "Hint: Use `second_score` and `first_score` created in the scatter plot code above.\n",
    "\n",
    "Hint: Convert the scores into numpy arrays to make them easier to deal with.\n",
    "\n",
    "Hint: Use `plt.hist()` Try changing the number of bins when you call `plt.hist()`.\n",
    "\n",
    "<!--\n",
    "BEGIN QUESTION\n",
    "name: q7d\n",
    "points: 2\n",
    "manual: True\n",
    "-->"
   ]
  },
  {
   "cell_type": "code",
   "execution_count": 290,
   "metadata": {},
   "outputs": [
    {
     "data": {
      "text/plain": [
       "Text(0.5, 1.0, 'Distribution of Score Differences')"
      ]
     },
     "execution_count": 290,
     "metadata": {},
     "output_type": "execute_result"
    },
    {
     "data": {
      "image/png": "[encoded data removed]",
      "text/plain": [
       "<Figure size 432x288 with 1 Axes>"
      ]
     },
     "metadata": {},
     "output_type": "display_data"
    }
   ],
   "source": [
    "diff_in_scores = y - x\n",
    "\n",
    "plt.hist(diff_in_scores.values, bins = 30, ec = 'black')\n",
    "plt.xlabel(\"Score Difference (Second Score - First Score)\", fontsize = 12)\n",
    "plt.ylabel(\"Count\", fontsize = 12)\n",
    "plt.title(\"Distribution of Score Differences\", fontsize = 14)"
   ]
  },
  {
   "cell_type": "markdown",
   "metadata": {
    "deletable": false,
    "editable": false
   },
   "source": [
    "<!-- END QUESTION -->\n",
    "\n",
    "<!-- BEGIN QUESTION -->\n",
    "\n",
    "<br/><br/><br/>\n",
    "\n",
    "\n",
    "---\n",
    "\n",
    "\n",
    "### Question 7e\n",
    "\n",
    "If restaurants' scores tend to improve from the first to the second inspection, what do you expect to see in the scatter plot that you made in question 7c? What do you oberve from the plot? Are your observations consistent with your expectations? \n",
    "\n",
    "Hint: What does the slope represent?\n",
    "\n",
    "<!--\n",
    "BEGIN QUESTION\n",
    "name: q7e\n",
    "points: 1\n",
    "manual: True\n",
    "-->"
   ]
  },
  {
   "cell_type": "markdown",
   "metadata": {},
   "source": [
    "_Since scores improve from first to second inspection, I would think the slope would be greater than 1 so that the points are mostly in the upper right instead of how it is right now (symmetrical around the line). This balanced distribution indicates that most businesses had the same score or around the same score in both inspections, or that the score increased/decreased the same amount. Essentially, it does not indicate that the restaurant's scores increased from the first to the second inspection._"
   ]
  },
  {
   "cell_type": "markdown",
   "metadata": {
    "deletable": false,
    "editable": false
   },
   "source": [
    "<!-- END QUESTION -->\n",
    "\n",
    "<!-- BEGIN QUESTION -->\n",
    "\n",
    "<br/><br/><br/>\n",
    "\n",
    "---\n",
    "\n",
    "### Question 7f\n",
    "\n",
    "If a restaurant's score improves from the first to the second inspection, how would this be reflected in the histogram of the difference in the scores that you made in question 7d? What do you oberve from the plot? Are your observations consistent with your expectations? Explain your observations in the language of Statistics: for instance, the center, the spread, the deviation etc.\n",
    "\n",
    "<!--\n",
    "BEGIN QUESTION\n",
    "name: q7f\n",
    "points: 1\n",
    "manual: True\n",
    "-->"
   ]
  },
  {
   "cell_type": "markdown",
   "metadata": {},
   "source": [
    "_If a restaurant's score improves from the first to second inspection, it would be reflected in the histogram with the center being greater than 0 and the graph would be heavily skewed to the right to indicate the difference is positive. The spread of the graph would be relatively equal skewed to the right, indicating more restaurants have a positive diference. Instead, however, the histogram is centered around -2 and is skewed to the left rather than right. This indicates that, in fact, scores were worse from the first to the second inspection. This could be for various reasons, perhaps the inspectors are less lenient when issues aren't dealt with after the first inspection, although I personally expected that restaurants would attempt to address any issues from their first inspection in order to gain a better score and attract more business._"
   ]
  },
  {
   "cell_type": "markdown",
   "metadata": {
    "deletable": false,
    "editable": false
   },
   "source": [
    "<!-- END QUESTION -->\n",
    "\n",
    "<!-- BEGIN QUESTION -->\n",
    "\n",
    "<br/><br/><br/>\n",
    "\n",
    "---\n",
    "\n",
    "### Question 7g \n",
    "To wrap up our analysis of the restaurant ratings over time, one final metric we will be looking at is the distribution of restaurant scores over time. Create a side-by-side boxplot that shows the distribution of these scores for each different risk category from 2017 to 2019. Use a figure size of at least 12 by 8.\n",
    "\n",
    "The boxplot should look similar to the sample below. Make sure the boxes are in the correct order!\n",
    "\n",
    "![](pics/7g.png)\n",
    "\n",
    "**Hint**: Use `sns.boxplot()`. Try taking a look at the first several parameters. [The documentation is linked here!](https://seaborn.pydata.org/generated/seaborn.boxplot.html)\n",
    "\n",
    "**Hint**: Use `plt.figure()` to adjust the figure size of your plot.\n",
    "\n",
    "<!--\n",
    "BEGIN QUESTION\n",
    "name: q7g\n",
    "points: 3\n",
    "manual: True\n",
    "-->"
   ]
  },
  {
   "cell_type": "code",
   "execution_count": 291,
   "metadata": {
    "scrolled": true
   },
   "outputs": [
    {
     "data": {
      "image/png": "[encoded data removed]",
      "text/plain": [
       "<Figure size 864x576 with 1 Axes>"
      ]
     },
     "metadata": {},
     "output_type": "display_data"
    }
   ],
   "source": [
    "# Do not modify this line\n",
    "sns.set()\n",
    "\n",
    "merge = ins2vio.merge(ins, how = 'outer', on = 'iid').merge(vio, how = 'outer', on = 'vid')\n",
    "merge['year'] = merge['timestamp'].dt.year\n",
    "\n",
    "positive_scores = merge[merge['score'] > 0]\n",
    "year_range = positive_scores[positive_scores['year']>2016]\n",
    "\n",
    "convert = {'year': int}\n",
    "year_range = year_range.astype(convert)\n",
    "\n",
    "plt.figure(figsize = (12, 8))\n",
    "plot = sns.boxplot(x = 'year', y = 'score', hue = 'risk_category', data = year_range, hue_order = ['Low Risk', 'Moderate Risk', 'High Risk'])"
   ]
  },
  {
   "cell_type": "markdown",
   "metadata": {},
   "source": [
    "<!-- END QUESTION -->\n",
    "\n",
    "\n",
    "\n",
    "## Summary of Inspections Data\n",
    "\n",
    "We have done a lot in this project! Below are some examples of what we have learned about the inspections data through some cool visualizations!\n",
    "\n",
    "- We found that the records are at the inspection level and that we have inspections for multiple years.\n",
    "- We also found that many restaurants have more than one inspection a year.\n",
    "- By joining the business and inspection data, we identified the name of the restaurant with the worst rating and optionally the names of the restaurants with the best rating.\n",
    "- We identified the restaurant that had the largest swing in rating over time.\n",
    "- We also examined the change of scores over time! Many restaurants are not actually doing better."
   ]
  },
  {
   "cell_type": "markdown",
   "metadata": {
    "deletable": false,
    "editable": false
   },
   "source": [
    "<!-- BEGIN QUESTION -->\n",
    "\n",
    "<br/><br/><br/>\n",
    "\n",
    "---\n",
    "\n",
    "<br/><br/><br/>\n",
    "\n",
    "# 8: Open Ended Question \n",
    "## Question 8a\n",
    "\n",
    "### Compute Something Interesting\n",
    "\n",
    "Play with the data and try to compute something interesting about the data. Please try to use at least one of groupby, pivot, or merge (or all of the above).  \n",
    "\n",
    "Please show your work in the cell below and describe in words what you found in the same cell. This question will be graded leniently but good solutions may be used to create future homework problems.\n",
    "\n",
    "### Grading ###\n",
    "\n",
    "Since the question is more open ended, we will have a more relaxed rubric, classifying your answers into the following three categories:\n",
    "\n",
    "- **Great** (4 points): Uses a combination of pandas operations (such as groupby, pivot, merge) to answer a relevant question about the data. The text description provides a reasonable interpretation of the result.\n",
    "- **Passing** (1-3 points): Computation is flawed or very simple. The text description is incomplete but makes some sense.\n",
    "- **Unsatisfactory** (0 points): No computation is performed, or a computation with completely wrong results.\n",
    "\n",
    "\n",
    "**Please have both your code and your explanation in the same one cell below. Any work in any other cell will not be graded.**\n",
    "\n",
    "\n",
    "<!--\n",
    "BEGIN QUESTION\n",
    "name: q8a\n",
    "points: 4\n",
    "manual: True\n",
    "-->\n",
    "\n"
   ]
  },
  {
   "cell_type": "code",
   "execution_count": 292,
   "metadata": {},
   "outputs": [
    {
     "name": "stdout",
     "output_type": "stream",
     "text": [
      "               Difference in Scores\n",
      "risk_category                      \n",
      "High Risk                         5\n",
      "Low Risk                         14\n",
      "Moderate Risk                    10\n",
      "               Difference in Scores\n",
      "risk_category                      \n",
      "High Risk                       239\n",
      "Low Risk                       1043\n",
      "Moderate Risk                   672\n",
      "               Difference in Scores\n",
      "risk_category                      \n",
      "High Risk                       290\n",
      "Low Risk                        831\n",
      "Moderate Risk                   725\n",
      "               Difference in Scores\n",
      "risk_category                      \n",
      "High Risk                       348\n",
      "Low Risk                        945\n",
      "Moderate Risk                   806\n"
     ]
    }
   ],
   "source": [
    "ins2vio['bid'] = ins2vio['iid'].str.split(pat='_', expand=True).astype(int)[0]\n",
    "ins2vio_dropped = ins2vio.drop(\"iid\", axis=1)\n",
    "ins2vio_vio = ins2vio_dropped.merge(vio, how='outer', on='vid')\n",
    "\n",
    "ins2016 = ins[ins['year'] == 2016]\n",
    "ins2017 = ins[ins['year'] == 2017]\n",
    "ins2018 = ins[ins['year'] == 2018]\n",
    "ins2019 = ins[ins['year'] == 2019]\n",
    "\n",
    "\n",
    "def helper(x):\n",
    "    return list(x)\n",
    "\n",
    "\n",
    "sort2016 = ins2016[ins2016['score'] > 0].sort_values(['bid', 'date'])\n",
    "sort2016['num scores'] = sort2016.groupby('bid')['bid'].transform('count')\n",
    "bid_score2016 = sort2016[sort2016['num scores'] == 2][['bid', 'score']]\n",
    "score_pairs2016 = bid_score2016.groupby('bid').agg(helper).rename(columns = {'score': 'score_pair'})\n",
    "\n",
    "\n",
    "sort2017 = ins2017[ins2017['score'] > 0].sort_values(['bid', 'date'])\n",
    "sort2017['num scores'] = sort2017.groupby('bid')['bid'].transform('count')\n",
    "bid_score2017 = sort2017[sort2017['num scores'] == 2][['bid', 'score']]\n",
    "score_pairs2017 = bid_score2017.groupby('bid').agg(helper).rename(columns = {'score': 'score_pair'})\n",
    "\n",
    "\n",
    "score_pairs2018 = scores_pairs_by_business\n",
    "\n",
    "\n",
    "sort2019 = ins2019[ins2019['score'] > 0].sort_values(['bid', 'date'])\n",
    "sort2019['num scores'] = sort2019.groupby('bid')['bid'].transform('count')\n",
    "bid_score2019 = sort2019[sort2019['num scores'] == 2][['bid', 'score']]\n",
    "score_pairs2019 = bid_score2019.groupby('bid').agg(helper).rename(columns = {'score': 'score_pair'})\n",
    "\n",
    "\n",
    "\n",
    "dataframe_list = [score_pairs2016, score_pairs2017, score_pairs2018, score_pairs2019]\n",
    "\n",
    "\n",
    "for dataframe in dataframe_list:\n",
    "    x = dataframe['score_pair'].map(lambda x: x[0])\n",
    "    y = dataframe['score_pair'].map(lambda x: x[1])\n",
    "\n",
    "    data = y-x\n",
    "    dataframe['Difference in Scores'] = data\n",
    "    \n",
    "reset = score_pairs2016.reset_index()\n",
    "\n",
    "merged2016 = reset.merge(ins2vio_vio, how='left', on='bid')\n",
    "merged2017 = score_pairs2017.merge(ins2vio_vio, how='left', on='bid')\n",
    "merged2018 = score_pairs2018.merge(ins2vio_vio, how='left', on='bid')\n",
    "merged2019 = score_pairs2019.merge(ins2vio_vio, how='left', on='bid')\n",
    "\n",
    "    \n",
    "negatives2016 = merged2016[merged2016['Difference in Scores'] < 0]\n",
    "negatives2017 = merged2017[merged2017['Difference in Scores'] < 0]\n",
    "negatives2018 = merged2018[merged2018['Difference in Scores'] < 0]\n",
    "negatives2019 = merged2019[merged2019['Difference in Scores'] < 0]\n",
    "\n",
    "\n",
    "negatives2016_relevant = negatives2016.sort_values(['Difference in Scores', 'risk_category']).drop(\"bid\", axis=1).drop(\"score_pair\", axis=1).drop(\"vid\", axis=1).drop(\"description\", axis=1)\n",
    "negatives2017_relevant = negatives2017.sort_values(['Difference in Scores', 'risk_category']).drop(\"bid\", axis=1).drop(\"score_pair\", axis=1).drop(\"vid\", axis=1).drop(\"description\", axis=1)\n",
    "negatives2018_relevant = negatives2018.sort_values(['Difference in Scores', 'risk_category']).drop(\"bid\", axis=1).drop(\"score_pair\", axis=1).drop(\"vid\", axis=1).drop(\"description\", axis=1)\n",
    "negatives2019_relevant = negatives2019.sort_values(['Difference in Scores', 'risk_category']).drop(\"bid\", axis=1).drop(\"score_pair\", axis=1).drop(\"vid\", axis=1).drop(\"description\", axis=1)\n",
    "\n",
    "\n",
    "risks2016 = negatives2016_relevant.groupby(\"risk_category\").agg(\"count\")\n",
    "risks2017 = negatives2017_relevant.groupby(\"risk_category\").agg(\"count\")\n",
    "risks2018 = negatives2018_relevant.groupby(\"risk_category\").agg(\"count\")\n",
    "risks2019 = negatives2019_relevant.groupby(\"risk_category\").agg(\"count\")\n",
    "\n",
    "\n",
    "\n",
    "risks_list = [risks2016, risks2017, risks2018, risks2019]\n",
    "\n",
    "for risks in risks_list:\n",
    "    print(risks)\n",
    "\n",
    "    \n",
    "\n",
    "#After seeing that there was a decent amount of businesses in 2018 whose score from a second inspection was \n",
    "#lower than the first inspection, I wanted to see what the majority of violations looked like for these businesses.\n",
    "#Before doing any computations, I assumed that, for all four years, there would be a large amount of low risk\n",
    "#violations and a small amount of moderate and high risk violations, simply because smaller violations can\n",
    "#sometimes be overlooked by restaurants during their everyday work. For example, businesses are more likely\n",
    "#to check for pests and ensure food isn't contaminated than following safety guidelines to a T. After doing\n",
    "#the calculations, I saw that low risks were in the majority for all four years. However, what surprised me was\n",
    "#that there was a substantial amount of moderate risks as well. In 2016, 2018, and 2019, moderate risks were\n",
    "#not that far off from the amount of low risk violations, with moderate risk violations being 71.5%, 87.2%, and\n",
    "#85.3% of low risk violations in 2016, 2018, and 2019 respectfully. I did not expect this because, looking at the\n",
    "#type of violations classified as moderate, I am surprised that these kinds of violations occur so frequently.\n"
   ]
  },
  {
   "cell_type": "markdown",
   "metadata": {},
   "source": [
    "<!-- END QUESTION -->\n",
    "\n",
    "\n",
    "\n",
    "<br/><br/><br/><br/>\n",
    "\n",
    "---\n",
    "\n",
    "<br/><br/>\n",
    "\n",
    "## Question 8b \n",
    "\n",
    "### Create some more cool visualizations!\n",
    "\n",
    "<br/>"
   ]
  },
  {
   "cell_type": "markdown",
   "metadata": {},
   "source": [
    "Play with the data, and try to produce some visualizations to answer one question that you find interesting regarding the data. You might want to use `merge`/`groupby`/`pivot` to process the data before creating visualizations.\n",
    "\n",
    "Please show your work in the cells below (feel free to use extra cells if you want), and describe in words what you found in the same cell. This question will be graded leniently, but good solutions may be used to create future homework problems. \n",
    "\n",
    "\n"
   ]
  },
  {
   "cell_type": "markdown",
   "metadata": {
    "deletable": false,
    "editable": false
   },
   "source": [
    "<!-- BEGIN QUESTION -->\n",
    "\n",
    "### Grading ###\n",
    "\n",
    "Since the question is more open ended, we will have a more relaxed rubric, classifying your answers into the following three categories:\n",
    "\n",
    "- **Great** (4 points): The chart is well designed, and the data computation is correct. The text written articulates a reasonable metric and correctly describes the relevant insight and answer to the question you are interested in.\n",
    "- **Passing** (1-3 points): A chart is produced but with some flaws such as bad encoding. The text written is incomplete but makes some sense.\n",
    "- **Unsatisfactory** (0 points): No chart is created, or a chart with completely wrong results.\n",
    "\n",
    "We will lean towards being generous with the grading. We might also either discuss in discussion or post on Piazza some examplar analysis you have done (with your permission)!\n",
    "\n",
    "You should have the following in your answers:\n",
    "* a few visualizations; Please limit your visualizations to 5 plots.\n",
    "* a few sentences (not too long please!)\n",
    "\n",
    "Please note that you will only receive support in OH and Piazza for Matplotlib and seaborn questions. However, you may use some other Python libraries to help you create you visualizations. If you do so, make sure it is compatible with the PDF export (e.g., Plotly does not create PDFs properly, which we need for Gradescope).\n",
    "\n",
    "<!--\n",
    "BEGIN QUESTION\n",
    "name: q8b\n",
    "points: 4\n",
    "manual: True\n",
    "-->"
   ]
  },
  {
   "cell_type": "code",
   "execution_count": 293,
   "metadata": {},
   "outputs": [
    {
     "name": "stdout",
     "output_type": "stream",
     "text": [
      "               Difference in Scores\n",
      "risk_category                      \n",
      "High Risk                       170\n",
      "Low Risk                        494\n",
      "Moderate Risk                   433\n",
      "               Difference in Scores\n",
      "risk_category                      \n",
      "High Risk                       130\n",
      "Low Risk                        375\n",
      "Moderate Risk                   280\n",
      "               Difference in Scores\n",
      "risk_category                      \n",
      "High Risk                        27\n",
      "Low Risk                         45\n",
      "Moderate Risk                    57\n",
      "               Difference in Scores\n",
      "risk_category                      \n",
      "High Risk                        21\n",
      "Low Risk                         31\n",
      "Moderate Risk                    36\n"
     ]
    },
    {
     "data": {
      "text/plain": [
       "Text(0, 0.5, 'Number of Violations')"
      ]
     },
     "execution_count": 293,
     "metadata": {},
     "output_type": "execute_result"
    },
    {
     "data": {
      "image/png": "[encoded data removed]",
      "text/plain": [
       "<Figure size 1080x1080 with 4 Axes>"
      ]
     },
     "metadata": {},
     "output_type": "display_data"
    }
   ],
   "source": [
    "negatives2019 = merged2019[merged2019['Difference in Scores'] < 0]\n",
    "\n",
    "merged2019.sort_values(['Difference in Scores', 'risk_category']) #to find out the range of Difference in Scores(-18 to 29)\n",
    "\n",
    "fourth = 18*.25\n",
    "half = 18*.5\n",
    "three_quarters = 18*.75\n",
    "\n",
    "percent25 = negatives2019[negatives2019['Difference in Scores'] >= -(fourth)]\n",
    "\n",
    "mid1 = negatives2019[negatives2019['Difference in Scores'] < -(fourth)]\n",
    "percent50 = mid1[mid1['Difference in Scores'] >= -(half)]\n",
    "\n",
    "mid2 = negatives2019[negatives2019['Difference in Scores'] < -(half)]\n",
    "percent75 = mid2[mid2['Difference in Scores'] >= -(three_quarters)]\n",
    "\n",
    "mid3 = negatives2019[negatives2019['Difference in Scores'] < -(three_quarters)]\n",
    "percent100 = mid3[mid3['Difference in Scores'] >= -18]\n",
    "\n",
    "percent25_relevant = percent25.sort_values(['Difference in Scores', 'risk_category']).drop(\"bid\", axis=1).drop(\"score_pair\", axis=1).drop(\"vid\", axis=1).drop(\"description\", axis=1)\n",
    "percent50_relevant = percent50.sort_values(['Difference in Scores', 'risk_category']).drop(\"bid\", axis=1).drop(\"score_pair\", axis=1).drop(\"vid\", axis=1).drop(\"description\", axis=1)\n",
    "percent75_relevant = percent75.sort_values(['Difference in Scores', 'risk_category']).drop(\"bid\", axis=1).drop(\"score_pair\", axis=1).drop(\"vid\", axis=1).drop(\"description\", axis=1)\n",
    "percent100_relevant = percent100.sort_values(['Difference in Scores', 'risk_category']).drop(\"bid\", axis=1).drop(\"score_pair\", axis=1).drop(\"vid\", axis=1).drop(\"description\", axis=1)\n",
    "\n",
    "\n",
    "risks25 = percent25_relevant.groupby(\"risk_category\").agg(\"count\")\n",
    "risks50 = percent50_relevant.groupby(\"risk_category\").agg(\"count\")\n",
    "risks75 = percent75_relevant.groupby(\"risk_category\").agg(\"count\")\n",
    "risks100 = percent100_relevant.groupby(\"risk_category\").agg(\"count\")\n",
    "\n",
    "\n",
    "percent_risks_list = [risks25, risks50, risks75, risks100]\n",
    "\n",
    "for risks in percent_risks_list:\n",
    "    print(risks)\n",
    "\n",
    "reset_25 = risks25.reset_index()\n",
    "reset_50 = risks50.reset_index()\n",
    "reset_75 = risks75.reset_index()\n",
    "reset_100 = risks100.reset_index()\n",
    "\n",
    "\n",
    "fig = plt.figure(figsize = (15, 15))\n",
    "fig.suptitle(\"Analysis of Risk Categories v. Difference in Scores in 2019\")\n",
    "\n",
    "bin_range = np.arange(40, 100)\n",
    "\n",
    "fig.subplots_adjust(left = 0.125, \n",
    "                    right = 0.9,\n",
    "                    bottom = 0.1,\n",
    "                    top = 0.9,\n",
    "                    wspace = 0.5,\n",
    "                    hspace = 0.5)\n",
    "\n",
    "\n",
    "\n",
    "first_subgroup = fig.add_subplot(321)\n",
    "plt.bar(reset_25['risk_category'], reset_25['Difference in Scores'], color = \"pink\")\n",
    "first_subgroup.set_title(\"Number of Violations for Each Risk Category: up to 25% Points Lost\")\n",
    "first_subgroup.set_xlabel(\"Risk Categories\")\n",
    "first_subgroup.set_ylabel(\"Number of Violations\")\n",
    "\n",
    "second_subgroup = fig.add_subplot(322)\n",
    "plt.bar(reset_50['risk_category'], reset_50['Difference in Scores'], color = \"purple\")\n",
    "second_subgroup.set_title(\"Number of Violations for Each Risk Category: 26% to 50% Points Lost\")\n",
    "second_subgroup.set_xlabel(\"Risk Categories\")\n",
    "second_subgroup.set_ylabel(\"Number of Violations\")\n",
    "\n",
    "third_subgroup = fig.add_subplot(323)\n",
    "plt.bar(reset_75['risk_category'], reset_75['Difference in Scores'], color = \"cyan\")\n",
    "third_subgroup.set_title(\"Number of Violations for Each Risk Category: 50% to 75% Points Lost\")\n",
    "third_subgroup.set_xlabel(\"Risk Categories\")\n",
    "third_subgroup.set_ylabel(\"Number of Violations\")\n",
    "\n",
    "fourth_subgroup = fig.add_subplot(324)\n",
    "plt.bar(reset_100['risk_category'], reset_100['Difference in Scores'], color = \"orange\")\n",
    "fourth_subgroup.set_title(\"Number of Violations for Each Risk Category: 75% to 100% Points Lost\")\n",
    "fourth_subgroup.set_xlabel(\"Risk Categories\")\n",
    "fourth_subgroup.set_ylabel(\"Number of Violations\")\n",
    "\n",
    "\n",
    "\n",
    "\n",
    "\n",
    "#Continuing off of the calculations in 8a, I wanted to further break it down, choosing 2019 to identify the\n",
    "#specifically how the risk categories are related to the difference in scores. I hypothesized that the smaller\n",
    "#the difference, the lower the risk of violations. Thus, I expected there to be far more low risk violations in\n",
    "#the first quarter and a far more high risks in the last quarter. This was sort of true, given that low risk\n",
    "#violations were the highest in the first and second quarter. However, moderate risks really surprised me because\n",
    "#they were not far off in those first two quarters and then took over the most common type of risk for the third\n",
    "#and fourth quarter. I had expected high risks to be more frequent for the larger differences, so this was\n",
    "#quite surprising. "
   ]
  },
  {
   "cell_type": "markdown",
   "metadata": {
    "deletable": false,
    "editable": false
   },
   "source": [
    "<!-- END QUESTION -->"
   ]
  },
  {
   "cell_type": "code",
   "execution_count": 294,
   "metadata": {},
   "outputs": [],
   "source": [
    "# THIS CELL AND ANY CELLS ADDED BELOW WILL NOT BE GRADED"
   ]
  },
  {
   "cell_type": "markdown",
   "metadata": {},
   "source": [
    "## Congratulations! You have finished Project 1! ##"
   ]
  },
  {
   "cell_type": "markdown",
   "metadata": {
    "deletable": false,
    "editable": false
   },
   "source": [
    "---\n",
    "\n",
    "To double-check your work, the cell below will rerun all of the autograder tests."
   ]
  },
  {
   "cell_type": "code",
   "execution_count": 295,
   "metadata": {
    "deletable": false,
    "editable": false
   },
   "outputs": [
    {
     "data": {
      "text/html": [
       "<p><strong>q1a:</strong></p>\n",
       "\n",
       "    \n",
       "    \n",
       "        <p>All tests passed!</p>\n",
       "    \n",
       "    \n",
       "\n",
       "<p><strong>q1d:</strong></p>\n",
       "\n",
       "    \n",
       "    \n",
       "        <p>All tests passed!</p>\n",
       "    \n",
       "    \n",
       "\n",
       "<p><strong>q2a:</strong></p>\n",
       "\n",
       "    \n",
       "    \n",
       "        <p>All tests passed!</p>\n",
       "    \n",
       "    \n",
       "\n",
       "<p><strong>q2b:</strong></p>\n",
       "\n",
       "    \n",
       "    \n",
       "        <p>All tests passed!</p>\n",
       "    \n",
       "    \n",
       "\n",
       "<p><strong>q2ci:</strong></p>\n",
       "\n",
       "    \n",
       "    \n",
       "        <p>All tests passed!</p>\n",
       "    \n",
       "    \n",
       "\n",
       "<p><strong>q2cii:</strong></p>\n",
       "\n",
       "    \n",
       "    \n",
       "        <p>All tests passed!</p>\n",
       "    \n",
       "    \n",
       "\n",
       "<p><strong>q2d:</strong></p>\n",
       "\n",
       "    \n",
       "    \n",
       "        <p>All tests passed!</p>\n",
       "    \n",
       "    \n",
       "\n",
       "<p><strong>q3a:</strong></p>\n",
       "\n",
       "    \n",
       "    \n",
       "        <p>All tests passed!</p>\n",
       "    \n",
       "    \n",
       "\n",
       "<p><strong>q3b:</strong></p>\n",
       "\n",
       "    \n",
       "    \n",
       "        <p>All tests passed!</p>\n",
       "    \n",
       "    \n",
       "\n",
       "<p><strong>q3ci:</strong></p>\n",
       "\n",
       "    \n",
       "    \n",
       "        <p>All tests passed!</p>\n",
       "    \n",
       "    \n",
       "\n",
       "<p><strong>q3cii:</strong></p>\n",
       "\n",
       "    \n",
       "    \n",
       "        <p>All tests passed!</p>\n",
       "    \n",
       "    \n",
       "\n",
       "<p><strong>q3d:</strong></p>\n",
       "\n",
       "    \n",
       "    \n",
       "        <p>All tests passed!</p>\n",
       "    \n",
       "    \n",
       "\n",
       "<p><strong>q3e:</strong></p>\n",
       "\n",
       "    \n",
       "    \n",
       "        <p>All tests passed!</p>\n",
       "    \n",
       "    \n",
       "\n",
       "<p><strong>q3f:</strong></p>\n",
       "\n",
       "    \n",
       "    \n",
       "        <p>All tests passed!</p>\n",
       "    \n",
       "    \n",
       "\n",
       "<p><strong>q4a:</strong></p>\n",
       "\n",
       "    \n",
       "    \n",
       "        <p>All tests passed!</p>\n",
       "    \n",
       "    \n",
       "\n",
       "<p><strong>q4bi:</strong></p>\n",
       "\n",
       "    \n",
       "    \n",
       "        <p>All tests passed!</p>\n",
       "    \n",
       "    \n",
       "\n",
       "<p><strong>q4bii:</strong></p>\n",
       "\n",
       "    \n",
       "    \n",
       "        <p>All tests passed!</p>\n",
       "    \n",
       "    \n",
       "\n",
       "<p><strong>q4biii:</strong></p>\n",
       "\n",
       "    \n",
       "    \n",
       "        <p>All tests passed!</p>\n",
       "    \n",
       "    \n",
       "\n",
       "<p><strong>q4ci:</strong></p>\n",
       "\n",
       "    \n",
       "    \n",
       "        <p>All tests passed!</p>\n",
       "    \n",
       "    \n",
       "\n",
       "<p><strong>q4cii:</strong></p>\n",
       "\n",
       "    \n",
       "    \n",
       "        <p>All tests passed!</p>\n",
       "    \n",
       "    \n",
       "\n",
       "<p><strong>q4ciii:</strong></p>\n",
       "\n",
       "    \n",
       "    \n",
       "        <p>All tests passed!</p>\n",
       "    \n",
       "    \n",
       "\n",
       "<p><strong>q4civ:</strong></p>\n",
       "\n",
       "    \n",
       "    \n",
       "        <p>All tests passed!</p>\n",
       "    \n",
       "    \n",
       "\n",
       "<p><strong>q4di:</strong></p>\n",
       "\n",
       "    \n",
       "    \n",
       "        <p>All tests passed!</p>\n",
       "    \n",
       "    \n",
       "\n",
       "<p><strong>q4dii:</strong></p>\n",
       "\n",
       "    \n",
       "    \n",
       "        <p>All tests passed!</p>\n",
       "    \n",
       "    \n",
       "\n",
       "<p><strong>q4e:</strong></p>\n",
       "\n",
       "    \n",
       "    \n",
       "        <p>All tests passed!</p>\n",
       "    \n",
       "    \n",
       "\n",
       "<p><strong>q5a:</strong></p>\n",
       "\n",
       "    \n",
       "    \n",
       "        <p>All tests passed!</p>\n",
       "    \n",
       "    \n",
       "\n",
       "<p><strong>q5b:</strong></p>\n",
       "\n",
       "    \n",
       "    \n",
       "        <p>All tests passed!</p>\n",
       "    \n",
       "    \n",
       "\n",
       "<p><strong>q5c:</strong></p>\n",
       "\n",
       "    \n",
       "    \n",
       "        <p>All tests passed!</p>\n",
       "    \n",
       "    \n",
       "\n",
       "<p><strong>q7a:</strong></p>\n",
       "\n",
       "    \n",
       "    \n",
       "        <p>All tests passed!</p>\n",
       "    \n",
       "    \n",
       "\n",
       "<p><strong>q7b:</strong></p>\n",
       "\n",
       "    \n",
       "    \n",
       "        <p>All tests passed!</p>\n",
       "    \n",
       "    \n",
       "\n",
       "<p><strong>q7ci:</strong></p>\n",
       "\n",
       "    \n",
       "    \n",
       "        <p>All tests passed!</p>\n",
       "    \n",
       "    \n",
       "\n"
      ],
      "text/plain": [
       "q1a:\n",
       "\n",
       "    All tests passed!\n",
       "    \n",
       "\n",
       "q1d:\n",
       "\n",
       "    All tests passed!\n",
       "    \n",
       "\n",
       "q2a:\n",
       "\n",
       "    All tests passed!\n",
       "    \n",
       "\n",
       "q2b:\n",
       "\n",
       "    All tests passed!\n",
       "    \n",
       "\n",
       "q2ci:\n",
       "\n",
       "    All tests passed!\n",
       "    \n",
       "\n",
       "q2cii:\n",
       "\n",
       "    All tests passed!\n",
       "    \n",
       "\n",
       "q2d:\n",
       "\n",
       "    All tests passed!\n",
       "    \n",
       "\n",
       "q3a:\n",
       "\n",
       "    All tests passed!\n",
       "    \n",
       "\n",
       "q3b:\n",
       "\n",
       "    All tests passed!\n",
       "    \n",
       "\n",
       "q3ci:\n",
       "\n",
       "    All tests passed!\n",
       "    \n",
       "\n",
       "q3cii:\n",
       "\n",
       "    All tests passed!\n",
       "    \n",
       "\n",
       "q3d:\n",
       "\n",
       "    All tests passed!\n",
       "    \n",
       "\n",
       "q3e:\n",
       "\n",
       "    All tests passed!\n",
       "    \n",
       "\n",
       "q3f:\n",
       "\n",
       "    All tests passed!\n",
       "    \n",
       "\n",
       "q4a:\n",
       "\n",
       "    All tests passed!\n",
       "    \n",
       "\n",
       "q4bi:\n",
       "\n",
       "    All tests passed!\n",
       "    \n",
       "\n",
       "q4bii:\n",
       "\n",
       "    All tests passed!\n",
       "    \n",
       "\n",
       "q4biii:\n",
       "\n",
       "    All tests passed!\n",
       "    \n",
       "\n",
       "q4ci:\n",
       "\n",
       "    All tests passed!\n",
       "    \n",
       "\n",
       "q4cii:\n",
       "\n",
       "    All tests passed!\n",
       "    \n",
       "\n",
       "q4ciii:\n",
       "\n",
       "    All tests passed!\n",
       "    \n",
       "\n",
       "q4civ:\n",
       "\n",
       "    All tests passed!\n",
       "    \n",
       "\n",
       "q4di:\n",
       "\n",
       "    All tests passed!\n",
       "    \n",
       "\n",
       "q4dii:\n",
       "\n",
       "    All tests passed!\n",
       "    \n",
       "\n",
       "q4e:\n",
       "\n",
       "    All tests passed!\n",
       "    \n",
       "\n",
       "q5a:\n",
       "\n",
       "    All tests passed!\n",
       "    \n",
       "\n",
       "q5b:\n",
       "\n",
       "    All tests passed!\n",
       "    \n",
       "\n",
       "q5c:\n",
       "\n",
       "    All tests passed!\n",
       "    \n",
       "\n",
       "q7a:\n",
       "\n",
       "    All tests passed!\n",
       "    \n",
       "\n",
       "q7b:\n",
       "\n",
       "    All tests passed!\n",
       "    \n",
       "\n",
       "q7ci:\n",
       "\n",
       "    All tests passed!\n",
       "    \n"
      ]
     },
     "execution_count": 295,
     "metadata": {},
     "output_type": "execute_result"
    }
   ],
   "source": [
    "grader.check_all()"
   ]
  },
  {
   "cell_type": "markdown",
   "metadata": {
    "deletable": false,
    "editable": false
   },
   "source": [
    "## Submission\n",
    "\n",
    "Make sure you have run all cells in your notebook in order before running the cell below, so that all images/graphs appear in the output. The cell below will generate a zip file for you to submit. **Please save before exporting!**"
   ]
  },
  {
   "cell_type": "code",
   "execution_count": 296,
   "metadata": {
    "deletable": false,
    "editable": false
   },
   "outputs": [
    {
     "data": {
      "text/html": [
       "\n",
       "                <p>Your submission has been exported. Click <a href=\"proj1.zip\" target=\"_blank\">here</a> \n",
       "                to download the zip file.</p>\n",
       "                "
      ],
      "text/plain": [
       "<IPython.core.display.HTML object>"
      ]
     },
     "metadata": {},
     "output_type": "display_data"
    }
   ],
   "source": [
    "# Save your notebook first, then run this cell to export your submission.\n",
    "grader.export(\"proj1.ipynb\")"
   ]
  },
  {
   "cell_type": "markdown",
   "metadata": {},
   "source": [
    " "
   ]
  }
 ],
 "metadata": {
  "celltoolbar": "Create Assignment",
  "kernelspec": {
   "display_name": "Python 3",
   "language": "python",
   "name": "python3"
  },
  "language_info": {
   "codemirror_mode": {
    "name": "ipython",
    "version": 3
   },
   "file_extension": ".py",
   "mimetype": "text/x-python",
   "name": "python",
   "nbconvert_exporter": "python",
   "pygments_lexer": "ipython3",
   "version": "3.8.5"
  }
 },
 "nbformat": 4,
 "nbformat_minor": 4
}
